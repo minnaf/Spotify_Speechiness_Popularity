{
 "cells": [
  {
   "cell_type": "code",
   "execution_count": 1,
   "metadata": {},
   "outputs": [],
   "source": [
    "import minna_functions as mf"
   ]
  },
  {
   "cell_type": "code",
   "execution_count": 2,
   "metadata": {},
   "outputs": [],
   "source": [
    "import pandas as pd"
   ]
  },
  {
   "cell_type": "code",
   "execution_count": 3,
   "metadata": {},
   "outputs": [],
   "source": [
    "import sqlite3\n",
    "conn = sqlite3.connect('spotify.db')\n",
    "c = conn.cursor()"
   ]
  },
  {
   "cell_type": "markdown",
   "metadata": {},
   "source": [
    "Connect to Database:"
   ]
  },
  {
   "cell_type": "code",
   "execution_count": 5,
   "metadata": {},
   "outputs": [],
   "source": [
    "get_playlist = mf.get_spotify_playlist('BQC3VHoRN5SpumhRPugWcnIGlWaP7kMxK0xAy2kVsnASwTWIVQ2WhY_-_8EImVwmFAJ2sC7VRUlEEW9lX0icHPFf5wkeBOqXMZk-xC3Zr1zbSn6WeiGUsK87g40iJg-xF0KRHzIey2D89mdVLak')"
   ]
  },
  {
   "cell_type": "markdown",
   "metadata": {},
   "source": [
    "Retrieve data for every playlist we want to look at and put it into SQL table:"
   ]
  },
  {
   "cell_type": "code",
   "execution_count": 5,
   "metadata": {
    "scrolled": true
   },
   "outputs": [],
   "source": [
    "#pop hits data\n",
    "get_playlist.get_playlist_SQL('37i9dQZF1DX92MLsP3K1fI', 'pop_hits') \n",
    "get_playlist.get_playlist_SQL('5TDtuKDbOhrfW7C58XnriZ', 'pop_hits')\n",
    "get_playlist.get_playlist_SQL('37i9dQZF1DXcBWIGoYBM5M', 'pop_hits')\n",
    "get_playlist.get_playlist_SQL('37i9dQZF1DWUa8ZRTfalHk', 'pop_hits')"
   ]
  },
  {
   "cell_type": "code",
   "execution_count": 6,
   "metadata": {},
   "outputs": [],
   "source": [
    "#rap data\n",
    "get_playlist.get_playlist_SQL('37i9dQZF1DX0XUsuxWHRQd', 'rap_hits') #rap caviar\n",
    "get_playlist.get_playlist_SQL('5KR0bQIR4BqsgBzV2N54wm', 'rap_hits') #top hip hop\n",
    "get_playlist.get_playlist_SQL('2G2zkK3cBVXB1jSsDMQSk3', 'rap_hits') # top rap hits 2019\n",
    "get_playlist.get_playlist_SQL('37i9dQZF1DX2RxBh64BHjQ', 'rap_hits') #most necessary\n",
    "get_playlist.get_playlist_SQL('37i9dQZF1DWUFmyho2wkQU', 'rap_hits') #hip hop drive"
   ]
  },
  {
   "cell_type": "code",
   "execution_count": 7,
   "metadata": {},
   "outputs": [],
   "source": [
    "#country data\n",
    "get_playlist.get_playlist_SQL('37i9dQZF1DX1lVhptIYRda', 'country_hits') #hot country\n",
    "get_playlist.get_playlist_SQL('37i9dQZF1DX8S0uQvJ4gaa', 'country_hits') #new boots\n",
    "get_playlist.get_playlist_SQL('37i9dQZF1DX5mB2C8gBeUM', 'country_hits') #wild country\n",
    "get_playlist.get_playlist_SQL('37i9dQZF1DWYnwbYQ5HnZU', 'country_hits') #country gold"
   ]
  },
  {
   "cell_type": "code",
   "execution_count": 8,
   "metadata": {},
   "outputs": [],
   "source": [
    "#jazz data \n",
    "get_playlist.get_playlist_SQL('37i9dQZF1DXbITWG1ZJKYt', 'jazz_hits') #jazz classics\n",
    "get_playlist.get_playlist_SQL('37i9dQZF1DX0SM0LYsmbMT', 'jazz_hits') #jazz vibes\n",
    "get_playlist.get_playlist_SQL('0pYnghexkCjipMVbXSiyOb', 'jazz_hits') #Top Jazz hits"
   ]
  },
  {
   "cell_type": "markdown",
   "metadata": {},
   "source": [
    "Convert SQL database to a pandas dataframe:"
   ]
  },
  {
   "cell_type": "code",
   "execution_count": 6,
   "metadata": {},
   "outputs": [],
   "source": [
    "df_pop = get_playlist.SQL_to_dataframe('pop_hits')\n",
    "df_rap = get_playlist.SQL_to_dataframe('rap_hits')\n",
    "df_country = get_playlist.SQL_to_dataframe('country_hits')\n",
    "df_jazz = get_playlist.SQL_to_dataframe('jazz_hits')"
   ]
  },
  {
   "cell_type": "markdown",
   "metadata": {},
   "source": [
    "Retrive audio feature information from each song in the playlist: "
   ]
  },
  {
   "cell_type": "code",
   "execution_count": 7,
   "metadata": {},
   "outputs": [
    {
     "name": "stdout",
     "output_type": "stream",
     "text": [
      "None\n",
      "None\n",
      "None\n",
      "None\n"
     ]
    }
   ],
   "source": [
    "df_pop = get_playlist.song_audio_features(df_pop, 'pop_hits')\n",
    "df_rap = get_playlist.song_audio_features(df_rap, 'rap_hits')\n",
    "df_country = get_playlist.song_audio_features(df_country, 'country_hits')\n",
    "df_jazz = get_playlist.song_audio_features(df_jazz, 'jazz_hits')"
   ]
  },
  {
   "cell_type": "markdown",
   "metadata": {},
   "source": [
    "Make a new column for our genres:"
   ]
  },
  {
   "cell_type": "code",
   "execution_count": 8,
   "metadata": {
    "scrolled": true
   },
   "outputs": [],
   "source": [
    "df_pop['genre'] = 'pop'\n",
    "df_rap['genre'] = 'rap'\n",
    "df_country['genre'] = 'country'\n",
    "df_jazz['genre'] = 'jazz'"
   ]
  },
  {
   "cell_type": "markdown",
   "metadata": {},
   "source": [
    "combine all data frames:"
   ]
  },
  {
   "cell_type": "code",
   "execution_count": 9,
   "metadata": {},
   "outputs": [
    {
     "data": {
      "text/html": [
       "<div>\n",
       "<style scoped>\n",
       "    .dataframe tbody tr th:only-of-type {\n",
       "        vertical-align: middle;\n",
       "    }\n",
       "\n",
       "    .dataframe tbody tr th {\n",
       "        vertical-align: top;\n",
       "    }\n",
       "\n",
       "    .dataframe thead th {\n",
       "        text-align: right;\n",
       "    }\n",
       "</style>\n",
       "<table border=\"1\" class=\"dataframe\">\n",
       "  <thead>\n",
       "    <tr style=\"text-align: right;\">\n",
       "      <th></th>\n",
       "      <th>popularity</th>\n",
       "      <th>speechiness</th>\n",
       "      <th>danceability</th>\n",
       "      <th>energy</th>\n",
       "      <th>liveness</th>\n",
       "      <th>valence</th>\n",
       "    </tr>\n",
       "  </thead>\n",
       "  <tbody>\n",
       "    <tr>\n",
       "      <th>count</th>\n",
       "      <td>973.000000</td>\n",
       "      <td>408.000000</td>\n",
       "      <td>408.000000</td>\n",
       "      <td>408.000000</td>\n",
       "      <td>408.000000</td>\n",
       "      <td>408.000000</td>\n",
       "    </tr>\n",
       "    <tr>\n",
       "      <th>mean</th>\n",
       "      <td>57.578623</td>\n",
       "      <td>0.101065</td>\n",
       "      <td>0.655588</td>\n",
       "      <td>0.595772</td>\n",
       "      <td>0.162916</td>\n",
       "      <td>0.467617</td>\n",
       "    </tr>\n",
       "    <tr>\n",
       "      <th>std</th>\n",
       "      <td>20.879215</td>\n",
       "      <td>0.102862</td>\n",
       "      <td>0.149755</td>\n",
       "      <td>0.215789</td>\n",
       "      <td>0.116897</td>\n",
       "      <td>0.222776</td>\n",
       "    </tr>\n",
       "    <tr>\n",
       "      <th>min</th>\n",
       "      <td>0.000000</td>\n",
       "      <td>0.025100</td>\n",
       "      <td>0.163000</td>\n",
       "      <td>0.017200</td>\n",
       "      <td>0.021500</td>\n",
       "      <td>0.048100</td>\n",
       "    </tr>\n",
       "    <tr>\n",
       "      <th>25%</th>\n",
       "      <td>49.000000</td>\n",
       "      <td>0.038100</td>\n",
       "      <td>0.554000</td>\n",
       "      <td>0.453750</td>\n",
       "      <td>0.095100</td>\n",
       "      <td>0.292000</td>\n",
       "    </tr>\n",
       "    <tr>\n",
       "      <th>50%</th>\n",
       "      <td>58.000000</td>\n",
       "      <td>0.053350</td>\n",
       "      <td>0.661500</td>\n",
       "      <td>0.637500</td>\n",
       "      <td>0.117000</td>\n",
       "      <td>0.463000</td>\n",
       "    </tr>\n",
       "    <tr>\n",
       "      <th>75%</th>\n",
       "      <td>73.000000</td>\n",
       "      <td>0.126250</td>\n",
       "      <td>0.755000</td>\n",
       "      <td>0.758500</td>\n",
       "      <td>0.178500</td>\n",
       "      <td>0.637500</td>\n",
       "    </tr>\n",
       "    <tr>\n",
       "      <th>max</th>\n",
       "      <td>100.000000</td>\n",
       "      <td>0.501000</td>\n",
       "      <td>0.936000</td>\n",
       "      <td>0.966000</td>\n",
       "      <td>0.795000</td>\n",
       "      <td>0.963000</td>\n",
       "    </tr>\n",
       "  </tbody>\n",
       "</table>\n",
       "</div>"
      ],
      "text/plain": [
       "       popularity  speechiness  danceability      energy    liveness  \\\n",
       "count  973.000000   408.000000    408.000000  408.000000  408.000000   \n",
       "mean    57.578623     0.101065      0.655588    0.595772    0.162916   \n",
       "std     20.879215     0.102862      0.149755    0.215789    0.116897   \n",
       "min      0.000000     0.025100      0.163000    0.017200    0.021500   \n",
       "25%     49.000000     0.038100      0.554000    0.453750    0.095100   \n",
       "50%     58.000000     0.053350      0.661500    0.637500    0.117000   \n",
       "75%     73.000000     0.126250      0.755000    0.758500    0.178500   \n",
       "max    100.000000     0.501000      0.936000    0.966000    0.795000   \n",
       "\n",
       "          valence  \n",
       "count  408.000000  \n",
       "mean     0.467617  \n",
       "std      0.222776  \n",
       "min      0.048100  \n",
       "25%      0.292000  \n",
       "50%      0.463000  \n",
       "75%      0.637500  \n",
       "max      0.963000  "
      ]
     },
     "execution_count": 9,
     "metadata": {},
     "output_type": "execute_result"
    }
   ],
   "source": [
    "frames = [df_pop, df_rap, df_country, df_jazz]\n",
    "total_df = pd.concat(frames)\n",
    "total_df.describe()"
   ]
  },
  {
   "cell_type": "markdown",
   "metadata": {},
   "source": [
    "Analyze the data:"
   ]
  },
  {
   "cell_type": "code",
   "execution_count": 10,
   "metadata": {},
   "outputs": [],
   "source": [
    "import seaborn as sns\n",
    "import matplotlib.pyplot as plt\n",
    "import numpy as np\n",
    "sns.set()\n",
    "%matplotlib inline"
   ]
  },
  {
   "cell_type": "markdown",
   "metadata": {},
   "source": [
    "# (1) Does speechiness have an effect on popularity?"
   ]
  },
  {
   "cell_type": "code",
   "execution_count": 27,
   "metadata": {
    "scrolled": false
   },
   "outputs": [
    {
     "data": {
      "text/plain": [
       "Text(0.5, 1.0, 'top pop songs valence vs. popularity')"
      ]
     },
     "execution_count": 27,
     "metadata": {},
     "output_type": "execute_result"
    },
    {
     "data": {
      "image/png": "[encoded data removed]",
      "text/plain": [
       "<Figure size 432x288 with 1 Axes>"
      ]
     },
     "metadata": {
      "needs_background": "light"
     },
     "output_type": "display_data"
    }
   ],
   "source": [
    "ax = sns.scatterplot(x=total_df[\"speechiness\"], y=total_df[\"popularity\"], data = total_df)\n",
    "plt.title('top pop songs valence vs. popularity')"
   ]
  },
  {
   "cell_type": "code",
   "execution_count": 28,
   "metadata": {
    "scrolled": true
   },
   "outputs": [
    {
     "data": {
      "text/html": [
       "<table class=\"simpletable\">\n",
       "<caption>OLS Regression Results</caption>\n",
       "<tr>\n",
       "  <th>Dep. Variable:</th>       <td>popularity</td>    <th>  R-squared:         </th> <td>   0.020</td>\n",
       "</tr>\n",
       "<tr>\n",
       "  <th>Model:</th>                   <td>OLS</td>       <th>  Adj. R-squared:    </th> <td>   0.018</td>\n",
       "</tr>\n",
       "<tr>\n",
       "  <th>Method:</th>             <td>Least Squares</td>  <th>  F-statistic:       </th> <td>   8.252</td>\n",
       "</tr>\n",
       "<tr>\n",
       "  <th>Date:</th>             <td>Mon, 15 Jul 2019</td> <th>  Prob (F-statistic):</th>  <td>0.00429</td>\n",
       "</tr>\n",
       "<tr>\n",
       "  <th>Time:</th>                 <td>11:47:32</td>     <th>  Log-Likelihood:    </th> <td> -1821.3</td>\n",
       "</tr>\n",
       "<tr>\n",
       "  <th>No. Observations:</th>      <td>   408</td>      <th>  AIC:               </th> <td>   3647.</td>\n",
       "</tr>\n",
       "<tr>\n",
       "  <th>Df Residuals:</th>          <td>   406</td>      <th>  BIC:               </th> <td>   3655.</td>\n",
       "</tr>\n",
       "<tr>\n",
       "  <th>Df Model:</th>              <td>     1</td>      <th>                     </th>     <td> </td>   \n",
       "</tr>\n",
       "<tr>\n",
       "  <th>Covariance Type:</th>      <td>nonrobust</td>    <th>                     </th>     <td> </td>   \n",
       "</tr>\n",
       "</table>\n",
       "<table class=\"simpletable\">\n",
       "<tr>\n",
       "       <td></td>          <th>coef</th>     <th>std err</th>      <th>t</th>      <th>P>|t|</th>  <th>[0.025</th>    <th>0.975]</th>  \n",
       "</tr>\n",
       "<tr>\n",
       "  <th>Intercept</th>   <td>   58.0606</td> <td>    1.463</td> <td>   39.691</td> <td> 0.000</td> <td>   55.185</td> <td>   60.936</td>\n",
       "</tr>\n",
       "<tr>\n",
       "  <th>speechiness</th> <td>   29.1574</td> <td>   10.150</td> <td>    2.873</td> <td> 0.004</td> <td>    9.204</td> <td>   49.111</td>\n",
       "</tr>\n",
       "</table>\n",
       "<table class=\"simpletable\">\n",
       "<tr>\n",
       "  <th>Omnibus:</th>       <td>48.342</td> <th>  Durbin-Watson:     </th> <td>   1.461</td>\n",
       "</tr>\n",
       "<tr>\n",
       "  <th>Prob(Omnibus):</th> <td> 0.000</td> <th>  Jarque-Bera (JB):  </th> <td>  62.169</td>\n",
       "</tr>\n",
       "<tr>\n",
       "  <th>Skew:</th>          <td>-0.912</td> <th>  Prob(JB):          </th> <td>3.16e-14</td>\n",
       "</tr>\n",
       "<tr>\n",
       "  <th>Kurtosis:</th>      <td> 3.573</td> <th>  Cond. No.          </th> <td>    9.83</td>\n",
       "</tr>\n",
       "</table><br/><br/>Warnings:<br/>[1] Standard Errors assume that the covariance matrix of the errors is correctly specified."
      ],
      "text/plain": [
       "<class 'statsmodels.iolib.summary.Summary'>\n",
       "\"\"\"\n",
       "                            OLS Regression Results                            \n",
       "==============================================================================\n",
       "Dep. Variable:             popularity   R-squared:                       0.020\n",
       "Model:                            OLS   Adj. R-squared:                  0.018\n",
       "Method:                 Least Squares   F-statistic:                     8.252\n",
       "Date:                Mon, 15 Jul 2019   Prob (F-statistic):            0.00429\n",
       "Time:                        11:47:32   Log-Likelihood:                -1821.3\n",
       "No. Observations:                 408   AIC:                             3647.\n",
       "Df Residuals:                     406   BIC:                             3655.\n",
       "Df Model:                           1                                         \n",
       "Covariance Type:            nonrobust                                         \n",
       "===============================================================================\n",
       "                  coef    std err          t      P>|t|      [0.025      0.975]\n",
       "-------------------------------------------------------------------------------\n",
       "Intercept      58.0606      1.463     39.691      0.000      55.185      60.936\n",
       "speechiness    29.1574     10.150      2.873      0.004       9.204      49.111\n",
       "==============================================================================\n",
       "Omnibus:                       48.342   Durbin-Watson:                   1.461\n",
       "Prob(Omnibus):                  0.000   Jarque-Bera (JB):               62.169\n",
       "Skew:                          -0.912   Prob(JB):                     3.16e-14\n",
       "Kurtosis:                       3.573   Cond. No.                         9.83\n",
       "==============================================================================\n",
       "\n",
       "Warnings:\n",
       "[1] Standard Errors assume that the covariance matrix of the errors is correctly specified.\n",
       "\"\"\""
      ]
     },
     "execution_count": 28,
     "metadata": {},
     "output_type": "execute_result"
    }
   ],
   "source": [
    "model1 = ols('popularity~ speechiness', total_df).fit()\n",
    "model1.summary()"
   ]
  },
  {
   "cell_type": "markdown",
   "metadata": {},
   "source": [
    "The r^2 value for popularity and speechiness for all genres is 0.02... leading us to conclude that there is no real significance between speechiness and popularity"
   ]
  },
  {
   "cell_type": "markdown",
   "metadata": {},
   "source": [
    "# (2) How does speechiness affect a song's popularity within a certain genre?"
   ]
  },
  {
   "cell_type": "code",
   "execution_count": 13,
   "metadata": {},
   "outputs": [],
   "source": [
    "from statsmodels.formula.api import ols\n",
    "from statsmodels.stats.anova import anova_lm\n",
    "import statsmodels.api as sm"
   ]
  },
  {
   "cell_type": "code",
   "execution_count": 26,
   "metadata": {},
   "outputs": [
    {
     "data": {
      "image/png": "[encoded data removed]",
      "text/plain": [
       "<Figure size 432x288 with 1 Axes>"
      ]
     },
     "metadata": {
      "needs_background": "light"
     },
     "output_type": "display_data"
    }
   ],
   "source": [
    "boxplot = sns.boxplot(x=\"genre\", y=\"speechiness\", data=total_df, palette=\"Set3\")"
   ]
  },
  {
   "cell_type": "code",
   "execution_count": 33,
   "metadata": {
    "scrolled": true
   },
   "outputs": [
    {
     "name": "stdout",
     "output_type": "stream",
     "text": [
      "Overall model F( 7, 400) =  21.141, p =  0.0000\n"
     ]
    },
    {
     "data": {
      "text/html": [
       "<table class=\"simpletable\">\n",
       "<caption>OLS Regression Results</caption>\n",
       "<tr>\n",
       "  <th>Dep. Variable:</th>       <td>popularity</td>    <th>  R-squared:         </th> <td>   0.270</td>\n",
       "</tr>\n",
       "<tr>\n",
       "  <th>Model:</th>                   <td>OLS</td>       <th>  Adj. R-squared:    </th> <td>   0.257</td>\n",
       "</tr>\n",
       "<tr>\n",
       "  <th>Method:</th>             <td>Least Squares</td>  <th>  F-statistic:       </th> <td>   21.14</td>\n",
       "</tr>\n",
       "<tr>\n",
       "  <th>Date:</th>             <td>Mon, 15 Jul 2019</td> <th>  Prob (F-statistic):</th> <td>3.10e-24</td>\n",
       "</tr>\n",
       "<tr>\n",
       "  <th>Time:</th>                 <td>11:50:11</td>     <th>  Log-Likelihood:    </th> <td> -1761.2</td>\n",
       "</tr>\n",
       "<tr>\n",
       "  <th>No. Observations:</th>      <td>   408</td>      <th>  AIC:               </th> <td>   3538.</td>\n",
       "</tr>\n",
       "<tr>\n",
       "  <th>Df Residuals:</th>          <td>   400</td>      <th>  BIC:               </th> <td>   3571.</td>\n",
       "</tr>\n",
       "<tr>\n",
       "  <th>Df Model:</th>              <td>     7</td>      <th>                     </th>     <td> </td>   \n",
       "</tr>\n",
       "<tr>\n",
       "  <th>Covariance Type:</th>      <td>nonrobust</td>    <th>                     </th>     <td> </td>   \n",
       "</tr>\n",
       "</table>\n",
       "<table class=\"simpletable\">\n",
       "<tr>\n",
       "                <td></td>                  <th>coef</th>     <th>std err</th>      <th>t</th>      <th>P>|t|</th>  <th>[0.025</th>    <th>0.975]</th>  \n",
       "</tr>\n",
       "<tr>\n",
       "  <th>Intercept</th>                    <td>   53.3247</td> <td>    3.881</td> <td>   13.740</td> <td> 0.000</td> <td>   45.695</td> <td>   60.954</td>\n",
       "</tr>\n",
       "<tr>\n",
       "  <th>C(genre)[T.jazz]</th>             <td>   -9.2406</td> <td>    4.736</td> <td>   -1.951</td> <td> 0.052</td> <td>  -18.551</td> <td>    0.070</td>\n",
       "</tr>\n",
       "<tr>\n",
       "  <th>C(genre)[T.pop]</th>              <td>   22.2440</td> <td>    4.740</td> <td>    4.693</td> <td> 0.000</td> <td>   12.925</td> <td>   31.563</td>\n",
       "</tr>\n",
       "<tr>\n",
       "  <th>C(genre)[T.rap]</th>              <td>   10.7332</td> <td>    5.124</td> <td>    2.095</td> <td> 0.037</td> <td>    0.659</td> <td>   20.807</td>\n",
       "</tr>\n",
       "<tr>\n",
       "  <th>speechiness</th>                  <td>   90.3535</td> <td>   77.338</td> <td>    1.168</td> <td> 0.243</td> <td>  -61.686</td> <td>  242.393</td>\n",
       "</tr>\n",
       "<tr>\n",
       "  <th>speechiness:C(genre)[T.jazz]</th> <td>  -57.3311</td> <td>   83.592</td> <td>   -0.686</td> <td> 0.493</td> <td> -221.665</td> <td>  107.003</td>\n",
       "</tr>\n",
       "<tr>\n",
       "  <th>speechiness:C(genre)[T.pop]</th>  <td>  -82.4243</td> <td>   80.150</td> <td>   -1.028</td> <td> 0.304</td> <td> -239.992</td> <td>   75.144</td>\n",
       "</tr>\n",
       "<tr>\n",
       "  <th>speechiness:C(genre)[T.rap]</th>  <td>  -89.7597</td> <td>   78.608</td> <td>   -1.142</td> <td> 0.254</td> <td> -244.297</td> <td>   64.777</td>\n",
       "</tr>\n",
       "</table>\n",
       "<table class=\"simpletable\">\n",
       "<tr>\n",
       "  <th>Omnibus:</th>       <td>131.162</td> <th>  Durbin-Watson:     </th> <td>   1.949</td>\n",
       "</tr>\n",
       "<tr>\n",
       "  <th>Prob(Omnibus):</th> <td> 0.000</td>  <th>  Jarque-Bera (JB):  </th> <td> 293.311</td>\n",
       "</tr>\n",
       "<tr>\n",
       "  <th>Skew:</th>          <td>-1.681</td>  <th>  Prob(JB):          </th> <td>2.03e-64</td>\n",
       "</tr>\n",
       "<tr>\n",
       "  <th>Kurtosis:</th>      <td> 5.438</td>  <th>  Cond. No.          </th> <td>    190.</td>\n",
       "</tr>\n",
       "</table><br/><br/>Warnings:<br/>[1] Standard Errors assume that the covariance matrix of the errors is correctly specified."
      ],
      "text/plain": [
       "<class 'statsmodels.iolib.summary.Summary'>\n",
       "\"\"\"\n",
       "                            OLS Regression Results                            \n",
       "==============================================================================\n",
       "Dep. Variable:             popularity   R-squared:                       0.270\n",
       "Model:                            OLS   Adj. R-squared:                  0.257\n",
       "Method:                 Least Squares   F-statistic:                     21.14\n",
       "Date:                Mon, 15 Jul 2019   Prob (F-statistic):           3.10e-24\n",
       "Time:                        11:50:11   Log-Likelihood:                -1761.2\n",
       "No. Observations:                 408   AIC:                             3538.\n",
       "Df Residuals:                     400   BIC:                             3571.\n",
       "Df Model:                           7                                         \n",
       "Covariance Type:            nonrobust                                         \n",
       "================================================================================================\n",
       "                                   coef    std err          t      P>|t|      [0.025      0.975]\n",
       "------------------------------------------------------------------------------------------------\n",
       "Intercept                       53.3247      3.881     13.740      0.000      45.695      60.954\n",
       "C(genre)[T.jazz]                -9.2406      4.736     -1.951      0.052     -18.551       0.070\n",
       "C(genre)[T.pop]                 22.2440      4.740      4.693      0.000      12.925      31.563\n",
       "C(genre)[T.rap]                 10.7332      5.124      2.095      0.037       0.659      20.807\n",
       "speechiness                     90.3535     77.338      1.168      0.243     -61.686     242.393\n",
       "speechiness:C(genre)[T.jazz]   -57.3311     83.592     -0.686      0.493    -221.665     107.003\n",
       "speechiness:C(genre)[T.pop]    -82.4243     80.150     -1.028      0.304    -239.992      75.144\n",
       "speechiness:C(genre)[T.rap]    -89.7597     78.608     -1.142      0.254    -244.297      64.777\n",
       "==============================================================================\n",
       "Omnibus:                      131.162   Durbin-Watson:                   1.949\n",
       "Prob(Omnibus):                  0.000   Jarque-Bera (JB):              293.311\n",
       "Skew:                          -1.681   Prob(JB):                     2.03e-64\n",
       "Kurtosis:                       5.438   Cond. No.                         190.\n",
       "==============================================================================\n",
       "\n",
       "Warnings:\n",
       "[1] Standard Errors assume that the covariance matrix of the errors is correctly specified.\n",
       "\"\"\""
      ]
     },
     "execution_count": 33,
     "metadata": {},
     "output_type": "execute_result"
    }
   ],
   "source": [
    "model2 = ols('popularity~ speechiness * C(genre)', total_df).fit()\n",
    "print(f\"Overall model F({model2.df_model: .0f},{model2.df_resid: .0f}) = {model2.fvalue: .3f}, p = {model2.f_pvalue: .4f}\")\n",
    "model2.summary()"
   ]
  },
  {
   "cell_type": "code",
   "execution_count": 32,
   "metadata": {},
   "outputs": [
    {
     "data": {
      "text/html": [
       "<div>\n",
       "<style scoped>\n",
       "    .dataframe tbody tr th:only-of-type {\n",
       "        vertical-align: middle;\n",
       "    }\n",
       "\n",
       "    .dataframe tbody tr th {\n",
       "        vertical-align: top;\n",
       "    }\n",
       "\n",
       "    .dataframe thead th {\n",
       "        text-align: right;\n",
       "    }\n",
       "</style>\n",
       "<table border=\"1\" class=\"dataframe\">\n",
       "  <thead>\n",
       "    <tr style=\"text-align: right;\">\n",
       "      <th></th>\n",
       "      <th>df</th>\n",
       "      <th>sum_sq</th>\n",
       "      <th>mean_sq</th>\n",
       "      <th>F</th>\n",
       "      <th>PR(&gt;F)</th>\n",
       "    </tr>\n",
       "  </thead>\n",
       "  <tbody>\n",
       "    <tr>\n",
       "      <th>C(genre)</th>\n",
       "      <td>3.0</td>\n",
       "      <td>48765.360294</td>\n",
       "      <td>16255.120098</td>\n",
       "      <td>48.582124</td>\n",
       "      <td>8.054247e-27</td>\n",
       "    </tr>\n",
       "    <tr>\n",
       "      <th>speechiness</th>\n",
       "      <td>1.0</td>\n",
       "      <td>187.621038</td>\n",
       "      <td>187.621038</td>\n",
       "      <td>0.560748</td>\n",
       "      <td>4.543958e-01</td>\n",
       "    </tr>\n",
       "    <tr>\n",
       "      <th>Residual</th>\n",
       "      <td>403.0</td>\n",
       "      <td>134839.996609</td>\n",
       "      <td>334.590562</td>\n",
       "      <td>NaN</td>\n",
       "      <td>NaN</td>\n",
       "    </tr>\n",
       "  </tbody>\n",
       "</table>\n",
       "</div>"
      ],
      "text/plain": [
       "                df         sum_sq       mean_sq          F        PR(>F)\n",
       "C(genre)       3.0   48765.360294  16255.120098  48.582124  8.054247e-27\n",
       "speechiness    1.0     187.621038    187.621038   0.560748  4.543958e-01\n",
       "Residual     403.0  134839.996609    334.590562        NaN           NaN"
      ]
     },
     "execution_count": 32,
     "metadata": {},
     "output_type": "execute_result"
    }
   ],
   "source": [
    "anova_table = sm.stats.anova_lm(model2, type= 2)\n",
    "anova_table"
   ]
  },
  {
   "cell_type": "code",
   "execution_count": null,
   "metadata": {},
   "outputs": [],
   "source": []
  }
 ],
 "metadata": {
  "kernelspec": {
   "display_name": "Python 3",
   "language": "python",
   "name": "python3"
  },
  "language_info": {
   "codemirror_mode": {
    "name": "ipython",
    "version": 3
   },
   "file_extension": ".py",
   "mimetype": "text/x-python",
   "name": "python",
   "nbconvert_exporter": "python",
   "pygments_lexer": "ipython3",
   "version": "3.7.3"
  }
 },
 "nbformat": 4,
 "nbformat_minor": 2
}
