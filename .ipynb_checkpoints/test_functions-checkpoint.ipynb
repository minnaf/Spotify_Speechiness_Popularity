{
 "cells": [
  {
   "cell_type": "code",
   "execution_count": 1,
   "metadata": {},
   "outputs": [],
   "source": [
    "import minna_functions as mf"
   ]
  },
  {
   "cell_type": "code",
   "execution_count": 2,
   "metadata": {},
   "outputs": [],
   "source": [
    "get_playlist = mf.get_spotify_playlist()"
   ]
  },
  {
   "cell_type": "code",
   "execution_count": 3,
   "metadata": {
    "scrolled": true
   },
   "outputs": [],
   "source": [
    "get_playlist.get_playlist_SQL('37i9dQZF1DX7QOv5kjbU68', 'BQCw8KPttwzdum1C5E0K7Nuzf_XwGN9F8V7sn2I_GnYt3wNtYwhMPy8emR1oQmHKjbL8gKI785tXcH4_GfuDyu1nG-feu7ojuaGB-7l1VXZDTPoceGVAZMdK01ZidFLjKKjnwCU5pfoTQpPyWsc', 'songs_info')"
   ]
  },
  {
   "cell_type": "code",
   "execution_count": 4,
   "metadata": {},
   "outputs": [
    {
     "data": {
      "text/html": [
       "<div>\n",
       "<style scoped>\n",
       "    .dataframe tbody tr th:only-of-type {\n",
       "        vertical-align: middle;\n",
       "    }\n",
       "\n",
       "    .dataframe tbody tr th {\n",
       "        vertical-align: top;\n",
       "    }\n",
       "\n",
       "    .dataframe thead th {\n",
       "        text-align: right;\n",
       "    }\n",
       "</style>\n",
       "<table border=\"1\" class=\"dataframe\">\n",
       "  <thead>\n",
       "    <tr style=\"text-align: right;\">\n",
       "      <th></th>\n",
       "      <th>generated_id</th>\n",
       "      <th>song_name</th>\n",
       "      <th>song_id</th>\n",
       "      <th>popularity</th>\n",
       "      <th>artist_name</th>\n",
       "    </tr>\n",
       "  </thead>\n",
       "  <tbody>\n",
       "    <tr>\n",
       "      <th>0</th>\n",
       "      <td>1</td>\n",
       "      <td>Omertà</td>\n",
       "      <td>3kCwyvhvVTyehIzYN2I0nF</td>\n",
       "      <td>79</td>\n",
       "      <td>Drake</td>\n",
       "    </tr>\n",
       "    <tr>\n",
       "      <th>1</th>\n",
       "      <td>2</td>\n",
       "      <td>Money In The Grave (Drake ft. Rick Ross)</td>\n",
       "      <td>5ry2OE6R2zPQFDO85XkgRb</td>\n",
       "      <td>93</td>\n",
       "      <td>Drake</td>\n",
       "    </tr>\n",
       "    <tr>\n",
       "      <th>2</th>\n",
       "      <td>3</td>\n",
       "      <td>Lust For Life</td>\n",
       "      <td>1v24T2ug4TlssYZvI3aL4O</td>\n",
       "      <td>64</td>\n",
       "      <td>Drake</td>\n",
       "    </tr>\n",
       "    <tr>\n",
       "      <th>3</th>\n",
       "      <td>4</td>\n",
       "      <td>Houstatlantavegas</td>\n",
       "      <td>3XLSlQLJf3Ut0zvMUxnF1h</td>\n",
       "      <td>63</td>\n",
       "      <td>Drake</td>\n",
       "    </tr>\n",
       "    <tr>\n",
       "      <th>4</th>\n",
       "      <td>5</td>\n",
       "      <td>No Guidance (feat. Drake)</td>\n",
       "      <td>7FEwp8BavoEVE3AnxJDchc</td>\n",
       "      <td>89</td>\n",
       "      <td>Chris Brown</td>\n",
       "    </tr>\n",
       "  </tbody>\n",
       "</table>\n",
       "</div>"
      ],
      "text/plain": [
       "   generated_id                                 song_name  \\\n",
       "0             1                                    Omertà   \n",
       "1             2  Money In The Grave (Drake ft. Rick Ross)   \n",
       "2             3                             Lust For Life   \n",
       "3             4                         Houstatlantavegas   \n",
       "4             5                 No Guidance (feat. Drake)   \n",
       "\n",
       "                  song_id  popularity  artist_name  \n",
       "0  3kCwyvhvVTyehIzYN2I0nF          79        Drake  \n",
       "1  5ry2OE6R2zPQFDO85XkgRb          93        Drake  \n",
       "2  1v24T2ug4TlssYZvI3aL4O          64        Drake  \n",
       "3  3XLSlQLJf3Ut0zvMUxnF1h          63        Drake  \n",
       "4  7FEwp8BavoEVE3AnxJDchc          89  Chris Brown  "
      ]
     },
     "execution_count": 4,
     "metadata": {},
     "output_type": "execute_result"
    }
   ],
   "source": [
    "df = get_playlist.SQL_to_dataframe('songs_info')\n",
    "df.head()"
   ]
  },
  {
   "cell_type": "code",
   "execution_count": 5,
   "metadata": {},
   "outputs": [
    {
     "data": {
      "text/plain": [
       "552"
      ]
     },
     "execution_count": 5,
     "metadata": {},
     "output_type": "execute_result"
    }
   ],
   "source": [
    "song_ids = list(df['song_id'])\n",
    "len(song_ids)"
   ]
  },
  {
   "cell_type": "code",
   "execution_count": null,
   "metadata": {},
   "outputs": [],
   "source": []
  }
 ],
 "metadata": {
  "kernelspec": {
   "display_name": "Python 3",
   "language": "python",
   "name": "python3"
  },
  "language_info": {
   "codemirror_mode": {
    "name": "ipython",
    "version": 3
   },
   "file_extension": ".py",
   "mimetype": "text/x-python",
   "name": "python",
   "nbconvert_exporter": "python",
   "pygments_lexer": "ipython3",
   "version": "3.7.3"
  }
 },
 "nbformat": 4,
 "nbformat_minor": 2
}
