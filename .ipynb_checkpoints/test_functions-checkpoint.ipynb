{
 "cells": [
  {
   "cell_type": "code",
   "execution_count": 1,
   "metadata": {},
   "outputs": [],
   "source": [
    "import minna_functions as mf"
   ]
  },
  {
   "cell_type": "code",
   "execution_count": 13,
   "metadata": {},
   "outputs": [],
   "source": [
    "import pandas as pd"
   ]
  },
  {
   "cell_type": "code",
   "execution_count": 2,
   "metadata": {},
   "outputs": [],
   "source": [
    "import sqlite3\n",
    "conn = sqlite3.connect('spotify.db')\n",
    "c = conn.cursor()"
   ]
  },
  {
   "cell_type": "markdown",
   "metadata": {},
   "source": [
    "Connect to Database:"
   ]
  },
  {
   "cell_type": "code",
   "execution_count": 4,
   "metadata": {},
   "outputs": [],
   "source": [
    "get_playlist = mf.get_spotify_playlist('BQC3VHoRN5SpumhRPugWcnIGlWaP7kMxK0xAy2kVsnASwTWIVQ2WhY_-_8EImVwmFAJ2sC7VRUlEEW9lX0icHPFf5wkeBOqXMZk-xC3Zr1zbSn6WeiGUsK87g40iJg-xF0KRHzIey2D89mdVLak')"
   ]
  },
  {
   "cell_type": "markdown",
   "metadata": {},
   "source": [
    "Retrieve data for every playlist we want to look at and put it into SQL table:"
   ]
  },
  {
   "cell_type": "code",
   "execution_count": 5,
   "metadata": {
    "scrolled": true
   },
   "outputs": [],
   "source": [
    "#pop hits data\n",
    "get_playlist.get_playlist_SQL('37i9dQZF1DX92MLsP3K1fI', 'pop_hits') \n",
    "get_playlist.get_playlist_SQL('5TDtuKDbOhrfW7C58XnriZ', 'pop_hits')\n",
    "get_playlist.get_playlist_SQL('37i9dQZF1DXcBWIGoYBM5M', 'pop_hits')\n",
    "get_playlist.get_playlist_SQL('37i9dQZF1DWUa8ZRTfalHk', 'pop_hits')"
   ]
  },
  {
   "cell_type": "code",
   "execution_count": 6,
   "metadata": {},
   "outputs": [],
   "source": [
    "#rap data\n",
    "get_playlist.get_playlist_SQL('37i9dQZF1DX0XUsuxWHRQd', 'rap_hits') #rap caviar\n",
    "get_playlist.get_playlist_SQL('5KR0bQIR4BqsgBzV2N54wm', 'rap_hits') #top hip hop\n",
    "get_playlist.get_playlist_SQL('2G2zkK3cBVXB1jSsDMQSk3', 'rap_hits') # top rap hits 2019\n",
    "get_playlist.get_playlist_SQL('37i9dQZF1DX2RxBh64BHjQ', 'rap_hits') #most necessary\n",
    "get_playlist.get_playlist_SQL('37i9dQZF1DWUFmyho2wkQU', 'rap_hits') #hip hop drive"
   ]
  },
  {
   "cell_type": "code",
   "execution_count": 7,
   "metadata": {},
   "outputs": [],
   "source": [
    "#country data\n",
    "get_playlist.get_playlist_SQL('37i9dQZF1DX1lVhptIYRda', 'country_hits') #hot country\n",
    "get_playlist.get_playlist_SQL('37i9dQZF1DX8S0uQvJ4gaa', 'country_hits') #new boots\n",
    "get_playlist.get_playlist_SQL('37i9dQZF1DX5mB2C8gBeUM', 'country_hits') #wild country\n",
    "get_playlist.get_playlist_SQL('37i9dQZF1DWYnwbYQ5HnZU', 'country_hits') #country gold"
   ]
  },
  {
   "cell_type": "code",
   "execution_count": 8,
   "metadata": {},
   "outputs": [],
   "source": [
    "#jazz data \n",
    "get_playlist.get_playlist_SQL('37i9dQZF1DXbITWG1ZJKYt', 'jazz_hits') #jazz classics\n",
    "get_playlist.get_playlist_SQL('37i9dQZF1DX0SM0LYsmbMT', 'jazz_hits') #jazz vibes\n",
    "get_playlist.get_playlist_SQL('0pYnghexkCjipMVbXSiyOb', 'jazz_hits') #Top Jazz hits"
   ]
  },
  {
   "cell_type": "markdown",
   "metadata": {},
   "source": [
    "Convert SQL database to a pandas dataframe:"
   ]
  },
  {
   "cell_type": "code",
   "execution_count": 9,
   "metadata": {},
   "outputs": [],
   "source": [
    "df_pop = get_playlist.SQL_to_dataframe('pop_hits')\n",
    "df_rap = get_playlist.SQL_to_dataframe('rap_hits')\n",
    "df_country = get_playlist.SQL_to_dataframe('country_hits')\n",
    "df_jazz = get_playlist.SQL_to_dataframe('jazz_hits')"
   ]
  },
  {
   "cell_type": "markdown",
   "metadata": {},
   "source": [
    "Retrive audio feature information from each song in the playlist: "
   ]
  },
  {
   "cell_type": "code",
   "execution_count": 10,
   "metadata": {},
   "outputs": [
    {
     "name": "stdout",
     "output_type": "stream",
     "text": [
      "None\n",
      "None\n",
      "None\n",
      "None\n"
     ]
    }
   ],
   "source": [
    "df_pop = get_playlist.song_audio_features(df_pop, 'pop_hits')\n",
    "df_rap = get_playlist.song_audio_features(df_rap, 'rap_hits')\n",
    "df_country = get_playlist.song_audio_features(df_country, 'country_hits')\n",
    "df_jazz = get_playlist.song_audio_features(df_jazz, 'jazz_hits')"
   ]
  },
  {
   "cell_type": "markdown",
   "metadata": {},
   "source": [
    "Make a new column for our genres:"
   ]
  },
  {
   "cell_type": "code",
   "execution_count": 11,
   "metadata": {
    "scrolled": true
   },
   "outputs": [],
   "source": [
    "df_pop['genre'] = 'pop'\n",
    "df_rap['genre'] = 'rap'\n",
    "df_country['genre'] = 'country'\n",
    "df_jazz['genre'] = 'jazz'"
   ]
  },
  {
   "cell_type": "markdown",
   "metadata": {},
   "source": [
    "combine all data frames:"
   ]
  },
  {
   "cell_type": "code",
   "execution_count": 14,
   "metadata": {},
   "outputs": [
    {
     "data": {
      "text/html": [
       "<div>\n",
       "<style scoped>\n",
       "    .dataframe tbody tr th:only-of-type {\n",
       "        vertical-align: middle;\n",
       "    }\n",
       "\n",
       "    .dataframe tbody tr th {\n",
       "        vertical-align: top;\n",
       "    }\n",
       "\n",
       "    .dataframe thead th {\n",
       "        text-align: right;\n",
       "    }\n",
       "</style>\n",
       "<table border=\"1\" class=\"dataframe\">\n",
       "  <thead>\n",
       "    <tr style=\"text-align: right;\">\n",
       "      <th></th>\n",
       "      <th>popularity</th>\n",
       "      <th>speechiness</th>\n",
       "      <th>danceability</th>\n",
       "      <th>energy</th>\n",
       "      <th>liveness</th>\n",
       "      <th>valence</th>\n",
       "    </tr>\n",
       "  </thead>\n",
       "  <tbody>\n",
       "    <tr>\n",
       "      <th>count</th>\n",
       "      <td>973.000000</td>\n",
       "      <td>408.000000</td>\n",
       "      <td>408.000000</td>\n",
       "      <td>408.000000</td>\n",
       "      <td>408.000000</td>\n",
       "      <td>408.000000</td>\n",
       "    </tr>\n",
       "    <tr>\n",
       "      <th>mean</th>\n",
       "      <td>57.578623</td>\n",
       "      <td>0.101065</td>\n",
       "      <td>0.655588</td>\n",
       "      <td>0.595772</td>\n",
       "      <td>0.162916</td>\n",
       "      <td>0.467617</td>\n",
       "    </tr>\n",
       "    <tr>\n",
       "      <th>std</th>\n",
       "      <td>20.879215</td>\n",
       "      <td>0.102862</td>\n",
       "      <td>0.149755</td>\n",
       "      <td>0.215789</td>\n",
       "      <td>0.116897</td>\n",
       "      <td>0.222776</td>\n",
       "    </tr>\n",
       "    <tr>\n",
       "      <th>min</th>\n",
       "      <td>0.000000</td>\n",
       "      <td>0.025100</td>\n",
       "      <td>0.163000</td>\n",
       "      <td>0.017200</td>\n",
       "      <td>0.021500</td>\n",
       "      <td>0.048100</td>\n",
       "    </tr>\n",
       "    <tr>\n",
       "      <th>25%</th>\n",
       "      <td>49.000000</td>\n",
       "      <td>0.038100</td>\n",
       "      <td>0.554000</td>\n",
       "      <td>0.453750</td>\n",
       "      <td>0.095100</td>\n",
       "      <td>0.292000</td>\n",
       "    </tr>\n",
       "    <tr>\n",
       "      <th>50%</th>\n",
       "      <td>58.000000</td>\n",
       "      <td>0.053350</td>\n",
       "      <td>0.661500</td>\n",
       "      <td>0.637500</td>\n",
       "      <td>0.117000</td>\n",
       "      <td>0.463000</td>\n",
       "    </tr>\n",
       "    <tr>\n",
       "      <th>75%</th>\n",
       "      <td>73.000000</td>\n",
       "      <td>0.126250</td>\n",
       "      <td>0.755000</td>\n",
       "      <td>0.758500</td>\n",
       "      <td>0.178500</td>\n",
       "      <td>0.637500</td>\n",
       "    </tr>\n",
       "    <tr>\n",
       "      <th>max</th>\n",
       "      <td>100.000000</td>\n",
       "      <td>0.501000</td>\n",
       "      <td>0.936000</td>\n",
       "      <td>0.966000</td>\n",
       "      <td>0.795000</td>\n",
       "      <td>0.963000</td>\n",
       "    </tr>\n",
       "  </tbody>\n",
       "</table>\n",
       "</div>"
      ],
      "text/plain": [
       "       popularity  speechiness  danceability      energy    liveness  \\\n",
       "count  973.000000   408.000000    408.000000  408.000000  408.000000   \n",
       "mean    57.578623     0.101065      0.655588    0.595772    0.162916   \n",
       "std     20.879215     0.102862      0.149755    0.215789    0.116897   \n",
       "min      0.000000     0.025100      0.163000    0.017200    0.021500   \n",
       "25%     49.000000     0.038100      0.554000    0.453750    0.095100   \n",
       "50%     58.000000     0.053350      0.661500    0.637500    0.117000   \n",
       "75%     73.000000     0.126250      0.755000    0.758500    0.178500   \n",
       "max    100.000000     0.501000      0.936000    0.966000    0.795000   \n",
       "\n",
       "          valence  \n",
       "count  408.000000  \n",
       "mean     0.467617  \n",
       "std      0.222776  \n",
       "min      0.048100  \n",
       "25%      0.292000  \n",
       "50%      0.463000  \n",
       "75%      0.637500  \n",
       "max      0.963000  "
      ]
     },
     "execution_count": 14,
     "metadata": {},
     "output_type": "execute_result"
    }
   ],
   "source": [
    "frames = [df_pop, df_rap, df_country, df_jazz]\n",
    "total_df = pd.concat(frames)\n",
    "total_df.describe()"
   ]
  },
  {
   "cell_type": "markdown",
   "metadata": {},
   "source": [
    "Analyze the data:"
   ]
  },
  {
   "cell_type": "code",
   "execution_count": 15,
   "metadata": {},
   "outputs": [],
   "source": [
    "import seaborn as sns\n",
    "import matplotlib.pyplot as plt\n",
    "import numpy as np\n",
    "sns.set()\n",
    "%matplotlib inline"
   ]
  },
  {
   "cell_type": "code",
   "execution_count": 17,
   "metadata": {
    "scrolled": true
   },
   "outputs": [
    {
     "data": {
      "text/plain": [
       "Text(0.5, 1.0, 'top pop songs liveness vs. popularity')"
      ]
     },
     "execution_count": 17,
     "metadata": {},
     "output_type": "execute_result"
    },
    {
     "data": {
      "image/png": "[encoded data removed]",
      "text/plain": [
       "<Figure size 432x288 with 1 Axes>"
      ]
     },
     "metadata": {
      "needs_background": "light"
     },
     "output_type": "display_data"
    }
   ],
   "source": [
    "ax = sns.scatterplot(x=total_df[\"liveness\"], y=total_df[\"popularity\"], data = total_df)\n",
    "plt.title('top pop songs liveness vs. popularity')"
   ]
  },
  {
   "cell_type": "markdown",
   "metadata": {},
   "source": [
    "Run statistical tests on our data:"
   ]
  },
  {
   "cell_type": "code",
   "execution_count": 25,
   "metadata": {},
   "outputs": [],
   "source": [
    "from statsmodels.formula.api import ols\n",
    "from statsmodels.stats.anova import anova_lm\n",
    "import statsmodels.api as sm"
   ]
  },
  {
   "cell_type": "code",
   "execution_count": 28,
   "metadata": {},
   "outputs": [
    {
     "name": "stdout",
     "output_type": "stream",
     "text": [
      "Overall model F( 7, 400) =  21.816, p =  0.0000\n"
     ]
    },
    {
     "data": {
      "text/html": [
       "<table class=\"simpletable\">\n",
       "<caption>OLS Regression Results</caption>\n",
       "<tr>\n",
       "  <th>Dep. Variable:</th>       <td>popularity</td>    <th>  R-squared:         </th> <td>   0.276</td>\n",
       "</tr>\n",
       "<tr>\n",
       "  <th>Model:</th>                   <td>OLS</td>       <th>  Adj. R-squared:    </th> <td>   0.264</td>\n",
       "</tr>\n",
       "<tr>\n",
       "  <th>Method:</th>             <td>Least Squares</td>  <th>  F-statistic:       </th> <td>   21.82</td>\n",
       "</tr>\n",
       "<tr>\n",
       "  <th>Date:</th>             <td>Mon, 15 Jul 2019</td> <th>  Prob (F-statistic):</th> <td>5.90e-25</td>\n",
       "</tr>\n",
       "<tr>\n",
       "  <th>Time:</th>                 <td>11:03:40</td>     <th>  Log-Likelihood:    </th> <td> -1759.5</td>\n",
       "</tr>\n",
       "<tr>\n",
       "  <th>No. Observations:</th>      <td>   408</td>      <th>  AIC:               </th> <td>   3535.</td>\n",
       "</tr>\n",
       "<tr>\n",
       "  <th>Df Residuals:</th>          <td>   400</td>      <th>  BIC:               </th> <td>   3567.</td>\n",
       "</tr>\n",
       "<tr>\n",
       "  <th>Df Model:</th>              <td>     7</td>      <th>                     </th>     <td> </td>   \n",
       "</tr>\n",
       "<tr>\n",
       "  <th>Covariance Type:</th>      <td>nonrobust</td>    <th>                     </th>     <td> </td>   \n",
       "</tr>\n",
       "</table>\n",
       "<table class=\"simpletable\">\n",
       "<tr>\n",
       "              <td></td>                 <th>coef</th>     <th>std err</th>      <th>t</th>      <th>P>|t|</th>  <th>[0.025</th>    <th>0.975]</th>  \n",
       "</tr>\n",
       "<tr>\n",
       "  <th>Intercept</th>                 <td>   54.6030</td> <td>    3.226</td> <td>   16.927</td> <td> 0.000</td> <td>   48.261</td> <td>   60.945</td>\n",
       "</tr>\n",
       "<tr>\n",
       "  <th>C(genre)[T.jazz]</th>          <td>   -6.8887</td> <td>    4.351</td> <td>   -1.583</td> <td> 0.114</td> <td>  -15.442</td> <td>    1.665</td>\n",
       "</tr>\n",
       "<tr>\n",
       "  <th>C(genre)[T.pop]</th>           <td>   26.4427</td> <td>    4.545</td> <td>    5.818</td> <td> 0.000</td> <td>   17.508</td> <td>   35.378</td>\n",
       "</tr>\n",
       "<tr>\n",
       "  <th>C(genre)[T.rap]</th>           <td>   12.5684</td> <td>    4.482</td> <td>    2.804</td> <td> 0.005</td> <td>    3.758</td> <td>   21.379</td>\n",
       "</tr>\n",
       "<tr>\n",
       "  <th>liveness</th>                  <td>   17.4088</td> <td>   17.044</td> <td>    1.021</td> <td> 0.308</td> <td>  -16.098</td> <td>   50.916</td>\n",
       "</tr>\n",
       "<tr>\n",
       "  <th>liveness:C(genre)[T.jazz]</th> <td>  -27.1673</td> <td>   22.475</td> <td>   -1.209</td> <td> 0.227</td> <td>  -71.352</td> <td>   17.017</td>\n",
       "</tr>\n",
       "<tr>\n",
       "  <th>liveness:C(genre)[T.pop]</th>  <td>  -43.9207</td> <td>   22.622</td> <td>   -1.941</td> <td> 0.053</td> <td>  -88.394</td> <td>    0.552</td>\n",
       "</tr>\n",
       "<tr>\n",
       "  <th>liveness:C(genre)[T.rap]</th>  <td>  -36.0690</td> <td>   23.233</td> <td>   -1.553</td> <td> 0.121</td> <td>  -81.743</td> <td>    9.605</td>\n",
       "</tr>\n",
       "</table>\n",
       "<table class=\"simpletable\">\n",
       "<tr>\n",
       "  <th>Omnibus:</th>       <td>126.410</td> <th>  Durbin-Watson:     </th> <td>   1.938</td>\n",
       "</tr>\n",
       "<tr>\n",
       "  <th>Prob(Omnibus):</th> <td> 0.000</td>  <th>  Jarque-Bera (JB):  </th> <td> 273.508</td>\n",
       "</tr>\n",
       "<tr>\n",
       "  <th>Skew:</th>          <td>-1.638</td>  <th>  Prob(JB):          </th> <td>4.06e-60</td>\n",
       "</tr>\n",
       "<tr>\n",
       "  <th>Kurtosis:</th>      <td> 5.313</td>  <th>  Cond. No.          </th> <td>    45.6</td>\n",
       "</tr>\n",
       "</table><br/><br/>Warnings:<br/>[1] Standard Errors assume that the covariance matrix of the errors is correctly specified."
      ],
      "text/plain": [
       "<class 'statsmodels.iolib.summary.Summary'>\n",
       "\"\"\"\n",
       "                            OLS Regression Results                            \n",
       "==============================================================================\n",
       "Dep. Variable:             popularity   R-squared:                       0.276\n",
       "Model:                            OLS   Adj. R-squared:                  0.264\n",
       "Method:                 Least Squares   F-statistic:                     21.82\n",
       "Date:                Mon, 15 Jul 2019   Prob (F-statistic):           5.90e-25\n",
       "Time:                        11:03:40   Log-Likelihood:                -1759.5\n",
       "No. Observations:                 408   AIC:                             3535.\n",
       "Df Residuals:                     400   BIC:                             3567.\n",
       "Df Model:                           7                                         \n",
       "Covariance Type:            nonrobust                                         \n",
       "=============================================================================================\n",
       "                                coef    std err          t      P>|t|      [0.025      0.975]\n",
       "---------------------------------------------------------------------------------------------\n",
       "Intercept                    54.6030      3.226     16.927      0.000      48.261      60.945\n",
       "C(genre)[T.jazz]             -6.8887      4.351     -1.583      0.114     -15.442       1.665\n",
       "C(genre)[T.pop]              26.4427      4.545      5.818      0.000      17.508      35.378\n",
       "C(genre)[T.rap]              12.5684      4.482      2.804      0.005       3.758      21.379\n",
       "liveness                     17.4088     17.044      1.021      0.308     -16.098      50.916\n",
       "liveness:C(genre)[T.jazz]   -27.1673     22.475     -1.209      0.227     -71.352      17.017\n",
       "liveness:C(genre)[T.pop]    -43.9207     22.622     -1.941      0.053     -88.394       0.552\n",
       "liveness:C(genre)[T.rap]    -36.0690     23.233     -1.553      0.121     -81.743       9.605\n",
       "==============================================================================\n",
       "Omnibus:                      126.410   Durbin-Watson:                   1.938\n",
       "Prob(Omnibus):                  0.000   Jarque-Bera (JB):              273.508\n",
       "Skew:                          -1.638   Prob(JB):                     4.06e-60\n",
       "Kurtosis:                       5.313   Cond. No.                         45.6\n",
       "==============================================================================\n",
       "\n",
       "Warnings:\n",
       "[1] Standard Errors assume that the covariance matrix of the errors is correctly specified.\n",
       "\"\"\""
      ]
     },
     "execution_count": 28,
     "metadata": {},
     "output_type": "execute_result"
    }
   ],
   "source": [
    "model = ols('popularity~ liveness * C(genre)', total_df).fit()\n",
    "print(f\"Overall model F({model.df_model: .0f},{model.df_resid: .0f}) = {model.fvalue: .3f}, p = {model.f_pvalue: .4f}\")\n",
    "model.summary()"
   ]
  },
  {
   "cell_type": "code",
   "execution_count": 29,
   "metadata": {},
   "outputs": [
    {
     "data": {
      "text/html": [
       "<div>\n",
       "<style scoped>\n",
       "    .dataframe tbody tr th:only-of-type {\n",
       "        vertical-align: middle;\n",
       "    }\n",
       "\n",
       "    .dataframe tbody tr th {\n",
       "        vertical-align: top;\n",
       "    }\n",
       "\n",
       "    .dataframe thead th {\n",
       "        text-align: right;\n",
       "    }\n",
       "</style>\n",
       "<table border=\"1\" class=\"dataframe\">\n",
       "  <thead>\n",
       "    <tr style=\"text-align: right;\">\n",
       "      <th></th>\n",
       "      <th>df</th>\n",
       "      <th>sum_sq</th>\n",
       "      <th>mean_sq</th>\n",
       "      <th>F</th>\n",
       "      <th>PR(&gt;F)</th>\n",
       "    </tr>\n",
       "  </thead>\n",
       "  <tbody>\n",
       "    <tr>\n",
       "      <th>C(genre)</th>\n",
       "      <td>3.0</td>\n",
       "      <td>48765.360294</td>\n",
       "      <td>16255.120098</td>\n",
       "      <td>48.883049</td>\n",
       "      <td>6.183707e-27</td>\n",
       "    </tr>\n",
       "    <tr>\n",
       "      <th>liveness</th>\n",
       "      <td>1.0</td>\n",
       "      <td>649.314070</td>\n",
       "      <td>649.314070</td>\n",
       "      <td>1.952643</td>\n",
       "      <td>1.630769e-01</td>\n",
       "    </tr>\n",
       "    <tr>\n",
       "      <th>liveness:C(genre)</th>\n",
       "      <td>3.0</td>\n",
       "      <td>1365.979003</td>\n",
       "      <td>455.326334</td>\n",
       "      <td>1.369276</td>\n",
       "      <td>2.517021e-01</td>\n",
       "    </tr>\n",
       "    <tr>\n",
       "      <th>Residual</th>\n",
       "      <td>400.0</td>\n",
       "      <td>133012.324574</td>\n",
       "      <td>332.530811</td>\n",
       "      <td>NaN</td>\n",
       "      <td>NaN</td>\n",
       "    </tr>\n",
       "  </tbody>\n",
       "</table>\n",
       "</div>"
      ],
      "text/plain": [
       "                      df         sum_sq       mean_sq          F        PR(>F)\n",
       "C(genre)             3.0   48765.360294  16255.120098  48.883049  6.183707e-27\n",
       "liveness             1.0     649.314070    649.314070   1.952643  1.630769e-01\n",
       "liveness:C(genre)    3.0    1365.979003    455.326334   1.369276  2.517021e-01\n",
       "Residual           400.0  133012.324574    332.530811        NaN           NaN"
      ]
     },
     "execution_count": 29,
     "metadata": {},
     "output_type": "execute_result"
    }
   ],
   "source": [
    "anova_table = sm.stats.anova_lm(model, type= 2)\n",
    "anova_table"
   ]
  },
  {
   "cell_type": "code",
   "execution_count": null,
   "metadata": {},
   "outputs": [],
   "source": []
  }
 ],
 "metadata": {
  "kernelspec": {
   "display_name": "Python 3",
   "language": "python",
   "name": "python3"
  },
  "language_info": {
   "codemirror_mode": {
    "name": "ipython",
    "version": 3
   },
   "file_extension": ".py",
   "mimetype": "text/x-python",
   "name": "python",
   "nbconvert_exporter": "python",
   "pygments_lexer": "ipython3",
   "version": "3.7.3"
  }
 },
 "nbformat": 4,
 "nbformat_minor": 2
}
