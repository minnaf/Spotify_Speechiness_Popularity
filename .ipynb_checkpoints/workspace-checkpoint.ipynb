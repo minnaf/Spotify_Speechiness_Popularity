{
 "cells": [
  {
   "cell_type": "code",
   "execution_count": 5,
   "metadata": {
    "scrolled": true
   },
   "outputs": [],
   "source": [
    "import requests\n",
    "import spotipy\n",
    "import json\n",
    "import pandas as pd\n",
    "import sqlite3"
   ]
  },
  {
   "cell_type": "code",
   "execution_count": 2,
   "metadata": {},
   "outputs": [],
   "source": [
    "import minna_functions as mf"
   ]
  },
  {
   "cell_type": "code",
   "execution_count": 128,
   "metadata": {
    "scrolled": true
   },
   "outputs": [
    {
     "data": {
      "text/plain": [
       "dict_keys(['collaborative', 'description', 'external_urls', 'followers', 'href', 'id', 'images', 'name', 'owner', 'primary_color', 'public', 'snapshot_id', 'tracks', 'type', 'uri'])"
      ]
     },
     "execution_count": 128,
     "metadata": {},
     "output_type": "execute_result"
    }
   ],
   "source": [
    "resp.json().keys()"
   ]
  },
  {
   "cell_type": "code",
   "execution_count": 125,
   "metadata": {},
   "outputs": [
    {
     "data": {
      "text/plain": [
       "'Pop Out (feat. Lil Tjay)'"
      ]
     },
     "execution_count": 125,
     "metadata": {},
     "output_type": "execute_result"
    }
   ],
   "source": [
    "resp.json()['tracks']['items'][8]['track']['name']"
   ]
  },
  {
   "cell_type": "code",
   "execution_count": 6,
   "metadata": {},
   "outputs": [],
   "source": [
    "conn = sqlite3.connect('spotify.db')"
   ]
  },
  {
   "cell_type": "code",
   "execution_count": 7,
   "metadata": {},
   "outputs": [],
   "source": [
    "c = conn.cursor()"
   ]
  },
  {
   "cell_type": "code",
   "execution_count": 8,
   "metadata": {},
   "outputs": [
    {
     "ename": "OperationalError",
     "evalue": "no such table: songs_info_from_playlist",
     "output_type": "error",
     "traceback": [
      "\u001b[0;31m---------------------------------------------------------------------------\u001b[0m",
      "\u001b[0;31mOperationalError\u001b[0m                          Traceback (most recent call last)",
      "\u001b[0;32m<ipython-input-8-3f863ac41415>\u001b[0m in \u001b[0;36m<module>\u001b[0;34m\u001b[0m\n\u001b[0;32m----> 1\u001b[0;31m \u001b[0msql\u001b[0m \u001b[0;34m=\u001b[0m \u001b[0mc\u001b[0m\u001b[0;34m.\u001b[0m\u001b[0mexecute\u001b[0m\u001b[0;34m(\u001b[0m\u001b[0;34m'SELECT * FROM songs_info_from_playlist'\u001b[0m\u001b[0;34m)\u001b[0m\u001b[0;34m\u001b[0m\u001b[0;34m\u001b[0m\u001b[0m\n\u001b[0m",
      "\u001b[0;31mOperationalError\u001b[0m: no such table: songs_info_from_playlist"
     ]
    }
   ],
   "source": [
    "sql = c.execute('SELECT * FROM songs_info_from_playlist')"
   ]
  },
  {
   "cell_type": "code",
   "execution_count": 12,
   "metadata": {},
   "outputs": [],
   "source": [
    "conn = sqlite3.connect('spotify.db')"
   ]
  },
  {
   "cell_type": "code",
   "execution_count": 13,
   "metadata": {},
   "outputs": [],
   "source": [
    "c = conn.cursor()"
   ]
  },
  {
   "cell_type": "code",
   "execution_count": 2,
   "metadata": {},
   "outputs": [],
   "source": [
    "get_playlist = mf.get_spotify_playlist('BQBXQceLyi6gl0OjZEsJkQVEAwXkK9hWyxskUdnoFlGKEBlvM9_ouVMqIAfdFr4a4wex1k8rieC1YakLMNZEIOdDL3vJg7GyUNewNvBw4DDrw3bNlDvHZtgUakNkz1xS9gXvYpAgabRv_k_lolM')"
   ]
  },
  {
   "cell_type": "code",
   "execution_count": 3,
   "metadata": {},
   "outputs": [],
   "source": [
    "get_playlist.get_playlist_SQL('3JGQFCA14s64xYjj6D7AlI','songs_info')"
   ]
  },
  {
   "cell_type": "code",
   "execution_count": 4,
   "metadata": {},
   "outputs": [],
   "source": [
    "df = get_playlist.SQL_to_dataframe('songs_info')"
   ]
  },
  {
   "cell_type": "code",
   "execution_count": 5,
   "metadata": {
    "scrolled": true
   },
   "outputs": [
    {
     "data": {
      "text/html": [
       "<div>\n",
       "<style scoped>\n",
       "    .dataframe tbody tr th:only-of-type {\n",
       "        vertical-align: middle;\n",
       "    }\n",
       "\n",
       "    .dataframe tbody tr th {\n",
       "        vertical-align: top;\n",
       "    }\n",
       "\n",
       "    .dataframe thead th {\n",
       "        text-align: right;\n",
       "    }\n",
       "</style>\n",
       "<table border=\"1\" class=\"dataframe\">\n",
       "  <thead>\n",
       "    <tr style=\"text-align: right;\">\n",
       "      <th></th>\n",
       "      <th>generated_id</th>\n",
       "      <th>song_name</th>\n",
       "      <th>song_id</th>\n",
       "      <th>popularity</th>\n",
       "      <th>artist_name</th>\n",
       "      <th>speechiness</th>\n",
       "      <th>danceability</th>\n",
       "    </tr>\n",
       "  </thead>\n",
       "  <tbody>\n",
       "    <tr>\n",
       "      <th>0</th>\n",
       "      <td>1</td>\n",
       "      <td>Do You Want It</td>\n",
       "      <td>6xkj7fkBkPsZCcqeHTGLp4</td>\n",
       "      <td>25</td>\n",
       "      <td>North Galax</td>\n",
       "      <td>None</td>\n",
       "      <td>None</td>\n",
       "    </tr>\n",
       "    <tr>\n",
       "      <th>1</th>\n",
       "      <td>2</td>\n",
       "      <td>Señorita</td>\n",
       "      <td>0TK2YIli7K1leLovkQiNik</td>\n",
       "      <td>100</td>\n",
       "      <td>Shawn Mendes</td>\n",
       "      <td>None</td>\n",
       "      <td>None</td>\n",
       "    </tr>\n",
       "    <tr>\n",
       "      <th>2</th>\n",
       "      <td>3</td>\n",
       "      <td>Andromeda</td>\n",
       "      <td>4L1bX6H2DlKOcPDWfloxm6</td>\n",
       "      <td>24</td>\n",
       "      <td>North Galax</td>\n",
       "      <td>None</td>\n",
       "      <td>None</td>\n",
       "    </tr>\n",
       "    <tr>\n",
       "      <th>3</th>\n",
       "      <td>4</td>\n",
       "      <td>Money In The Grave (Drake ft. Rick Ross)</td>\n",
       "      <td>5ry2OE6R2zPQFDO85XkgRb</td>\n",
       "      <td>93</td>\n",
       "      <td>Drake</td>\n",
       "      <td>None</td>\n",
       "      <td>None</td>\n",
       "    </tr>\n",
       "    <tr>\n",
       "      <th>4</th>\n",
       "      <td>5</td>\n",
       "      <td>Panini</td>\n",
       "      <td>6fTt0CH2t0mdeB2N9XFG5r</td>\n",
       "      <td>91</td>\n",
       "      <td>Lil Nas X</td>\n",
       "      <td>None</td>\n",
       "      <td>None</td>\n",
       "    </tr>\n",
       "  </tbody>\n",
       "</table>\n",
       "</div>"
      ],
      "text/plain": [
       "   generated_id                                 song_name  \\\n",
       "0             1                            Do You Want It   \n",
       "1             2                                  Señorita   \n",
       "2             3                                 Andromeda   \n",
       "3             4  Money In The Grave (Drake ft. Rick Ross)   \n",
       "4             5                                    Panini   \n",
       "\n",
       "                  song_id  popularity   artist_name speechiness danceability  \n",
       "0  6xkj7fkBkPsZCcqeHTGLp4          25   North Galax        None         None  \n",
       "1  0TK2YIli7K1leLovkQiNik         100  Shawn Mendes        None         None  \n",
       "2  4L1bX6H2DlKOcPDWfloxm6          24   North Galax        None         None  \n",
       "3  5ry2OE6R2zPQFDO85XkgRb          93         Drake        None         None  \n",
       "4  6fTt0CH2t0mdeB2N9XFG5r          91     Lil Nas X        None         None  "
      ]
     },
     "execution_count": 5,
     "metadata": {},
     "output_type": "execute_result"
    }
   ],
   "source": [
    "df.head()"
   ]
  },
  {
   "cell_type": "code",
   "execution_count": 6,
   "metadata": {
    "scrolled": false
   },
   "outputs": [],
   "source": [
    "temp = get_playlist.song_audio_features(df)"
   ]
  },
  {
   "cell_type": "code",
   "execution_count": 13,
   "metadata": {},
   "outputs": [
    {
     "data": {
      "text/plain": [
       "<sqlite3.Cursor at 0x118cea500>"
      ]
     },
     "execution_count": 13,
     "metadata": {},
     "output_type": "execute_result"
    }
   ],
   "source": [
    "c.execute('''DROP TABLE top_50_USA''')"
   ]
  },
  {
   "cell_type": "code",
   "execution_count": 12,
   "metadata": {},
   "outputs": [
    {
     "ename": "OperationalError",
     "evalue": "no such table: test2",
     "output_type": "error",
     "traceback": [
      "\u001b[0;31m---------------------------------------------------------------------------\u001b[0m",
      "\u001b[0;31mOperationalError\u001b[0m                          Traceback (most recent call last)",
      "\u001b[0;32m<ipython-input-12-d8909b4282b6>\u001b[0m in \u001b[0;36m<module>\u001b[0;34m\u001b[0m\n\u001b[0;32m----> 1\u001b[0;31m \u001b[0mc\u001b[0m\u001b[0;34m.\u001b[0m\u001b[0mexecute\u001b[0m\u001b[0;34m(\u001b[0m\u001b[0;34m'''DROP TABLE test2'''\u001b[0m\u001b[0;34m)\u001b[0m\u001b[0;34m\u001b[0m\u001b[0;34m\u001b[0m\u001b[0m\n\u001b[0m",
      "\u001b[0;31mOperationalError\u001b[0m: no such table: test2"
     ]
    }
   ],
   "source": [
    "c.execute('''DROP TABLE test2''')"
   ]
  },
  {
   "cell_type": "code",
   "execution_count": 6,
   "metadata": {},
   "outputs": [],
   "source": [
    "conn.close()"
   ]
  },
  {
   "cell_type": "code",
   "execution_count": 53,
   "metadata": {},
   "outputs": [
    {
     "data": {
      "text/html": [
       "<div>\n",
       "<style scoped>\n",
       "    .dataframe tbody tr th:only-of-type {\n",
       "        vertical-align: middle;\n",
       "    }\n",
       "\n",
       "    .dataframe tbody tr th {\n",
       "        vertical-align: top;\n",
       "    }\n",
       "\n",
       "    .dataframe thead th {\n",
       "        text-align: right;\n",
       "    }\n",
       "</style>\n",
       "<table border=\"1\" class=\"dataframe\">\n",
       "  <thead>\n",
       "    <tr style=\"text-align: right;\">\n",
       "      <th></th>\n",
       "      <th>generated_id</th>\n",
       "      <th>song_name</th>\n",
       "      <th>song_id</th>\n",
       "      <th>popularity</th>\n",
       "      <th>artist_name</th>\n",
       "    </tr>\n",
       "  </thead>\n",
       "  <tbody>\n",
       "    <tr>\n",
       "      <th>0</th>\n",
       "      <td>1</td>\n",
       "      <td>Omertà</td>\n",
       "      <td>3kCwyvhvVTyehIzYN2I0nF</td>\n",
       "      <td>78</td>\n",
       "      <td>Drake</td>\n",
       "    </tr>\n",
       "    <tr>\n",
       "      <th>1</th>\n",
       "      <td>2</td>\n",
       "      <td>Money In The Grave (Drake ft. Rick Ross)</td>\n",
       "      <td>5ry2OE6R2zPQFDO85XkgRb</td>\n",
       "      <td>93</td>\n",
       "      <td>Drake</td>\n",
       "    </tr>\n",
       "    <tr>\n",
       "      <th>2</th>\n",
       "      <td>3</td>\n",
       "      <td>Lust For Life</td>\n",
       "      <td>1v24T2ug4TlssYZvI3aL4O</td>\n",
       "      <td>63</td>\n",
       "      <td>Drake</td>\n",
       "    </tr>\n",
       "    <tr>\n",
       "      <th>3</th>\n",
       "      <td>4</td>\n",
       "      <td>Houstatlantavegas</td>\n",
       "      <td>3XLSlQLJf3Ut0zvMUxnF1h</td>\n",
       "      <td>62</td>\n",
       "      <td>Drake</td>\n",
       "    </tr>\n",
       "    <tr>\n",
       "      <th>4</th>\n",
       "      <td>5</td>\n",
       "      <td>No Guidance (feat. Drake)</td>\n",
       "      <td>7FEwp8BavoEVE3AnxJDchc</td>\n",
       "      <td>88</td>\n",
       "      <td>Chris Brown</td>\n",
       "    </tr>\n",
       "  </tbody>\n",
       "</table>\n",
       "</div>"
      ],
      "text/plain": [
       "   generated_id                                 song_name  \\\n",
       "0             1                                    Omertà   \n",
       "1             2  Money In The Grave (Drake ft. Rick Ross)   \n",
       "2             3                             Lust For Life   \n",
       "3             4                         Houstatlantavegas   \n",
       "4             5                 No Guidance (feat. Drake)   \n",
       "\n",
       "                  song_id  popularity  artist_name  \n",
       "0  3kCwyvhvVTyehIzYN2I0nF          78        Drake  \n",
       "1  5ry2OE6R2zPQFDO85XkgRb          93        Drake  \n",
       "2  1v24T2ug4TlssYZvI3aL4O          63        Drake  \n",
       "3  3XLSlQLJf3Ut0zvMUxnF1h          62        Drake  \n",
       "4  7FEwp8BavoEVE3AnxJDchc          88  Chris Brown  "
      ]
     },
     "execution_count": 53,
     "metadata": {},
     "output_type": "execute_result"
    }
   ],
   "source": [
    "df = get_playlist.SQL_to_dataframe('test')\n",
    "df.head()"
   ]
  },
  {
   "cell_type": "code",
   "execution_count": 41,
   "metadata": {},
   "outputs": [],
   "source": [
    "temp = (\",\".join(song_ids))"
   ]
  },
  {
   "cell_type": "code",
   "execution_count": null,
   "metadata": {},
   "outputs": [],
   "source": [
    "resp = requests.get(f'https://api.spotify.com/v1/playlists/{playlist_id}', headers = self.headers)\n",
    "data_json = resp.json()\n",
    "\n",
    "\n",
    "c = conn.cursor()\n",
    "c.execute(f'''CREATE TABLE IF NOT EXISTS {table_name}\n",
    "         ([index] INTEGER PRIMARY KEY,\n",
    "         [song_name] text, \n",
    "         [song_id] text,\n",
    "         [popularity] integer,\n",
    "         [artist_name] text,\n",
    "         [speechiness] float, \n",
    "         [danceability] float)''')\n",
    "\n",
    "\n",
    "for i in data_json['tracks']['items']:  \n",
    "    c.execute(f'''INSERT INTO {table_name} \n",
    "            (song_name, song_id, popularity, artist_name)\n",
    "            VALUES(?,?,?,?)''', \n",
    "            (i['items']['name'],\n",
    "             i['track']['id'],\n",
    "             i['track']['popularity'],\n",
    "             i['track']['artists'][0]['name']))"
   ]
  }
 ],
 "metadata": {
  "kernelspec": {
   "display_name": "Python 3",
   "language": "python",
   "name": "python3"
  },
  "language_info": {
   "codemirror_mode": {
    "name": "ipython",
    "version": 3
   },
   "file_extension": ".py",
   "mimetype": "text/x-python",
   "name": "python",
   "nbconvert_exporter": "python",
   "pygments_lexer": "ipython3",
   "version": "3.7.3"
  }
 },
 "nbformat": 4,
 "nbformat_minor": 2
}
