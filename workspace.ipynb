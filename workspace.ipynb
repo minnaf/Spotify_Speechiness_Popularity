{
 "cells": [
  {
   "cell_type": "code",
   "execution_count": 2,
   "metadata": {
    "scrolled": true
   },
   "outputs": [],
   "source": [
    "import requests\n",
    "import spotipy\n",
    "import json\n",
    "import pandas as pd\n",
    "import sqlite3"
   ]
  },
  {
   "cell_type": "code",
   "execution_count": 22,
   "metadata": {},
   "outputs": [],
   "source": [
    "resp = requests.get('https://api.spotify.com/v1/playlists/6CBB6s47YqSPeUzVQ5JIm7', headers = headers)"
   ]
  },
  {
   "cell_type": "code",
   "execution_count": 23,
   "metadata": {},
   "outputs": [
    {
     "data": {
      "text/plain": [
       "True"
      ]
     },
     "execution_count": 23,
     "metadata": {},
     "output_type": "execute_result"
    }
   ],
   "source": [
    "resp.status_code == requests.codes.ok"
   ]
  },
  {
   "cell_type": "code",
   "execution_count": 128,
   "metadata": {
    "scrolled": true
   },
   "outputs": [
    {
     "data": {
      "text/plain": [
       "dict_keys(['collaborative', 'description', 'external_urls', 'followers', 'href', 'id', 'images', 'name', 'owner', 'primary_color', 'public', 'snapshot_id', 'tracks', 'type', 'uri'])"
      ]
     },
     "execution_count": 128,
     "metadata": {},
     "output_type": "execute_result"
    }
   ],
   "source": [
    "resp.json().keys()"
   ]
  },
  {
   "cell_type": "code",
   "execution_count": 125,
   "metadata": {},
   "outputs": [
    {
     "data": {
      "text/plain": [
       "'Pop Out (feat. Lil Tjay)'"
      ]
     },
     "execution_count": 125,
     "metadata": {},
     "output_type": "execute_result"
    }
   ],
   "source": [
    "resp.json()['tracks']['items'][8]['track']['name']"
   ]
  },
  {
   "cell_type": "code",
   "execution_count": 145,
   "metadata": {
    "scrolled": true
   },
   "outputs": [
    {
     "data": {
      "text/html": [
       "<div>\n",
       "<style scoped>\n",
       "    .dataframe tbody tr th:only-of-type {\n",
       "        vertical-align: middle;\n",
       "    }\n",
       "\n",
       "    .dataframe tbody tr th {\n",
       "        vertical-align: top;\n",
       "    }\n",
       "\n",
       "    .dataframe thead th {\n",
       "        text-align: right;\n",
       "    }\n",
       "</style>\n",
       "<table border=\"1\" class=\"dataframe\">\n",
       "  <thead>\n",
       "    <tr style=\"text-align: right;\">\n",
       "      <th></th>\n",
       "      <th>song_name</th>\n",
       "      <th>song_id</th>\n",
       "      <th>populatiry</th>\n",
       "      <th>artist_name</th>\n",
       "    </tr>\n",
       "  </thead>\n",
       "  <tbody>\n",
       "    <tr>\n",
       "      <th>0</th>\n",
       "      <td>bad guy</td>\n",
       "      <td>2Fxmhks0bxGSBdJ92vM42m</td>\n",
       "      <td>98</td>\n",
       "      <td>Billie Eilish</td>\n",
       "    </tr>\n",
       "    <tr>\n",
       "      <th>1</th>\n",
       "      <td>The London (feat. J. Cole &amp; Travis Scott)</td>\n",
       "      <td>7DcvwMAiqKJQD1rrdfxSDx</td>\n",
       "      <td>91</td>\n",
       "      <td>Young Thug</td>\n",
       "    </tr>\n",
       "    <tr>\n",
       "      <th>2</th>\n",
       "      <td>Old Town Road - Remix</td>\n",
       "      <td>6u7jPi22kF8CTQ3rb9DHE7</td>\n",
       "      <td>97</td>\n",
       "      <td>Lil Nas X</td>\n",
       "    </tr>\n",
       "    <tr>\n",
       "      <th>3</th>\n",
       "      <td>EARFQUAKE</td>\n",
       "      <td>5hVghJ4KaYES3BFUATCYn0</td>\n",
       "      <td>90</td>\n",
       "      <td>Tyler, The Creator</td>\n",
       "    </tr>\n",
       "    <tr>\n",
       "      <th>4</th>\n",
       "      <td>Suge</td>\n",
       "      <td>2gwkD6igEhQbDQegRCcdoB</td>\n",
       "      <td>89</td>\n",
       "      <td>DaBaby</td>\n",
       "    </tr>\n",
       "  </tbody>\n",
       "</table>\n",
       "</div>"
      ],
      "text/plain": [
       "                                   song_name                 song_id  \\\n",
       "0                                    bad guy  2Fxmhks0bxGSBdJ92vM42m   \n",
       "1  The London (feat. J. Cole & Travis Scott)  7DcvwMAiqKJQD1rrdfxSDx   \n",
       "2                      Old Town Road - Remix  6u7jPi22kF8CTQ3rb9DHE7   \n",
       "3                                  EARFQUAKE  5hVghJ4KaYES3BFUATCYn0   \n",
       "4                                       Suge  2gwkD6igEhQbDQegRCcdoB   \n",
       "\n",
       "  populatiry         artist_name  \n",
       "0         98       Billie Eilish  \n",
       "1         91          Young Thug  \n",
       "2         97           Lil Nas X  \n",
       "3         90  Tyler, The Creator  \n",
       "4         89              DaBaby  "
      ]
     },
     "execution_count": 145,
     "metadata": {},
     "output_type": "execute_result"
    }
   ],
   "source": [
    "name_id_df = pd.DataFrame(columns = ['song_name', 'song_id', 'populatiry', 'artist_name'])\n",
    "\n",
    "\n",
    "for i in range(len(resp.json()['tracks']['items'])):\n",
    "    name_id_df.loc[i] = [resp.json()['tracks']['items'][i]['track']['name']] + [resp.json()['tracks']['items'][i]['track']['id']] + [resp.json()['tracks']['items'][i]['track']['popularity']] + [resp.json()['tracks']['items'][i]['track']['artists'][0]['name']] \n",
    "    \n",
    "    \n",
    "name_id_df.head()    "
   ]
  },
  {
   "cell_type": "code",
   "execution_count": 219,
   "metadata": {},
   "outputs": [],
   "source": [
    "conn = sqlite3.connect('spotify.db')"
   ]
  },
  {
   "cell_type": "code",
   "execution_count": 220,
   "metadata": {},
   "outputs": [],
   "source": [
    "c = conn.cursor()"
   ]
  },
  {
   "cell_type": "code",
   "execution_count": 194,
   "metadata": {},
   "outputs": [
    {
     "data": {
      "text/plain": [
       "<sqlite3.Cursor at 0x12535d340>"
      ]
     },
     "execution_count": 194,
     "metadata": {},
     "output_type": "execute_result"
    }
   ],
   "source": [
    "c.execute('''CREATE TABLE IF NOT EXISTS songs_info_from_playlist\n",
    "                 ([generated_id] INTEGER PRIMARY KEY,\n",
    "                 [song_name] text, \n",
    "                 [song_id] text,\n",
    "                 [popularity] integer,\n",
    "                 [artist_name] text)''')"
   ]
  },
  {
   "cell_type": "code",
   "execution_count": 195,
   "metadata": {},
   "outputs": [],
   "source": [
    "for i in range(len(resp.json()['tracks']['items'])):  \n",
    "    c.execute('''INSERT INTO songs_info_from_playlist \n",
    "                    ([song_name], song_id, popularity, artist_name)\n",
    "                    VALUES(?,?,?,?)''', \n",
    "                    (resp.json()['tracks']['items'][i]['track']['name'],\n",
    "                     resp.json()['tracks']['items'][i]['track']['id'],\n",
    "                     resp.json()['tracks']['items'][i]['track']['popularity'],\n",
    "                     resp.json()['tracks']['items'][i]['track']['artists'][0]['name']))\n",
    "    conn.commit()\n"
   ]
  },
  {
   "cell_type": "code",
   "execution_count": 212,
   "metadata": {},
   "outputs": [],
   "source": [
    "sql = c.execute('SELECT * FROM songs_info_from_playlist')"
   ]
  },
  {
   "cell_type": "code",
   "execution_count": 206,
   "metadata": {
    "scrolled": true
   },
   "outputs": [
    {
     "name": "stdout",
     "output_type": "stream",
     "text": [
      "[(1, 'bad guy', '2Fxmhks0bxGSBdJ92vM42m', 98, 'Billie Eilish'), (2, 'The London (feat. J. Cole & Travis Scott)', '7DcvwMAiqKJQD1rrdfxSDx', 91, 'Young Thug'), (3, 'Old Town Road - Remix', '6u7jPi22kF8CTQ3rb9DHE7', 97, 'Lil Nas X'), (4, 'EARFQUAKE', '5hVghJ4KaYES3BFUATCYn0', 90, 'Tyler, The Creator'), (5, 'Suge', '2gwkD6igEhQbDQegRCcdoB', 89, 'DaBaby'), (6, \"I Don't Care (with Justin Bieber)\", '3HVWdVOQ0ZA45FuZGSfvns', 99, 'Ed Sheeran'), (7, 'Truth Hurts', '5qmq61DAAOUaW8AUo8xKhh', 91, 'Lizzo'), (8, 'Sunflower - Spider-Man: Into the Spider-Verse', '3KkXRkHbMCARz0aVfEt68P', 93, 'Post Malone'), (9, 'Pop Out (feat. Lil Tjay)', '5AjINjwKyRvQJhSe2zpPHi', 83, 'Polo G'), (10, 'Talk', '6TqXcAFInzjp0bODyvrWEq', 87, 'Khalid'), (11, \"If I Can't Have You\", '6LsAAHotRLMOHfCsSfYCsz', 94, 'Shawn Mendes'), (12, 'Never Really Over', '5PYQUBXc7NYeI1obMKSJK0', 92, 'Katy Perry'), (13, 'MIDDLE CHILD', '2JvzF1RMd7lE3KmFlsyZD8', 88, 'J. Cole'), (14, 'Wow.', '6MWtB6iiXyIwun0YzU6DFP', 90, 'Post Malone'), (15, 'Go Loko (feat. Tyga, Jon Z)', '1kK6DwzyXJSp58u5HYWwuD', 77, 'YG'), (16, \"Mother's Daughter\", '2WyRfGeHo97VC5mP1BBSzr', 88, 'Miley Cyrus'), (17, 'Swervin (feat. 6ix9ine)', '1wJRveJZLSb1rjhnUHQiv6', 88, 'A Boogie Wit da Hoodie'), (18, 'Sanguine Paradise', '3XiNC94b4Tq1xwv70sQJGN', 86, 'Lil Uzi Vert'), (19, 'Amor Genuino', '6pK5edDoyrn4mWwRSVc2a5', 83, 'Ozuna'), (20, 'Old Town Road', '53CJANUxooaqGOtdsBTh7O', 92, 'Lil Nas X'), (21, 'Call You Mine (with Bebe Rexha)', '05CwHjIk71RXVU40boRMnR', 91, 'The Chainsmokers'), (22, 'Cross Me (feat. Chance the Rapper & PnB Rock)', '543bCW2ruMPmxUBWirQ3MR', 91, 'Ed Sheeran'), (23, 'Sucker', '4y3OI86AEP6PQoDE6olYhO', 91, 'Jonas Brothers'), (24, '7 rings', '6ocbgoVGwYJhOv1GgI9NsF', 90, 'Ariana Grande'), (25, 'Press', '6dPyzkyZwoj9LqjQXOFdVv', 82, 'Cardi B'), (26, 'Pure Water (with Migos)', '63cd4JkwGgYJrbOizbfmsp', 86, 'Mustard'), (27, 'Going Bad (feat. Drake)', '2IRZnDFmlqMuOrYOLnZZyc', 86, 'Meek Mill'), (28, \"when the party's over\", '43zdsphuZLzwA9k4DJhU0I', 90, 'Billie Eilish'), (29, 'Isis', '36TO60sxDduIsO3xH8IcUh', 83, 'Joyner Lucas'), (30, 'Someone You Loved', '7qEHsqek33rTcFNT9PFqLf', 88, 'Lewis Capaldi'), (31, 'Robbery', '6Hj9jySrnFppAI0sEMCZpJ', 84, 'Juice WRLD'), (32, 'Envy Me', '7rvyVWja33WG9R97oeJAjx', 73, 'Calboy'), (33, 'Murder On My Mind', '7eBqSVxrzQZtK2mmgRG6lC', 86, 'YNW Melly'), (34, 'Paradise', '7njKgVl3AnLflRad38o7AG', 87, 'Bazzi'), (35, 'Summer Days (feat. Macklemore & Patrick Stump of Fall Out Boy)', '7Feaw9WAEREY0DUOSXJLOM', 92, 'Martin Garrix'), (36, 'bury a friend', '4SSnFejRGlZikf02HLewEF', 89, 'Billie Eilish'), (37, 'Homicide (feat. Eminem)', '2MuMD298IpYqKF367wegUd', 78, 'Logic'), (38, 'Eastside (with Halsey & Khalid)', '7FGq80cy8juXBCD2nrqdWU', 79, 'benny blanco'), (39, 'Nightmare', '340UVheS8z3ncW9TTUhAbc', 85, 'Halsey'), (40, 'Better', '6zeeWid2sgw4lap2jV61PZ', 83, 'Khalid'), (41, 'ME! (feat. Brendon Urie of Panic! At The Disco)', '4MsUsFfWseB9M2plGJyuIw', 89, 'Taylor Swift'), (42, 'Drip Too Hard (Lil Baby & Gunna)', '78QR3Wp35dqAhFEc2qAGjE', 85, 'Lil Baby'), (43, 'SICKO MODE', '2xLMifQCjDGFmkHkpNLD9h', 87, 'Travis Scott'), (44, 'lovely (with Khalid)', '0u2P5u6lvoDfwTYjAADbn4', 89, 'Billie Eilish'), (45, 'Callaita', '2TH65lNHgvLxCKXM3apjxI', 94, 'Bad Bunny'), (46, 'Shotta Flow', '4dAMdQ6g4kGmnc1MDHsg77', 83, 'NLE Choppa'), (47, 'Easier', '4tNXntkAzQ5A2dfYRYGIIQ', 88, '5 Seconds of Summer'), (48, 'Lucid Dreams', '285pBltuF7vW8TeWk8hdRR', 86, 'Juice WRLD'), (49, 'Find U Again (feat. Camila Cabello)', '1HpzOCZbNWzxvvXfSGtSrX', 86, 'Mark Ronson'), (50, 'Mixed Personalities (feat. Kanye West)', '6vWEAOUSxohKxhp0K1BsxL', 83, 'YNW Melly'), (51, 'Omertà', '3kCwyvhvVTyehIzYN2I0nF', 79, 'Drake'), (52, 'Money In The Grave (Drake ft. Rick Ross)', '5ry2OE6R2zPQFDO85XkgRb', 93, 'Drake'), (53, 'Lust For Life', '1v24T2ug4TlssYZvI3aL4O', 64, 'Drake'), (54, 'Houstatlantavegas', '3XLSlQLJf3Ut0zvMUxnF1h', 63, 'Drake'), (55, 'No Guidance (feat. Drake)', '7FEwp8BavoEVE3AnxJDchc', 89, 'Chris Brown'), (56, 'Successful (feat. Trey Songz & Lil Wayne)', '6NwhtCYkfwWlcR62Ac4E7y', 64, 'Drake'), (57, 'Let’s Call It Off (feat. Peter Bjorn and John)', '4FDSPGncHRpr6yB8DD4CtI', 61, 'Drake'), (58, 'November 18th', '0JaVdpmiex2EP7bBzyKVTa', 64, 'Drake'), (59, 'Ignant Shit (feat. Lil Wayne)', '2hcohLIysMxofYziluXCoX', 61, 'Drake'), (60, 'A Night Off (feat. Lloyd)', '3lkkkYc1wBj5l3FVlpqvP6', 58, 'Drake'), (61, \"Say What's Real\", '7mPoCVGP752A5DtHf1SKkM', 59, 'Drake'), (62, 'Little Bit (feat. Lykke Li)', '524wvipGqxPKYWxkjf9y46', 61, 'Drake'), (63, 'Best I Ever Had', '3QLjDkgLh9AOEHlhQtDuhs', 63, 'Drake'), (64, 'Unstoppable (feat. Santigold & Lil Wayne)', '2TWSilrWcTrgVKcP8kfEfg', 59, 'Drake'), (65, 'Uptown (feat. Bun B & Lil Wayne)', '0q7LGcVSpsIoSbjChtZ8lI', 62, 'Drake'), (66, 'Sooner Than Later', '43iKgGbmfqPLh3mxUlospI', 58, 'Drake'), (67, \"Bria's Interlude (feat. Omarion)\", '4i3GraNMzBKze1WsVl38DS', 59, 'Drake'), (68, 'The Calm', '6MlGqWzDiLkZ0vmAEsisEk', 57, 'Drake'), (69, 'Outro (feat. Chilly Gonzales)', '6hHKFReuQR9VQp39ev43wY', 55, 'Drake'), (70, 'Brand New', '4XTXamS1g4g93jPxyuFJJ6', 58, 'Drake'), (71, 'Congratulations', '3SnXwQUrvSacFziUYXTNKY', 59, 'Drake'), (72, \"God's Plan\", '2VWbHHhWnMzKWPUs4IEEW9', 12, 'Drake'), (73, 'Nonstop', '2Vx8E3K5icPZR7OCklWBXX', 17, 'Drake'), (74, 'Passionfruit', '5mCPDVBb16L4XQwDdbRUpz', 79, 'Drake'), (75, '0 To 100 / The Catch Up', '4jtyUzZm9WLc2AdaJ1dso7', 70, 'Drake'), (76, 'In My Feelings', '0bAkKNCQfWkexHFn7fIKns', 21, 'Drake'), (77, 'Controlla', '4CpKEkdGbOJV51cSvx7SoG', 64, 'Drake'), (78, 'MIA (feat. Drake)', '116H0KvKr2Zl4RPuVBruDO', 86, 'Bad Bunny'), (79, 'The Motto', '49ySwzAyvxcNXOkOP6ZB1L', 10, 'Drake'), (80, 'Headlines', '7kfTqGMzIHFWeBeOJALzRf', 52, 'Drake'), (81, 'Look Alive (feat. Drake)', '4qKcDkK6siZ7Jp1Jb4m0aL', 81, 'BlocBoy JB'), (82, 'One Dance', '12VWzyPDBCc8fqeWCAfNwR', 67, 'Drake'), (83, 'Nice For What', '0HVv5bEOiI9a0QfgcASXpX', 11, 'Drake'), (84, 'Mob Ties', '7txPE73wHbuXYkM1h8zNrG', 11, 'Drake'), (85, 'Fake Love', '343YBumqHu19cGoGARUTsd', 73, 'Drake'), (86, 'Do Not Disturb', '2KvHC9z14GSl4YpkNMX384', 69, 'Drake'), (87, 'Don’t Matter To Me', '36ONiya0OANYknz0GgJmwB', 19, 'Drake'), (88, 'Jumpman', '27GmP9AWRs744SzKcpJsTZ', 74, 'Drake'), (89, 'All Me', '4kNvYhyl8R6m1vykVkcuBu', 67, 'Drake'), (90, \"I'm Upset\", '1iSZPndzmY6NvL1jAtIvY1', 10, 'Drake'), (91, \"Hold On, We're Going Home\", '14Rcq31SafFBHNEwXrtR2B', 69, 'Drake'), (92, 'Walk It Talk It', '6n4U3TlzUGhdSFbUUhTvLP', 79, 'Migos'), (93, 'Up All Night', '75L0qdzRnhwV62UXoNq3pE', 62, 'Drake'), (94, 'Too Good', '3BtuIIrQlkujKPuWF2B85z', 73, 'Drake'), (95, 'Started From the Bottom', '6V2D8Lls36APk0THDjBDfE', 66, 'Drake'), (96, 'Portland', '2bjwRfXMk4uRgOD9IBYl9h', 73, 'Drake'), (97, 'Make Me Proud', '0pN1Ld0Fr9DTUaCGbKRvlF', 45, 'Drake'), (98, 'Signs', '6Na5uKk5SsqZimk0hAWo8y', 70, 'Drake'), (99, 'Can’t Take A Joke', '7cfvP13Bqb1EyCZQiYsLum', 9, 'Drake'), (100, 'Still Here', '4YJmZfvlheSziXem8HBWrj', 59, 'Drake'), (101, 'Best I Ever Had', '3fyMH1t6UPeR5croea9PrR', 23, 'Drake'), (102, 'Legend', '1ID1QFSNNxi0hiZCNcwjUC', 69, 'Drake'), (103, 'Elevate', '4uloft7ZE54WflsuqFmjC7', 9, 'Drake'), (104, 'Emotionless', '1v1IXPXl73Z7zy6f5tUa9n', 9, 'Drake'), (105, 'That’s How You Feel', '0SVsEdvot6vU4byv5yW0oj', 7, 'Drake'), (106, 'Finesse', '590bUp2TKTfTS9NfiD4Nmn', 7, 'Drake'), (107, 'Blue Tint', '1Jrj3k5L36dPkU6KAclU7g', 7, 'Drake'), (108, '8 Out Of 10', '5fcM0StdQxMjzulVGhFkHN', 8, 'Drake'), (109, 'Jaded', '3jipFRgLyKK0oJoG1pKicx', 7, 'Drake'), (110, 'Summer Games', '0w1ZtnzQmtmuuoKxHT0pLL', 8, 'Drake'), (111, 'Sandra’s Rose', '1sPLURKAosM3Jampgp9AWq', 8, 'Drake'), (112, 'After Dark', '4IvenHmD0spfFDOKphoUDp', 9, 'Drake'), (113, 'Peak', '2RAeY8dPj6KmStROfEigjV', 7, 'Drake'), (114, 'Talk Up', '3Yw09dj3cTXsAzlLjgBfIP', 7, 'Drake'), (115, 'Survival', '71SEHJPt1iDwGkBhUOAXDP', 7, 'Drake'), (116, 'Is There More', '2QoOyCFpDo4NblMLP7vBRT', 6, 'Drake'), (117, 'Final Fantasy', '7ijJ5crvsnCvCLJbHpyq3j', 5, 'Drake'), (118, 'March 14', '40IiSjljbAhrSbdJ3HxSfH', 5, 'Drake'), (119, 'Ratchet Happy Birthday', '16x6tqeSkIjoLEf7SJLlYy', 6, 'Drake'), (120, 'Omertà', '3kCwyvhvVTyehIzYN2I0nF', 79, 'Drake'), (121, 'Money In The Grave (Drake ft. Rick Ross)', '5ry2OE6R2zPQFDO85XkgRb', 93, 'Drake'), (122, 'Lust For Life', '1v24T2ug4TlssYZvI3aL4O', 64, 'Drake'), (123, 'Houstatlantavegas', '3XLSlQLJf3Ut0zvMUxnF1h', 63, 'Drake'), (124, 'No Guidance (feat. Drake)', '7FEwp8BavoEVE3AnxJDchc', 89, 'Chris Brown'), (125, 'Successful (feat. Trey Songz & Lil Wayne)', '6NwhtCYkfwWlcR62Ac4E7y', 64, 'Drake'), (126, 'Let’s Call It Off (feat. Peter Bjorn and John)', '4FDSPGncHRpr6yB8DD4CtI', 61, 'Drake'), (127, 'November 18th', '0JaVdpmiex2EP7bBzyKVTa', 64, 'Drake'), (128, 'Ignant Shit (feat. Lil Wayne)', '2hcohLIysMxofYziluXCoX', 61, 'Drake'), (129, 'A Night Off (feat. Lloyd)', '3lkkkYc1wBj5l3FVlpqvP6', 58, 'Drake'), (130, \"Say What's Real\", '7mPoCVGP752A5DtHf1SKkM', 59, 'Drake'), (131, 'Little Bit (feat. Lykke Li)', '524wvipGqxPKYWxkjf9y46', 61, 'Drake'), (132, 'Best I Ever Had', '3QLjDkgLh9AOEHlhQtDuhs', 63, 'Drake'), (133, 'Unstoppable (feat. Santigold & Lil Wayne)', '2TWSilrWcTrgVKcP8kfEfg', 59, 'Drake'), (134, 'Uptown (feat. Bun B & Lil Wayne)', '0q7LGcVSpsIoSbjChtZ8lI', 62, 'Drake'), (135, 'Sooner Than Later', '43iKgGbmfqPLh3mxUlospI', 58, 'Drake'), (136, \"Bria's Interlude (feat. Omarion)\", '4i3GraNMzBKze1WsVl38DS', 59, 'Drake'), (137, 'The Calm', '6MlGqWzDiLkZ0vmAEsisEk', 57, 'Drake'), (138, 'Outro (feat. Chilly Gonzales)', '6hHKFReuQR9VQp39ev43wY', 55, 'Drake'), (139, 'Brand New', '4XTXamS1g4g93jPxyuFJJ6', 58, 'Drake'), (140, 'Congratulations', '3SnXwQUrvSacFziUYXTNKY', 59, 'Drake'), (141, \"God's Plan\", '2VWbHHhWnMzKWPUs4IEEW9', 12, 'Drake'), (142, 'Nonstop', '2Vx8E3K5icPZR7OCklWBXX', 17, 'Drake'), (143, 'Passionfruit', '5mCPDVBb16L4XQwDdbRUpz', 79, 'Drake'), (144, '0 To 100 / The Catch Up', '4jtyUzZm9WLc2AdaJ1dso7', 70, 'Drake'), (145, 'In My Feelings', '0bAkKNCQfWkexHFn7fIKns', 21, 'Drake'), (146, 'Controlla', '4CpKEkdGbOJV51cSvx7SoG', 64, 'Drake'), (147, 'MIA (feat. Drake)', '116H0KvKr2Zl4RPuVBruDO', 86, 'Bad Bunny'), (148, 'The Motto', '49ySwzAyvxcNXOkOP6ZB1L', 10, 'Drake'), (149, 'Headlines', '7kfTqGMzIHFWeBeOJALzRf', 52, 'Drake'), (150, 'Look Alive (feat. Drake)', '4qKcDkK6siZ7Jp1Jb4m0aL', 81, 'BlocBoy JB'), (151, 'One Dance', '12VWzyPDBCc8fqeWCAfNwR', 67, 'Drake'), (152, 'Nice For What', '0HVv5bEOiI9a0QfgcASXpX', 11, 'Drake'), (153, 'Mob Ties', '7txPE73wHbuXYkM1h8zNrG', 11, 'Drake'), (154, 'Fake Love', '343YBumqHu19cGoGARUTsd', 73, 'Drake'), (155, 'Do Not Disturb', '2KvHC9z14GSl4YpkNMX384', 69, 'Drake'), (156, 'Don’t Matter To Me', '36ONiya0OANYknz0GgJmwB', 19, 'Drake'), (157, 'Jumpman', '27GmP9AWRs744SzKcpJsTZ', 74, 'Drake'), (158, 'All Me', '4kNvYhyl8R6m1vykVkcuBu', 67, 'Drake'), (159, \"I'm Upset\", '1iSZPndzmY6NvL1jAtIvY1', 10, 'Drake'), (160, \"Hold On, We're Going Home\", '14Rcq31SafFBHNEwXrtR2B', 69, 'Drake'), (161, 'Walk It Talk It', '6n4U3TlzUGhdSFbUUhTvLP', 79, 'Migos'), (162, 'Up All Night', '75L0qdzRnhwV62UXoNq3pE', 62, 'Drake'), (163, 'Too Good', '3BtuIIrQlkujKPuWF2B85z', 73, 'Drake'), (164, 'Started From the Bottom', '6V2D8Lls36APk0THDjBDfE', 66, 'Drake'), (165, 'Portland', '2bjwRfXMk4uRgOD9IBYl9h', 73, 'Drake'), (166, 'Make Me Proud', '0pN1Ld0Fr9DTUaCGbKRvlF', 45, 'Drake'), (167, 'Signs', '6Na5uKk5SsqZimk0hAWo8y', 70, 'Drake'), (168, 'Can’t Take A Joke', '7cfvP13Bqb1EyCZQiYsLum', 9, 'Drake'), (169, 'Still Here', '4YJmZfvlheSziXem8HBWrj', 59, 'Drake'), (170, 'Best I Ever Had', '3fyMH1t6UPeR5croea9PrR', 23, 'Drake'), (171, 'Legend', '1ID1QFSNNxi0hiZCNcwjUC', 69, 'Drake'), (172, 'Elevate', '4uloft7ZE54WflsuqFmjC7', 9, 'Drake'), (173, 'Emotionless', '1v1IXPXl73Z7zy6f5tUa9n', 9, 'Drake'), (174, 'That’s How You Feel', '0SVsEdvot6vU4byv5yW0oj', 7, 'Drake'), (175, 'Finesse', '590bUp2TKTfTS9NfiD4Nmn', 7, 'Drake'), (176, 'Blue Tint', '1Jrj3k5L36dPkU6KAclU7g', 7, 'Drake'), (177, '8 Out Of 10', '5fcM0StdQxMjzulVGhFkHN', 8, 'Drake'), (178, 'Jaded', '3jipFRgLyKK0oJoG1pKicx', 7, 'Drake'), (179, 'Summer Games', '0w1ZtnzQmtmuuoKxHT0pLL', 8, 'Drake'), (180, 'Sandra’s Rose', '1sPLURKAosM3Jampgp9AWq', 8, 'Drake'), (181, 'After Dark', '4IvenHmD0spfFDOKphoUDp', 9, 'Drake'), (182, 'Peak', '2RAeY8dPj6KmStROfEigjV', 7, 'Drake'), (183, 'Talk Up', '3Yw09dj3cTXsAzlLjgBfIP', 7, 'Drake'), (184, 'Survival', '71SEHJPt1iDwGkBhUOAXDP', 7, 'Drake'), (185, 'Is There More', '2QoOyCFpDo4NblMLP7vBRT', 6, 'Drake'), (186, 'Final Fantasy', '7ijJ5crvsnCvCLJbHpyq3j', 5, 'Drake'), (187, 'March 14', '40IiSjljbAhrSbdJ3HxSfH', 5, 'Drake'), (188, 'Ratchet Happy Birthday', '16x6tqeSkIjoLEf7SJLlYy', 6, 'Drake')]\n"
     ]
    }
   ],
   "source": [
    "print(c.fetchall())"
   ]
  },
  {
   "cell_type": "code",
   "execution_count": 3,
   "metadata": {},
   "outputs": [],
   "source": [
    "import minna_functions as mf"
   ]
  },
  {
   "cell_type": "code",
   "execution_count": 4,
   "metadata": {},
   "outputs": [],
   "source": [
    "conn = sqlite3.connect('spotify.db')"
   ]
  },
  {
   "cell_type": "code",
   "execution_count": 5,
   "metadata": {},
   "outputs": [],
   "source": [
    "c = conn.cursor()"
   ]
  },
  {
   "cell_type": "code",
   "execution_count": 6,
   "metadata": {},
   "outputs": [],
   "source": [
    "get_playlist = mf.get_spotify_playlist()"
   ]
  },
  {
   "cell_type": "code",
   "execution_count": 9,
   "metadata": {},
   "outputs": [],
   "source": [
    "df = get_playlist.SQL_to_dataframe('songs_info')"
   ]
  },
  {
   "cell_type": "code",
   "execution_count": 10,
   "metadata": {},
   "outputs": [
    {
     "data": {
      "text/html": [
       "<div>\n",
       "<style scoped>\n",
       "    .dataframe tbody tr th:only-of-type {\n",
       "        vertical-align: middle;\n",
       "    }\n",
       "\n",
       "    .dataframe tbody tr th {\n",
       "        vertical-align: top;\n",
       "    }\n",
       "\n",
       "    .dataframe thead th {\n",
       "        text-align: right;\n",
       "    }\n",
       "</style>\n",
       "<table border=\"1\" class=\"dataframe\">\n",
       "  <thead>\n",
       "    <tr style=\"text-align: right;\">\n",
       "      <th></th>\n",
       "      <th>generated_id</th>\n",
       "      <th>song_name</th>\n",
       "      <th>song_id</th>\n",
       "      <th>popularity</th>\n",
       "      <th>artist_name</th>\n",
       "    </tr>\n",
       "  </thead>\n",
       "  <tbody>\n",
       "    <tr>\n",
       "      <th>0</th>\n",
       "      <td>1</td>\n",
       "      <td>Omertà</td>\n",
       "      <td>3kCwyvhvVTyehIzYN2I0nF</td>\n",
       "      <td>79</td>\n",
       "      <td>Drake</td>\n",
       "    </tr>\n",
       "    <tr>\n",
       "      <th>1</th>\n",
       "      <td>2</td>\n",
       "      <td>Money In The Grave (Drake ft. Rick Ross)</td>\n",
       "      <td>5ry2OE6R2zPQFDO85XkgRb</td>\n",
       "      <td>93</td>\n",
       "      <td>Drake</td>\n",
       "    </tr>\n",
       "    <tr>\n",
       "      <th>2</th>\n",
       "      <td>3</td>\n",
       "      <td>Lust For Life</td>\n",
       "      <td>1v24T2ug4TlssYZvI3aL4O</td>\n",
       "      <td>64</td>\n",
       "      <td>Drake</td>\n",
       "    </tr>\n",
       "    <tr>\n",
       "      <th>3</th>\n",
       "      <td>4</td>\n",
       "      <td>Houstatlantavegas</td>\n",
       "      <td>3XLSlQLJf3Ut0zvMUxnF1h</td>\n",
       "      <td>63</td>\n",
       "      <td>Drake</td>\n",
       "    </tr>\n",
       "    <tr>\n",
       "      <th>4</th>\n",
       "      <td>5</td>\n",
       "      <td>No Guidance (feat. Drake)</td>\n",
       "      <td>7FEwp8BavoEVE3AnxJDchc</td>\n",
       "      <td>89</td>\n",
       "      <td>Chris Brown</td>\n",
       "    </tr>\n",
       "  </tbody>\n",
       "</table>\n",
       "</div>"
      ],
      "text/plain": [
       "   generated_id                                 song_name  \\\n",
       "0             1                                    Omertà   \n",
       "1             2  Money In The Grave (Drake ft. Rick Ross)   \n",
       "2             3                             Lust For Life   \n",
       "3             4                         Houstatlantavegas   \n",
       "4             5                 No Guidance (feat. Drake)   \n",
       "\n",
       "                  song_id  popularity  artist_name  \n",
       "0  3kCwyvhvVTyehIzYN2I0nF          79        Drake  \n",
       "1  5ry2OE6R2zPQFDO85XkgRb          93        Drake  \n",
       "2  1v24T2ug4TlssYZvI3aL4O          64        Drake  \n",
       "3  3XLSlQLJf3Ut0zvMUxnF1h          63        Drake  \n",
       "4  7FEwp8BavoEVE3AnxJDchc          89  Chris Brown  "
      ]
     },
     "execution_count": 10,
     "metadata": {},
     "output_type": "execute_result"
    }
   ],
   "source": [
    "df.head()"
   ]
  },
  {
   "cell_type": "code",
   "execution_count": 18,
   "metadata": {},
   "outputs": [],
   "source": [
    "song_ids = list(df['song_id'])"
   ]
  },
  {
   "cell_type": "code",
   "execution_count": 27,
   "metadata": {},
   "outputs": [],
   "source": [
    "temp = ','.join(song_ids)"
   ]
  },
  {
   "cell_type": "code",
   "execution_count": 30,
   "metadata": {},
   "outputs": [
    {
     "data": {
      "text/plain": [
       "'C'"
      ]
     },
     "execution_count": 30,
     "metadata": {},
     "output_type": "execute_result"
    }
   ],
   "source": []
  },
  {
   "cell_type": "code",
   "execution_count": null,
   "metadata": {},
   "outputs": [],
   "source": []
  },
  {
   "cell_type": "code",
   "execution_count": 17,
   "metadata": {},
   "outputs": [
    {
     "data": {
      "text/plain": [
       "array(['3kCwyvhvVTyehIzYN2I0nF', '5ry2OE6R2zPQFDO85XkgRb',\n",
       "       '1v24T2ug4TlssYZvI3aL4O', '3XLSlQLJf3Ut0zvMUxnF1h',\n",
       "       '7FEwp8BavoEVE3AnxJDchc', '6NwhtCYkfwWlcR62Ac4E7y',\n",
       "       '4FDSPGncHRpr6yB8DD4CtI', '0JaVdpmiex2EP7bBzyKVTa',\n",
       "       '2hcohLIysMxofYziluXCoX', '3lkkkYc1wBj5l3FVlpqvP6',\n",
       "       '7mPoCVGP752A5DtHf1SKkM', '524wvipGqxPKYWxkjf9y46',\n",
       "       '3QLjDkgLh9AOEHlhQtDuhs', '2TWSilrWcTrgVKcP8kfEfg',\n",
       "       '0q7LGcVSpsIoSbjChtZ8lI', '43iKgGbmfqPLh3mxUlospI',\n",
       "       '4i3GraNMzBKze1WsVl38DS', '6MlGqWzDiLkZ0vmAEsisEk',\n",
       "       '6hHKFReuQR9VQp39ev43wY', '4XTXamS1g4g93jPxyuFJJ6',\n",
       "       '3SnXwQUrvSacFziUYXTNKY', '2VWbHHhWnMzKWPUs4IEEW9',\n",
       "       '2Vx8E3K5icPZR7OCklWBXX', '5mCPDVBb16L4XQwDdbRUpz',\n",
       "       '4jtyUzZm9WLc2AdaJ1dso7', '0bAkKNCQfWkexHFn7fIKns',\n",
       "       '4CpKEkdGbOJV51cSvx7SoG', '116H0KvKr2Zl4RPuVBruDO',\n",
       "       '49ySwzAyvxcNXOkOP6ZB1L', '7kfTqGMzIHFWeBeOJALzRf',\n",
       "       '4qKcDkK6siZ7Jp1Jb4m0aL', '12VWzyPDBCc8fqeWCAfNwR',\n",
       "       '0HVv5bEOiI9a0QfgcASXpX', '7txPE73wHbuXYkM1h8zNrG',\n",
       "       '343YBumqHu19cGoGARUTsd', '2KvHC9z14GSl4YpkNMX384',\n",
       "       '36ONiya0OANYknz0GgJmwB', '27GmP9AWRs744SzKcpJsTZ',\n",
       "       '4kNvYhyl8R6m1vykVkcuBu', '1iSZPndzmY6NvL1jAtIvY1',\n",
       "       '14Rcq31SafFBHNEwXrtR2B', '6n4U3TlzUGhdSFbUUhTvLP',\n",
       "       '75L0qdzRnhwV62UXoNq3pE', '3BtuIIrQlkujKPuWF2B85z',\n",
       "       '6V2D8Lls36APk0THDjBDfE', '2bjwRfXMk4uRgOD9IBYl9h',\n",
       "       '0pN1Ld0Fr9DTUaCGbKRvlF', '6Na5uKk5SsqZimk0hAWo8y',\n",
       "       '7cfvP13Bqb1EyCZQiYsLum', '4YJmZfvlheSziXem8HBWrj',\n",
       "       '3fyMH1t6UPeR5croea9PrR', '1ID1QFSNNxi0hiZCNcwjUC',\n",
       "       '4uloft7ZE54WflsuqFmjC7', '1v1IXPXl73Z7zy6f5tUa9n',\n",
       "       '0SVsEdvot6vU4byv5yW0oj', '590bUp2TKTfTS9NfiD4Nmn',\n",
       "       '1Jrj3k5L36dPkU6KAclU7g', '5fcM0StdQxMjzulVGhFkHN',\n",
       "       '3jipFRgLyKK0oJoG1pKicx', '0w1ZtnzQmtmuuoKxHT0pLL',\n",
       "       '1sPLURKAosM3Jampgp9AWq', '4IvenHmD0spfFDOKphoUDp',\n",
       "       '2RAeY8dPj6KmStROfEigjV', '3Yw09dj3cTXsAzlLjgBfIP',\n",
       "       '71SEHJPt1iDwGkBhUOAXDP', '2QoOyCFpDo4NblMLP7vBRT',\n",
       "       '7ijJ5crvsnCvCLJbHpyq3j', '40IiSjljbAhrSbdJ3HxSfH',\n",
       "       '16x6tqeSkIjoLEf7SJLlYy', '3kCwyvhvVTyehIzYN2I0nF',\n",
       "       '5ry2OE6R2zPQFDO85XkgRb', '1v24T2ug4TlssYZvI3aL4O',\n",
       "       '3XLSlQLJf3Ut0zvMUxnF1h', '7FEwp8BavoEVE3AnxJDchc',\n",
       "       '6NwhtCYkfwWlcR62Ac4E7y', '4FDSPGncHRpr6yB8DD4CtI',\n",
       "       '0JaVdpmiex2EP7bBzyKVTa', '2hcohLIysMxofYziluXCoX',\n",
       "       '3lkkkYc1wBj5l3FVlpqvP6', '7mPoCVGP752A5DtHf1SKkM',\n",
       "       '524wvipGqxPKYWxkjf9y46', '3QLjDkgLh9AOEHlhQtDuhs',\n",
       "       '2TWSilrWcTrgVKcP8kfEfg', '0q7LGcVSpsIoSbjChtZ8lI',\n",
       "       '43iKgGbmfqPLh3mxUlospI', '4i3GraNMzBKze1WsVl38DS',\n",
       "       '6MlGqWzDiLkZ0vmAEsisEk', '6hHKFReuQR9VQp39ev43wY',\n",
       "       '4XTXamS1g4g93jPxyuFJJ6', '3SnXwQUrvSacFziUYXTNKY',\n",
       "       '2VWbHHhWnMzKWPUs4IEEW9', '2Vx8E3K5icPZR7OCklWBXX',\n",
       "       '5mCPDVBb16L4XQwDdbRUpz', '4jtyUzZm9WLc2AdaJ1dso7',\n",
       "       '0bAkKNCQfWkexHFn7fIKns', '4CpKEkdGbOJV51cSvx7SoG',\n",
       "       '116H0KvKr2Zl4RPuVBruDO', '49ySwzAyvxcNXOkOP6ZB1L',\n",
       "       '7kfTqGMzIHFWeBeOJALzRf', '4qKcDkK6siZ7Jp1Jb4m0aL',\n",
       "       '12VWzyPDBCc8fqeWCAfNwR', '0HVv5bEOiI9a0QfgcASXpX',\n",
       "       '7txPE73wHbuXYkM1h8zNrG', '343YBumqHu19cGoGARUTsd',\n",
       "       '2KvHC9z14GSl4YpkNMX384', '36ONiya0OANYknz0GgJmwB',\n",
       "       '27GmP9AWRs744SzKcpJsTZ', '4kNvYhyl8R6m1vykVkcuBu',\n",
       "       '1iSZPndzmY6NvL1jAtIvY1', '14Rcq31SafFBHNEwXrtR2B',\n",
       "       '6n4U3TlzUGhdSFbUUhTvLP', '75L0qdzRnhwV62UXoNq3pE',\n",
       "       '3BtuIIrQlkujKPuWF2B85z', '6V2D8Lls36APk0THDjBDfE',\n",
       "       '2bjwRfXMk4uRgOD9IBYl9h', '0pN1Ld0Fr9DTUaCGbKRvlF',\n",
       "       '6Na5uKk5SsqZimk0hAWo8y', '7cfvP13Bqb1EyCZQiYsLum',\n",
       "       '4YJmZfvlheSziXem8HBWrj', '3fyMH1t6UPeR5croea9PrR',\n",
       "       '1ID1QFSNNxi0hiZCNcwjUC', '4uloft7ZE54WflsuqFmjC7',\n",
       "       '1v1IXPXl73Z7zy6f5tUa9n', '0SVsEdvot6vU4byv5yW0oj',\n",
       "       '590bUp2TKTfTS9NfiD4Nmn', '1Jrj3k5L36dPkU6KAclU7g',\n",
       "       '5fcM0StdQxMjzulVGhFkHN', '3jipFRgLyKK0oJoG1pKicx',\n",
       "       '0w1ZtnzQmtmuuoKxHT0pLL', '1sPLURKAosM3Jampgp9AWq',\n",
       "       '4IvenHmD0spfFDOKphoUDp', '2RAeY8dPj6KmStROfEigjV',\n",
       "       '3Yw09dj3cTXsAzlLjgBfIP', '71SEHJPt1iDwGkBhUOAXDP',\n",
       "       '2QoOyCFpDo4NblMLP7vBRT', '7ijJ5crvsnCvCLJbHpyq3j',\n",
       "       '40IiSjljbAhrSbdJ3HxSfH', '16x6tqeSkIjoLEf7SJLlYy',\n",
       "       '3kCwyvhvVTyehIzYN2I0nF', '5ry2OE6R2zPQFDO85XkgRb',\n",
       "       '1v24T2ug4TlssYZvI3aL4O', '3XLSlQLJf3Ut0zvMUxnF1h',\n",
       "       '7FEwp8BavoEVE3AnxJDchc', '6NwhtCYkfwWlcR62Ac4E7y',\n",
       "       '4FDSPGncHRpr6yB8DD4CtI', '0JaVdpmiex2EP7bBzyKVTa',\n",
       "       '2hcohLIysMxofYziluXCoX', '3lkkkYc1wBj5l3FVlpqvP6',\n",
       "       '7mPoCVGP752A5DtHf1SKkM', '524wvipGqxPKYWxkjf9y46',\n",
       "       '3QLjDkgLh9AOEHlhQtDuhs', '2TWSilrWcTrgVKcP8kfEfg',\n",
       "       '0q7LGcVSpsIoSbjChtZ8lI', '43iKgGbmfqPLh3mxUlospI',\n",
       "       '4i3GraNMzBKze1WsVl38DS', '6MlGqWzDiLkZ0vmAEsisEk',\n",
       "       '6hHKFReuQR9VQp39ev43wY', '4XTXamS1g4g93jPxyuFJJ6',\n",
       "       '3SnXwQUrvSacFziUYXTNKY', '2VWbHHhWnMzKWPUs4IEEW9',\n",
       "       '2Vx8E3K5icPZR7OCklWBXX', '5mCPDVBb16L4XQwDdbRUpz',\n",
       "       '4jtyUzZm9WLc2AdaJ1dso7', '0bAkKNCQfWkexHFn7fIKns',\n",
       "       '4CpKEkdGbOJV51cSvx7SoG', '116H0KvKr2Zl4RPuVBruDO',\n",
       "       '49ySwzAyvxcNXOkOP6ZB1L', '7kfTqGMzIHFWeBeOJALzRf',\n",
       "       '4qKcDkK6siZ7Jp1Jb4m0aL', '12VWzyPDBCc8fqeWCAfNwR',\n",
       "       '0HVv5bEOiI9a0QfgcASXpX', '7txPE73wHbuXYkM1h8zNrG',\n",
       "       '343YBumqHu19cGoGARUTsd', '2KvHC9z14GSl4YpkNMX384',\n",
       "       '36ONiya0OANYknz0GgJmwB', '27GmP9AWRs744SzKcpJsTZ',\n",
       "       '4kNvYhyl8R6m1vykVkcuBu', '1iSZPndzmY6NvL1jAtIvY1',\n",
       "       '14Rcq31SafFBHNEwXrtR2B', '6n4U3TlzUGhdSFbUUhTvLP',\n",
       "       '75L0qdzRnhwV62UXoNq3pE', '3BtuIIrQlkujKPuWF2B85z',\n",
       "       '6V2D8Lls36APk0THDjBDfE', '2bjwRfXMk4uRgOD9IBYl9h',\n",
       "       '0pN1Ld0Fr9DTUaCGbKRvlF', '6Na5uKk5SsqZimk0hAWo8y',\n",
       "       '7cfvP13Bqb1EyCZQiYsLum', '4YJmZfvlheSziXem8HBWrj',\n",
       "       '3fyMH1t6UPeR5croea9PrR', '1ID1QFSNNxi0hiZCNcwjUC',\n",
       "       '4uloft7ZE54WflsuqFmjC7', '1v1IXPXl73Z7zy6f5tUa9n',\n",
       "       '0SVsEdvot6vU4byv5yW0oj', '590bUp2TKTfTS9NfiD4Nmn',\n",
       "       '1Jrj3k5L36dPkU6KAclU7g', '5fcM0StdQxMjzulVGhFkHN',\n",
       "       '3jipFRgLyKK0oJoG1pKicx', '0w1ZtnzQmtmuuoKxHT0pLL',\n",
       "       '1sPLURKAosM3Jampgp9AWq', '4IvenHmD0spfFDOKphoUDp',\n",
       "       '2RAeY8dPj6KmStROfEigjV', '3Yw09dj3cTXsAzlLjgBfIP',\n",
       "       '71SEHJPt1iDwGkBhUOAXDP', '2QoOyCFpDo4NblMLP7vBRT',\n",
       "       '7ijJ5crvsnCvCLJbHpyq3j', '40IiSjljbAhrSbdJ3HxSfH',\n",
       "       '16x6tqeSkIjoLEf7SJLlYy', '3kCwyvhvVTyehIzYN2I0nF',\n",
       "       '5ry2OE6R2zPQFDO85XkgRb', '1v24T2ug4TlssYZvI3aL4O',\n",
       "       '3XLSlQLJf3Ut0zvMUxnF1h', '7FEwp8BavoEVE3AnxJDchc',\n",
       "       '6NwhtCYkfwWlcR62Ac4E7y', '4FDSPGncHRpr6yB8DD4CtI',\n",
       "       '0JaVdpmiex2EP7bBzyKVTa', '2hcohLIysMxofYziluXCoX',\n",
       "       '3lkkkYc1wBj5l3FVlpqvP6', '7mPoCVGP752A5DtHf1SKkM',\n",
       "       '524wvipGqxPKYWxkjf9y46', '3QLjDkgLh9AOEHlhQtDuhs',\n",
       "       '2TWSilrWcTrgVKcP8kfEfg', '0q7LGcVSpsIoSbjChtZ8lI',\n",
       "       '43iKgGbmfqPLh3mxUlospI', '4i3GraNMzBKze1WsVl38DS',\n",
       "       '6MlGqWzDiLkZ0vmAEsisEk', '6hHKFReuQR9VQp39ev43wY',\n",
       "       '4XTXamS1g4g93jPxyuFJJ6', '3SnXwQUrvSacFziUYXTNKY',\n",
       "       '2VWbHHhWnMzKWPUs4IEEW9', '2Vx8E3K5icPZR7OCklWBXX',\n",
       "       '5mCPDVBb16L4XQwDdbRUpz', '4jtyUzZm9WLc2AdaJ1dso7',\n",
       "       '0bAkKNCQfWkexHFn7fIKns', '4CpKEkdGbOJV51cSvx7SoG',\n",
       "       '116H0KvKr2Zl4RPuVBruDO', '49ySwzAyvxcNXOkOP6ZB1L',\n",
       "       '7kfTqGMzIHFWeBeOJALzRf', '4qKcDkK6siZ7Jp1Jb4m0aL',\n",
       "       '12VWzyPDBCc8fqeWCAfNwR', '0HVv5bEOiI9a0QfgcASXpX',\n",
       "       '7txPE73wHbuXYkM1h8zNrG', '343YBumqHu19cGoGARUTsd',\n",
       "       '2KvHC9z14GSl4YpkNMX384', '36ONiya0OANYknz0GgJmwB',\n",
       "       '27GmP9AWRs744SzKcpJsTZ', '4kNvYhyl8R6m1vykVkcuBu',\n",
       "       '1iSZPndzmY6NvL1jAtIvY1', '14Rcq31SafFBHNEwXrtR2B',\n",
       "       '6n4U3TlzUGhdSFbUUhTvLP', '75L0qdzRnhwV62UXoNq3pE',\n",
       "       '3BtuIIrQlkujKPuWF2B85z', '6V2D8Lls36APk0THDjBDfE',\n",
       "       '2bjwRfXMk4uRgOD9IBYl9h', '0pN1Ld0Fr9DTUaCGbKRvlF',\n",
       "       '6Na5uKk5SsqZimk0hAWo8y', '7cfvP13Bqb1EyCZQiYsLum',\n",
       "       '4YJmZfvlheSziXem8HBWrj', '3fyMH1t6UPeR5croea9PrR',\n",
       "       '1ID1QFSNNxi0hiZCNcwjUC', '4uloft7ZE54WflsuqFmjC7',\n",
       "       '1v1IXPXl73Z7zy6f5tUa9n', '0SVsEdvot6vU4byv5yW0oj',\n",
       "       '590bUp2TKTfTS9NfiD4Nmn', '1Jrj3k5L36dPkU6KAclU7g',\n",
       "       '5fcM0StdQxMjzulVGhFkHN', '3jipFRgLyKK0oJoG1pKicx',\n",
       "       '0w1ZtnzQmtmuuoKxHT0pLL', '1sPLURKAosM3Jampgp9AWq',\n",
       "       '4IvenHmD0spfFDOKphoUDp', '2RAeY8dPj6KmStROfEigjV',\n",
       "       '3Yw09dj3cTXsAzlLjgBfIP', '71SEHJPt1iDwGkBhUOAXDP',\n",
       "       '2QoOyCFpDo4NblMLP7vBRT', '7ijJ5crvsnCvCLJbHpyq3j',\n",
       "       '40IiSjljbAhrSbdJ3HxSfH', '16x6tqeSkIjoLEf7SJLlYy',\n",
       "       '3kCwyvhvVTyehIzYN2I0nF', '5ry2OE6R2zPQFDO85XkgRb',\n",
       "       '1v24T2ug4TlssYZvI3aL4O', '3XLSlQLJf3Ut0zvMUxnF1h',\n",
       "       '7FEwp8BavoEVE3AnxJDchc', '6NwhtCYkfwWlcR62Ac4E7y',\n",
       "       '4FDSPGncHRpr6yB8DD4CtI', '0JaVdpmiex2EP7bBzyKVTa',\n",
       "       '2hcohLIysMxofYziluXCoX', '3lkkkYc1wBj5l3FVlpqvP6',\n",
       "       '7mPoCVGP752A5DtHf1SKkM', '524wvipGqxPKYWxkjf9y46',\n",
       "       '3QLjDkgLh9AOEHlhQtDuhs', '2TWSilrWcTrgVKcP8kfEfg',\n",
       "       '0q7LGcVSpsIoSbjChtZ8lI', '43iKgGbmfqPLh3mxUlospI',\n",
       "       '4i3GraNMzBKze1WsVl38DS', '6MlGqWzDiLkZ0vmAEsisEk',\n",
       "       '6hHKFReuQR9VQp39ev43wY', '4XTXamS1g4g93jPxyuFJJ6',\n",
       "       '3SnXwQUrvSacFziUYXTNKY', '2VWbHHhWnMzKWPUs4IEEW9',\n",
       "       '2Vx8E3K5icPZR7OCklWBXX', '5mCPDVBb16L4XQwDdbRUpz',\n",
       "       '4jtyUzZm9WLc2AdaJ1dso7', '0bAkKNCQfWkexHFn7fIKns',\n",
       "       '4CpKEkdGbOJV51cSvx7SoG', '116H0KvKr2Zl4RPuVBruDO',\n",
       "       '49ySwzAyvxcNXOkOP6ZB1L', '7kfTqGMzIHFWeBeOJALzRf',\n",
       "       '4qKcDkK6siZ7Jp1Jb4m0aL', '12VWzyPDBCc8fqeWCAfNwR',\n",
       "       '0HVv5bEOiI9a0QfgcASXpX', '7txPE73wHbuXYkM1h8zNrG',\n",
       "       '343YBumqHu19cGoGARUTsd', '2KvHC9z14GSl4YpkNMX384',\n",
       "       '36ONiya0OANYknz0GgJmwB', '27GmP9AWRs744SzKcpJsTZ',\n",
       "       '4kNvYhyl8R6m1vykVkcuBu', '1iSZPndzmY6NvL1jAtIvY1',\n",
       "       '14Rcq31SafFBHNEwXrtR2B', '6n4U3TlzUGhdSFbUUhTvLP',\n",
       "       '75L0qdzRnhwV62UXoNq3pE', '3BtuIIrQlkujKPuWF2B85z',\n",
       "       '6V2D8Lls36APk0THDjBDfE', '2bjwRfXMk4uRgOD9IBYl9h',\n",
       "       '0pN1Ld0Fr9DTUaCGbKRvlF', '6Na5uKk5SsqZimk0hAWo8y',\n",
       "       '7cfvP13Bqb1EyCZQiYsLum', '4YJmZfvlheSziXem8HBWrj',\n",
       "       '3fyMH1t6UPeR5croea9PrR', '1ID1QFSNNxi0hiZCNcwjUC',\n",
       "       '4uloft7ZE54WflsuqFmjC7', '1v1IXPXl73Z7zy6f5tUa9n',\n",
       "       '0SVsEdvot6vU4byv5yW0oj', '590bUp2TKTfTS9NfiD4Nmn',\n",
       "       '1Jrj3k5L36dPkU6KAclU7g', '5fcM0StdQxMjzulVGhFkHN',\n",
       "       '3jipFRgLyKK0oJoG1pKicx', '0w1ZtnzQmtmuuoKxHT0pLL',\n",
       "       '1sPLURKAosM3Jampgp9AWq', '4IvenHmD0spfFDOKphoUDp',\n",
       "       '2RAeY8dPj6KmStROfEigjV', '3Yw09dj3cTXsAzlLjgBfIP',\n",
       "       '71SEHJPt1iDwGkBhUOAXDP', '2QoOyCFpDo4NblMLP7vBRT',\n",
       "       '7ijJ5crvsnCvCLJbHpyq3j', '40IiSjljbAhrSbdJ3HxSfH',\n",
       "       '16x6tqeSkIjoLEf7SJLlYy', '3kCwyvhvVTyehIzYN2I0nF',\n",
       "       '5ry2OE6R2zPQFDO85XkgRb', '1v24T2ug4TlssYZvI3aL4O',\n",
       "       '3XLSlQLJf3Ut0zvMUxnF1h', '7FEwp8BavoEVE3AnxJDchc',\n",
       "       '6NwhtCYkfwWlcR62Ac4E7y', '4FDSPGncHRpr6yB8DD4CtI',\n",
       "       '0JaVdpmiex2EP7bBzyKVTa', '2hcohLIysMxofYziluXCoX',\n",
       "       '3lkkkYc1wBj5l3FVlpqvP6', '7mPoCVGP752A5DtHf1SKkM',\n",
       "       '524wvipGqxPKYWxkjf9y46', '3QLjDkgLh9AOEHlhQtDuhs',\n",
       "       '2TWSilrWcTrgVKcP8kfEfg', '0q7LGcVSpsIoSbjChtZ8lI',\n",
       "       '43iKgGbmfqPLh3mxUlospI', '4i3GraNMzBKze1WsVl38DS',\n",
       "       '6MlGqWzDiLkZ0vmAEsisEk', '6hHKFReuQR9VQp39ev43wY',\n",
       "       '4XTXamS1g4g93jPxyuFJJ6', '3SnXwQUrvSacFziUYXTNKY',\n",
       "       '2VWbHHhWnMzKWPUs4IEEW9', '2Vx8E3K5icPZR7OCklWBXX',\n",
       "       '5mCPDVBb16L4XQwDdbRUpz', '4jtyUzZm9WLc2AdaJ1dso7',\n",
       "       '0bAkKNCQfWkexHFn7fIKns', '4CpKEkdGbOJV51cSvx7SoG',\n",
       "       '116H0KvKr2Zl4RPuVBruDO', '49ySwzAyvxcNXOkOP6ZB1L',\n",
       "       '7kfTqGMzIHFWeBeOJALzRf', '4qKcDkK6siZ7Jp1Jb4m0aL',\n",
       "       '12VWzyPDBCc8fqeWCAfNwR', '0HVv5bEOiI9a0QfgcASXpX',\n",
       "       '7txPE73wHbuXYkM1h8zNrG', '343YBumqHu19cGoGARUTsd',\n",
       "       '2KvHC9z14GSl4YpkNMX384', '36ONiya0OANYknz0GgJmwB',\n",
       "       '27GmP9AWRs744SzKcpJsTZ', '4kNvYhyl8R6m1vykVkcuBu',\n",
       "       '1iSZPndzmY6NvL1jAtIvY1', '14Rcq31SafFBHNEwXrtR2B',\n",
       "       '6n4U3TlzUGhdSFbUUhTvLP', '75L0qdzRnhwV62UXoNq3pE',\n",
       "       '3BtuIIrQlkujKPuWF2B85z', '6V2D8Lls36APk0THDjBDfE',\n",
       "       '2bjwRfXMk4uRgOD9IBYl9h', '0pN1Ld0Fr9DTUaCGbKRvlF',\n",
       "       '6Na5uKk5SsqZimk0hAWo8y', '7cfvP13Bqb1EyCZQiYsLum',\n",
       "       '4YJmZfvlheSziXem8HBWrj', '3fyMH1t6UPeR5croea9PrR',\n",
       "       '1ID1QFSNNxi0hiZCNcwjUC', '4uloft7ZE54WflsuqFmjC7',\n",
       "       '1v1IXPXl73Z7zy6f5tUa9n', '0SVsEdvot6vU4byv5yW0oj',\n",
       "       '590bUp2TKTfTS9NfiD4Nmn', '1Jrj3k5L36dPkU6KAclU7g',\n",
       "       '5fcM0StdQxMjzulVGhFkHN', '3jipFRgLyKK0oJoG1pKicx',\n",
       "       '0w1ZtnzQmtmuuoKxHT0pLL', '1sPLURKAosM3Jampgp9AWq',\n",
       "       '4IvenHmD0spfFDOKphoUDp', '2RAeY8dPj6KmStROfEigjV',\n",
       "       '3Yw09dj3cTXsAzlLjgBfIP', '71SEHJPt1iDwGkBhUOAXDP',\n",
       "       '2QoOyCFpDo4NblMLP7vBRT', '7ijJ5crvsnCvCLJbHpyq3j',\n",
       "       '40IiSjljbAhrSbdJ3HxSfH', '16x6tqeSkIjoLEf7SJLlYy',\n",
       "       '3kCwyvhvVTyehIzYN2I0nF', '5ry2OE6R2zPQFDO85XkgRb',\n",
       "       '1v24T2ug4TlssYZvI3aL4O', '3XLSlQLJf3Ut0zvMUxnF1h',\n",
       "       '7FEwp8BavoEVE3AnxJDchc', '6NwhtCYkfwWlcR62Ac4E7y',\n",
       "       '4FDSPGncHRpr6yB8DD4CtI', '0JaVdpmiex2EP7bBzyKVTa',\n",
       "       '2hcohLIysMxofYziluXCoX', '3lkkkYc1wBj5l3FVlpqvP6',\n",
       "       '7mPoCVGP752A5DtHf1SKkM', '524wvipGqxPKYWxkjf9y46',\n",
       "       '3QLjDkgLh9AOEHlhQtDuhs', '2TWSilrWcTrgVKcP8kfEfg',\n",
       "       '0q7LGcVSpsIoSbjChtZ8lI', '43iKgGbmfqPLh3mxUlospI',\n",
       "       '4i3GraNMzBKze1WsVl38DS', '6MlGqWzDiLkZ0vmAEsisEk',\n",
       "       '6hHKFReuQR9VQp39ev43wY', '4XTXamS1g4g93jPxyuFJJ6',\n",
       "       '3SnXwQUrvSacFziUYXTNKY', '2VWbHHhWnMzKWPUs4IEEW9',\n",
       "       '2Vx8E3K5icPZR7OCklWBXX', '5mCPDVBb16L4XQwDdbRUpz',\n",
       "       '4jtyUzZm9WLc2AdaJ1dso7', '0bAkKNCQfWkexHFn7fIKns',\n",
       "       '4CpKEkdGbOJV51cSvx7SoG', '116H0KvKr2Zl4RPuVBruDO',\n",
       "       '49ySwzAyvxcNXOkOP6ZB1L', '7kfTqGMzIHFWeBeOJALzRf',\n",
       "       '4qKcDkK6siZ7Jp1Jb4m0aL', '12VWzyPDBCc8fqeWCAfNwR',\n",
       "       '0HVv5bEOiI9a0QfgcASXpX', '7txPE73wHbuXYkM1h8zNrG',\n",
       "       '343YBumqHu19cGoGARUTsd', '2KvHC9z14GSl4YpkNMX384',\n",
       "       '36ONiya0OANYknz0GgJmwB', '27GmP9AWRs744SzKcpJsTZ',\n",
       "       '4kNvYhyl8R6m1vykVkcuBu', '1iSZPndzmY6NvL1jAtIvY1',\n",
       "       '14Rcq31SafFBHNEwXrtR2B', '6n4U3TlzUGhdSFbUUhTvLP',\n",
       "       '75L0qdzRnhwV62UXoNq3pE', '3BtuIIrQlkujKPuWF2B85z',\n",
       "       '6V2D8Lls36APk0THDjBDfE', '2bjwRfXMk4uRgOD9IBYl9h',\n",
       "       '0pN1Ld0Fr9DTUaCGbKRvlF', '6Na5uKk5SsqZimk0hAWo8y',\n",
       "       '7cfvP13Bqb1EyCZQiYsLum', '4YJmZfvlheSziXem8HBWrj',\n",
       "       '3fyMH1t6UPeR5croea9PrR', '1ID1QFSNNxi0hiZCNcwjUC',\n",
       "       '4uloft7ZE54WflsuqFmjC7', '1v1IXPXl73Z7zy6f5tUa9n',\n",
       "       '0SVsEdvot6vU4byv5yW0oj', '590bUp2TKTfTS9NfiD4Nmn',\n",
       "       '1Jrj3k5L36dPkU6KAclU7g', '5fcM0StdQxMjzulVGhFkHN',\n",
       "       '3jipFRgLyKK0oJoG1pKicx', '0w1ZtnzQmtmuuoKxHT0pLL',\n",
       "       '1sPLURKAosM3Jampgp9AWq', '4IvenHmD0spfFDOKphoUDp',\n",
       "       '2RAeY8dPj6KmStROfEigjV', '3Yw09dj3cTXsAzlLjgBfIP',\n",
       "       '71SEHJPt1iDwGkBhUOAXDP', '2QoOyCFpDo4NblMLP7vBRT',\n",
       "       '7ijJ5crvsnCvCLJbHpyq3j', '40IiSjljbAhrSbdJ3HxSfH',\n",
       "       '16x6tqeSkIjoLEf7SJLlYy', '3kCwyvhvVTyehIzYN2I0nF',\n",
       "       '5ry2OE6R2zPQFDO85XkgRb', '1v24T2ug4TlssYZvI3aL4O',\n",
       "       '3XLSlQLJf3Ut0zvMUxnF1h', '7FEwp8BavoEVE3AnxJDchc',\n",
       "       '6NwhtCYkfwWlcR62Ac4E7y', '4FDSPGncHRpr6yB8DD4CtI',\n",
       "       '0JaVdpmiex2EP7bBzyKVTa', '2hcohLIysMxofYziluXCoX',\n",
       "       '3lkkkYc1wBj5l3FVlpqvP6', '7mPoCVGP752A5DtHf1SKkM',\n",
       "       '524wvipGqxPKYWxkjf9y46', '3QLjDkgLh9AOEHlhQtDuhs',\n",
       "       '2TWSilrWcTrgVKcP8kfEfg', '0q7LGcVSpsIoSbjChtZ8lI',\n",
       "       '43iKgGbmfqPLh3mxUlospI', '4i3GraNMzBKze1WsVl38DS',\n",
       "       '6MlGqWzDiLkZ0vmAEsisEk', '6hHKFReuQR9VQp39ev43wY',\n",
       "       '4XTXamS1g4g93jPxyuFJJ6', '3SnXwQUrvSacFziUYXTNKY',\n",
       "       '2VWbHHhWnMzKWPUs4IEEW9', '2Vx8E3K5icPZR7OCklWBXX',\n",
       "       '5mCPDVBb16L4XQwDdbRUpz', '4jtyUzZm9WLc2AdaJ1dso7',\n",
       "       '0bAkKNCQfWkexHFn7fIKns', '4CpKEkdGbOJV51cSvx7SoG',\n",
       "       '116H0KvKr2Zl4RPuVBruDO', '49ySwzAyvxcNXOkOP6ZB1L',\n",
       "       '7kfTqGMzIHFWeBeOJALzRf', '4qKcDkK6siZ7Jp1Jb4m0aL',\n",
       "       '12VWzyPDBCc8fqeWCAfNwR', '0HVv5bEOiI9a0QfgcASXpX',\n",
       "       '7txPE73wHbuXYkM1h8zNrG', '343YBumqHu19cGoGARUTsd',\n",
       "       '2KvHC9z14GSl4YpkNMX384', '36ONiya0OANYknz0GgJmwB',\n",
       "       '27GmP9AWRs744SzKcpJsTZ', '4kNvYhyl8R6m1vykVkcuBu',\n",
       "       '1iSZPndzmY6NvL1jAtIvY1', '14Rcq31SafFBHNEwXrtR2B',\n",
       "       '6n4U3TlzUGhdSFbUUhTvLP', '75L0qdzRnhwV62UXoNq3pE',\n",
       "       '3BtuIIrQlkujKPuWF2B85z', '6V2D8Lls36APk0THDjBDfE',\n",
       "       '2bjwRfXMk4uRgOD9IBYl9h', '0pN1Ld0Fr9DTUaCGbKRvlF',\n",
       "       '6Na5uKk5SsqZimk0hAWo8y', '7cfvP13Bqb1EyCZQiYsLum',\n",
       "       '4YJmZfvlheSziXem8HBWrj', '3fyMH1t6UPeR5croea9PrR',\n",
       "       '1ID1QFSNNxi0hiZCNcwjUC', '4uloft7ZE54WflsuqFmjC7',\n",
       "       '1v1IXPXl73Z7zy6f5tUa9n', '0SVsEdvot6vU4byv5yW0oj',\n",
       "       '590bUp2TKTfTS9NfiD4Nmn', '1Jrj3k5L36dPkU6KAclU7g',\n",
       "       '5fcM0StdQxMjzulVGhFkHN', '3jipFRgLyKK0oJoG1pKicx',\n",
       "       '0w1ZtnzQmtmuuoKxHT0pLL', '1sPLURKAosM3Jampgp9AWq',\n",
       "       '4IvenHmD0spfFDOKphoUDp', '2RAeY8dPj6KmStROfEigjV',\n",
       "       '3Yw09dj3cTXsAzlLjgBfIP', '71SEHJPt1iDwGkBhUOAXDP',\n",
       "       '2QoOyCFpDo4NblMLP7vBRT', '7ijJ5crvsnCvCLJbHpyq3j',\n",
       "       '40IiSjljbAhrSbdJ3HxSfH', '16x6tqeSkIjoLEf7SJLlYy'], dtype='<U22')"
      ]
     },
     "execution_count": 17,
     "metadata": {},
     "output_type": "execute_result"
    }
   ],
   "source": []
  },
  {
   "cell_type": "code",
   "execution_count": 223,
   "metadata": {},
   "outputs": [
    {
     "data": {
      "text/plain": [
       "<sqlite3.Cursor at 0x125b86f80>"
      ]
     },
     "execution_count": 223,
     "metadata": {},
     "output_type": "execute_result"
    }
   ],
   "source": [
    "c.execute('''DROP TABLE songs_info_2''')"
   ]
  },
  {
   "cell_type": "code",
   "execution_count": 224,
   "metadata": {},
   "outputs": [],
   "source": [
    "conn.close()"
   ]
  },
  {
   "cell_type": "code",
   "execution_count": null,
   "metadata": {},
   "outputs": [],
   "source": []
  }
 ],
 "metadata": {
  "kernelspec": {
   "display_name": "Python 3",
   "language": "python",
   "name": "python3"
  },
  "language_info": {
   "codemirror_mode": {
    "name": "ipython",
    "version": 3
   },
   "file_extension": ".py",
   "mimetype": "text/x-python",
   "name": "python",
   "nbconvert_exporter": "python",
   "pygments_lexer": "ipython3",
   "version": "3.7.3"
  }
 },
 "nbformat": 4,
 "nbformat_minor": 2
}
