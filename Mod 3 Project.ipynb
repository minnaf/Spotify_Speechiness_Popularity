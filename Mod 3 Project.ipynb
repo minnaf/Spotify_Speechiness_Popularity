{
 "cells": [
  {
   "cell_type": "code",
   "execution_count": 15,
   "metadata": {},
   "outputs": [],
   "source": [
    "import requests\n",
    "import pandas as pd\n",
    "import numpy as np\n",
    "import seaborn as sns\n",
    "import matplotlib.pyplot as plt\n",
    "%matplotlib inline\n",
    "from scipy import stats \n",
    "import math\n",
    "import statsmodels.api as sm\n",
    "from statsmodels.formula.api import ols\n",
    "from statsmodels.stats.multicomp import pairwise_tukeyhsd\n",
    "from statsmodels.stats.multicomp import MultiComparison"
   ]
  },
  {
   "cell_type": "markdown",
   "metadata": {},
   "source": [
    "1)Does speechiness have an affect on a song's popularity?\n",
    "   H0: Speechiness has no affect on a song's popularity\n",
    "   HA: Speechiness has an affect on a song's popularity\n",
    "         \n",
    "        -Scatter plot- correlation (R)\n",
    "        -Daily plays vs speechiness\n",
    "        \n",
    "                \n",
    "2)How does speechiness affect a song's popularity within a certain genre?\n",
    "   H0: Speechiness has no affect on a song's popularity \n",
    "   HA: Speechiness has an affect on a song's popularity\n",
    "    \n",
    "   H0: Genre has no affect on a song's popularity\n",
    "   HA: Genre has an affect on a song's popularity\n",
    "   \n",
    "   H0: There is no interaction beween speechiness and genre\n",
    "   HA: There is an interaction between speechiness and genre\n",
    "    \n",
    "       -Two way ANOVA\n",
    "       -Two tailed\n",
    "       -convert speechiness to catgorical (10 categories)\n",
    "       -interaction between speechiness and genre\n",
    "       -alpha = .05\n",
    "       -Looking for high f-statistic\n",
    "       -Need large N\n",
    "       -Tukeys HSD\n",
    "       -Create box plot\n",
    "\n",
    "        \n",
    "    \n",
    "3)How does speechiness affect a song's popularity within a certain country?\n",
    "   H0: Speechiness has no affect on popularity \n",
    "   HA: Speechiness has an affect on popularity\n",
    "    \n",
    "   H0: Country has no affect on popularity\n",
    "   HA: Country has an affect on popularity\n",
    "   \n",
    "   H0: There is no interaction beween country and genre\n",
    "   HA: There is an interaction between country and genre\n",
    "        \n",
    "        -Two way ANOVA\n",
    "        -Two tailed\n",
    "        -convert speechiness to catgorical (10 categories)\n",
    "        -interaction between speechiness and country\n",
    "        -alpha = .05\n",
    "        -Looking for high f-statistic\n",
    "        -Need large N\n",
    "        -Tukeys HSD\n",
    "        -Create box plot\n"
   ]
  },
  {
   "cell_type": "markdown",
   "metadata": {},
   "source": [
    "Question 1"
   ]
  },
  {
   "cell_type": "code",
   "execution_count": null,
   "metadata": {},
   "outputs": [],
   "source": [
    "#import data for top 50\n",
    "df = pd.read_csv(' ')\n",
    "df.head()"
   ]
  },
  {
   "cell_type": "code",
   "execution_count": null,
   "metadata": {},
   "outputs": [],
   "source": [
    "# Create scatterplot \n",
    "sns.set_context(\"notebook\", font_scale=1.1)\n",
    "sns.set_style(\"ticks\")\n",
    "sns.lmplot(' ', # Horizontal axis\n",
    "           ' ', # Vertical axis\n",
    "           data= , \n",
    "           fit_reg=False,\n",
    "           hue=\"z\", \n",
    "           scatter_kws={\"marker\": \"D\",\n",
    "                        \"s\": 100}) \n",
    "\n",
    "plt.title('Speechiness vs Popularity')\n",
    "plt.xlabel('Speechiness')\n",
    "plt.ylabel('Popularity')"
   ]
  },
  {
   "cell_type": "markdown",
   "metadata": {},
   "source": [
    "Question 2"
   ]
  },
  {
   "cell_type": "code",
   "execution_count": 7,
   "metadata": {},
   "outputs": [],
   "source": [
    "#import data for genre\n",
    "df = pd.read_csv('')\n",
    "df.head()"
   ]
  },
  {
   "cell_type": "code",
   "execution_count": null,
   "metadata": {},
   "outputs": [],
   "source": [
    "#boxplot for genre\n",
    "sns.boxplot(x=\" \", y=\" \", hue=\" \", data= , palette=\"Set3\") "
   ]
  },
  {
   "cell_type": "code",
   "execution_count": 11,
   "metadata": {},
   "outputs": [],
   "source": [
    "#two way anova table for genre\n",
    "model = ols('value ~ C() + C() + C():C()', data= XXX).fit()\n",
    "anova_table = sm.stats.anova_lm(model, typ=2)\n",
    "anova_table"
   ]
  },
  {
   "cell_type": "code",
   "execution_count": null,
   "metadata": {},
   "outputs": [],
   "source": [
    "#Tukeys HSD for genre \n",
    "mc_genre = MultiComparison(df[''], df[''])\n",
    "mc_results_genre = mc.tukeyhsd()\n",
    "print(mc_results_genre)"
   ]
  },
  {
   "cell_type": "markdown",
   "metadata": {},
   "source": [
    "Question 3"
   ]
  },
  {
   "cell_type": "code",
   "execution_count": null,
   "metadata": {},
   "outputs": [],
   "source": [
    "#import data for country\n",
    "df = pd.read_csv(' ')\n",
    "df.head()"
   ]
  },
  {
   "cell_type": "code",
   "execution_count": null,
   "metadata": {},
   "outputs": [],
   "source": [
    "#boxplot for countries\n",
    "sns.boxplot(x=\" \", y=\" \", hue=\" \", data= , palette=\"Set3\") "
   ]
  },
  {
   "cell_type": "code",
   "execution_count": null,
   "metadata": {},
   "outputs": [],
   "source": [
    "#two way anova table for country\n",
    "model = ols('value ~ C( ) + C( ) + C( ):C( )', data=  ).fit()\n",
    "anova_table = sm.stats.anova_lm(model, typ=2)\n",
    "anova_table"
   ]
  },
  {
   "cell_type": "code",
   "execution_count": null,
   "metadata": {},
   "outputs": [],
   "source": [
    "#Tukeys HSD for country \n",
    "mc_genre = MultiComparison(df[' '], df[' '])\n",
    "mc_results_country = mc.tukeyhsd()\n",
    "print(mc_results_country)"
   ]
  }
 ],
 "metadata": {
  "kernelspec": {
   "display_name": "Python [conda env:learn-env] *",
   "language": "python",
   "name": "conda-env-learn-env-py"
  },
  "language_info": {
   "codemirror_mode": {
    "name": "ipython",
    "version": 3
   },
   "file_extension": ".py",
   "mimetype": "text/x-python",
   "name": "python",
   "nbconvert_exporter": "python",
   "pygments_lexer": "ipython3",
   "version": "3.6.6"
  }
 },
 "nbformat": 4,
 "nbformat_minor": 2
}
