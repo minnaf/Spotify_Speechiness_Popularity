{
 "cells": [
  {
   "cell_type": "code",
   "execution_count": 1,
   "metadata": {},
   "outputs": [],
   "source": [
    "import minna_functions as mf"
   ]
  },
  {
   "cell_type": "code",
   "execution_count": 135,
   "metadata": {},
   "outputs": [],
   "source": [
    "import pandas as pd\n",
    "import warnings\n",
    "warnings.filterwarnings(\"ignore\")"
   ]
  },
  {
   "cell_type": "code",
   "execution_count": 3,
   "metadata": {},
   "outputs": [],
   "source": [
    "import sqlite3\n",
    "conn = sqlite3.connect('spotify.db')\n",
    "c = conn.cursor()"
   ]
  },
  {
   "cell_type": "code",
   "execution_count": 227,
   "metadata": {},
   "outputs": [
    {
     "data": {
      "text/plain": [
       "<sqlite3.Cursor at 0x11eba5ab0>"
      ]
     },
     "execution_count": 227,
     "metadata": {},
     "output_type": "execute_result"
    }
   ],
   "source": [
    "c.execute('''DROP TABLE rap_hits''')"
   ]
  },
  {
   "cell_type": "markdown",
   "metadata": {},
   "source": [
    "Connect to Database:"
   ]
  },
  {
   "cell_type": "code",
   "execution_count": 223,
   "metadata": {},
   "outputs": [],
   "source": [
    "get_playlist = mf.get_spotify_playlist('BQDc8f4TKUjsZ713oQU40LBYYPSFBufL6vD1T5qQkOz45KHPibGqLXoA_rLrNLIVKg-YkSSbD6jzU9kg5dqJMFnd0A6NABj58_8lNzAwD5tppGSvviWS1bSfftzkf6eMKzaRNhuhAf2ADe-pdBA')"
   ]
  },
  {
   "cell_type": "markdown",
   "metadata": {},
   "source": [
    "Retrieve data for every playlist we want to look at and put it into SQL table:"
   ]
  },
  {
   "cell_type": "code",
   "execution_count": 228,
   "metadata": {
    "scrolled": true
   },
   "outputs": [],
   "source": [
    "#pop hits data\n",
    "get_playlist.get_playlist_SQL('37i9dQZF1DX92MLsP3K1fI', 'pop_hits') \n",
    "get_playlist.get_playlist_SQL('5TDtuKDbOhrfW7C58XnriZ', 'pop_hits')\n",
    "get_playlist.get_playlist_SQL('37i9dQZF1DXcBWIGoYBM5M', 'pop_hits')\n",
    "get_playlist.get_playlist_SQL('37i9dQZF1DWUa8ZRTfalHk', 'pop_hits')\n",
    "get_playlist.get_playlist_SQL('6pv75Rri5UysKxaiMySlh5', 'pop_hits') #pop playlist\n",
    "get_playlist.get_playlist_SQL('6e57PJUvtzv8UQlPoEbEGm', 'pop_hits') #poppin\n",
    "get_playlist.get_playlist_SQL('10P3hE599XmLaUK7nPSE27', 'pop_hits') #pop party: all albums\n",
    "get_playlist.get_playlist_SQL('7JaAxxZGUiXIf5rL2acDWm', 'pop_hits') #positive pop\n",
    "get_playlist.get_playlist_SQL('6Mc2W56Tx1xN1p3g7momll', 'pop_hits') #rock y pop del viejo\n",
    "get_playlist.get_playlist_SQL('40yeB21DbTjUS2mAlGO2Ax', 'pop_hits') #teen pop late 90s early 00s"
   ]
  },
  {
   "cell_type": "code",
   "execution_count": 229,
   "metadata": {},
   "outputs": [],
   "source": [
    "#rap data\n",
    "get_playlist.get_playlist_SQL('37i9dQZF1DX0XUsuxWHRQd', 'rap_hits') #rap caviar\n",
    "get_playlist.get_playlist_SQL('5KR0bQIR4BqsgBzV2N54wm', 'rap_hits') #top hip hop\n",
    "get_playlist.get_playlist_SQL('2G2zkK3cBVXB1jSsDMQSk3', 'rap_hits') # top rap hits 2019\n",
    "get_playlist.get_playlist_SQL('37i9dQZF1DX2RxBh64BHjQ', 'rap_hits') #most necessary\n",
    "get_playlist.get_playlist_SQL('37i9dQZF1DWUFmyho2wkQU', 'rap_hits') #hip hop drive\n",
    "get_playlist.get_playlist_SQL('37i9dQZF1DX14EWeH2Pwf3', 'rap_hits') #rap itali: battle royale\n",
    "get_playlist.get_playlist_SQL('37i9dQZF1DX76t638V6CA8', 'rap_hits') #rap workout\n",
    "get_playlist.get_playlist_SQL('0zysvwomOYS5M1ceyE1rB7', 'rap_hits') #rap essentials\n",
    "get_playlist.get_playlist_SQL('4Ao85ZB0F474SYUelDH1Xi', 'rap_hits') #sad rap\n",
    "get_playlist.get_playlist_SQL('37i9dQZF1DX5jNEiuvPyWr', 'rap_hits') #cloud rap"
   ]
  },
  {
   "cell_type": "code",
   "execution_count": 230,
   "metadata": {},
   "outputs": [],
   "source": [
    "#country data\n",
    "get_playlist.get_playlist_SQL('37i9dQZF1DX1lVhptIYRda', 'country_hits') #hot country\n",
    "get_playlist.get_playlist_SQL('37i9dQZF1DX8S0uQvJ4gaa', 'country_hits') #new boots\n",
    "get_playlist.get_playlist_SQL('37i9dQZF1DX5mB2C8gBeUM', 'country_hits') #wild country\n",
    "get_playlist.get_playlist_SQL('37i9dQZF1DWYnwbYQ5HnZU', 'country_hits') #country gold\n",
    "get_playlist.get_playlist_SQL('37i9dQZF1DX8WMG8VPSOJC', 'country_hits') #country kind of love\n",
    "get_playlist.get_playlist_SQL('37i9dQZF1DWYiR2Uqcon0X', 'country_hits') #country coffeehouse\n",
    "get_playlist.get_playlist_SQL('37i9dQZF1DX13ZzXoot6Jc', 'country_hits') #country favorites\n",
    "get_playlist.get_playlist_SQL('37i9dQZF1DWYubIwLN4Hq2', 'country_hits') #country parts\n",
    "get_playlist.get_playlist_SQL('4SssSas9VvpPXlMCWXnu91', 'country_hits') #country love songs\n",
    "get_playlist.get_playlist_SQL('37i9dQZF1DWSttCmn8GHUg', 'country_hits') #country music 101: god bless the USA\n",
    "get_playlist.get_playlist_SQL('37i9dQZF1DWTkxQvqMy4WW', 'country_hits') #chillin on a dirt road"
   ]
  },
  {
   "cell_type": "code",
   "execution_count": 231,
   "metadata": {},
   "outputs": [],
   "source": [
    "#jazz data \n",
    "get_playlist.get_playlist_SQL('37i9dQZF1DXbITWG1ZJKYt', 'jazz_hits') #jazz classics\n",
    "get_playlist.get_playlist_SQL('37i9dQZF1DX0SM0LYsmbMT', 'jazz_hits') #jazz vibes\n",
    "get_playlist.get_playlist_SQL('0pYnghexkCjipMVbXSiyOb', 'jazz_hits') #Top Jazz hits\n",
    "get_playlist.get_playlist_SQL('37i9dQZF1DWTALrdBtcXjw', 'jazz_hits') #jazzy dinner\n",
    "get_playlist.get_playlist_SQL('37i9dQZF1DXbOVU4mpMJjh', 'jazz_hits') #jazz relax\n",
    "get_playlist.get_playlist_SQL('37i9dQZF1DWTsUzn4pp2rW', 'jazz_hits') #jazz pop\n",
    "get_playlist.get_playlist_SQL('37i9dQZF1DX2mmt7R81K2b', 'jazz_hits') #jazz-- classical crossings\n",
    "get_playlist.get_playlist_SQL('37i9dQZF1DWVqfgj8NZEp1', 'jazz_hits') #coffee table jazz\n",
    "get_playlist.get_playlist_SQL('37i9dQZF1DX4wta20PHgwo', 'jazz_hits') #late night jazz\n",
    "get_playlist.get_playlist_SQL('37i9dQZF1DWTR4ZOXTfd9K', 'jazz_hits') #jazz classic blue\n",
    "get_playlist.get_playlist_SQL('37i9dQZF1DXdwTUxmGKrdN', 'jazz_hits') #smooth jazz"
   ]
  },
  {
   "cell_type": "markdown",
   "metadata": {},
   "source": [
    "Convert SQL database to a pandas dataframe:"
   ]
  },
  {
   "cell_type": "code",
   "execution_count": 232,
   "metadata": {},
   "outputs": [],
   "source": [
    "df_pop = get_playlist.SQL_to_dataframe('pop_hits')\n",
    "df_rap = get_playlist.SQL_to_dataframe('rap_hits')\n",
    "df_country = get_playlist.SQL_to_dataframe('country_hits')\n",
    "df_jazz = get_playlist.SQL_to_dataframe('jazz_hits')"
   ]
  },
  {
   "cell_type": "markdown",
   "metadata": {},
   "source": [
    "Retrive audio feature information from each song in the playlist: "
   ]
  },
  {
   "cell_type": "code",
   "execution_count": 233,
   "metadata": {},
   "outputs": [
    {
     "name": "stdout",
     "output_type": "stream",
     "text": [
      "None\n",
      "None\n",
      "None\n",
      "None\n",
      "None\n"
     ]
    }
   ],
   "source": [
    "df_pop = get_playlist.song_audio_features(df_pop, 'pop_hits')\n",
    "df_rap = get_playlist.song_audio_features(df_rap, 'rap_hits')\n",
    "df_country = get_playlist.song_audio_features(df_country, 'country_hits')\n",
    "df_jazz = get_playlist.song_audio_features(df_jazz, 'jazz_hits')"
   ]
  },
  {
   "cell_type": "markdown",
   "metadata": {},
   "source": [
    "Make a new column for our genres:"
   ]
  },
  {
   "cell_type": "code",
   "execution_count": 234,
   "metadata": {
    "scrolled": true
   },
   "outputs": [],
   "source": [
    "df_pop['genre'] = 'pop'\n",
    "df_rap['genre'] = 'rap'\n",
    "df_country['genre'] = 'country'\n",
    "df_jazz['genre'] = 'jazz'"
   ]
  },
  {
   "cell_type": "markdown",
   "metadata": {},
   "source": [
    "combine all data frames and remove null values:"
   ]
  },
  {
   "cell_type": "code",
   "execution_count": 235,
   "metadata": {
    "scrolled": true
   },
   "outputs": [
    {
     "data": {
      "text/plain": [
       "2583"
      ]
     },
     "execution_count": 235,
     "metadata": {},
     "output_type": "execute_result"
    }
   ],
   "source": [
    "frames = [df_pop, df_rap, df_country, df_jazz]\n",
    "total_df = pd.concat(frames)\n",
    "total_df.groupby('genre').mean()\n",
    "len(total_df)"
   ]
  },
  {
   "cell_type": "code",
   "execution_count": 294,
   "metadata": {},
   "outputs": [],
   "source": [
    "total_df['speechiness_binned'] = pd.cut(total_df['speechiness'], bins = 10, labels= ['1','2','3','4','5','6','7','8','9', '10'])\n",
    "total_df['speechiness_binned']=total_df['speechiness_binned'].astype('category')"
   ]
  },
  {
   "cell_type": "code",
   "execution_count": 295,
   "metadata": {},
   "outputs": [
    {
     "data": {
      "text/html": [
       "<div>\n",
       "<style scoped>\n",
       "    .dataframe tbody tr th:only-of-type {\n",
       "        vertical-align: middle;\n",
       "    }\n",
       "\n",
       "    .dataframe tbody tr th {\n",
       "        vertical-align: top;\n",
       "    }\n",
       "\n",
       "    .dataframe thead th {\n",
       "        text-align: right;\n",
       "    }\n",
       "</style>\n",
       "<table border=\"1\" class=\"dataframe\">\n",
       "  <thead>\n",
       "    <tr style=\"text-align: right;\">\n",
       "      <th></th>\n",
       "      <th>song_name</th>\n",
       "      <th>song_id</th>\n",
       "      <th>popularity</th>\n",
       "      <th>artist_name</th>\n",
       "      <th>speechiness</th>\n",
       "      <th>danceability</th>\n",
       "      <th>energy</th>\n",
       "      <th>liveness</th>\n",
       "      <th>valence</th>\n",
       "      <th>genre</th>\n",
       "      <th>speechiness_binned</th>\n",
       "    </tr>\n",
       "    <tr>\n",
       "      <th>index</th>\n",
       "      <th></th>\n",
       "      <th></th>\n",
       "      <th></th>\n",
       "      <th></th>\n",
       "      <th></th>\n",
       "      <th></th>\n",
       "      <th></th>\n",
       "      <th></th>\n",
       "      <th></th>\n",
       "      <th></th>\n",
       "      <th></th>\n",
       "    </tr>\n",
       "  </thead>\n",
       "  <tbody>\n",
       "    <tr>\n",
       "      <th>1</th>\n",
       "      <td>Sucker</td>\n",
       "      <td>4y3OI86AEP6PQoDE6olYhO</td>\n",
       "      <td>90</td>\n",
       "      <td>Jonas Brothers</td>\n",
       "      <td>0.0588</td>\n",
       "      <td>0.842</td>\n",
       "      <td>0.734</td>\n",
       "      <td>0.1060</td>\n",
       "      <td>0.952</td>\n",
       "      <td>pop</td>\n",
       "      <td>1</td>\n",
       "    </tr>\n",
       "    <tr>\n",
       "      <th>2</th>\n",
       "      <td>Never Really Over</td>\n",
       "      <td>5PYQUBXc7NYeI1obMKSJK0</td>\n",
       "      <td>91</td>\n",
       "      <td>Katy Perry</td>\n",
       "      <td>0.0602</td>\n",
       "      <td>0.770</td>\n",
       "      <td>0.882</td>\n",
       "      <td>0.3160</td>\n",
       "      <td>0.385</td>\n",
       "      <td>pop</td>\n",
       "      <td>1</td>\n",
       "    </tr>\n",
       "    <tr>\n",
       "      <th>3</th>\n",
       "      <td>Old Town Road - Remix</td>\n",
       "      <td>6u7jPi22kF8CTQ3rb9DHE7</td>\n",
       "      <td>96</td>\n",
       "      <td>Lil Nas X</td>\n",
       "      <td>0.1020</td>\n",
       "      <td>0.878</td>\n",
       "      <td>0.619</td>\n",
       "      <td>0.1130</td>\n",
       "      <td>0.639</td>\n",
       "      <td>pop</td>\n",
       "      <td>2</td>\n",
       "    </tr>\n",
       "    <tr>\n",
       "      <th>4</th>\n",
       "      <td>bad guy (with Justin Bieber)</td>\n",
       "      <td>3yNZ5r3LKfdmjoS3gkhUCT</td>\n",
       "      <td>80</td>\n",
       "      <td>Billie Eilish</td>\n",
       "      <td>0.2950</td>\n",
       "      <td>0.670</td>\n",
       "      <td>0.453</td>\n",
       "      <td>0.1170</td>\n",
       "      <td>0.680</td>\n",
       "      <td>pop</td>\n",
       "      <td>6</td>\n",
       "    </tr>\n",
       "    <tr>\n",
       "      <th>5</th>\n",
       "      <td>I Don't Care (with Justin Bieber)</td>\n",
       "      <td>3HVWdVOQ0ZA45FuZGSfvns</td>\n",
       "      <td>98</td>\n",
       "      <td>Ed Sheeran</td>\n",
       "      <td>0.0442</td>\n",
       "      <td>0.798</td>\n",
       "      <td>0.675</td>\n",
       "      <td>0.0894</td>\n",
       "      <td>0.842</td>\n",
       "      <td>pop</td>\n",
       "      <td>1</td>\n",
       "    </tr>\n",
       "  </tbody>\n",
       "</table>\n",
       "</div>"
      ],
      "text/plain": [
       "                               song_name                 song_id  popularity  \\\n",
       "index                                                                          \n",
       "1                                 Sucker  4y3OI86AEP6PQoDE6olYhO          90   \n",
       "2                      Never Really Over  5PYQUBXc7NYeI1obMKSJK0          91   \n",
       "3                  Old Town Road - Remix  6u7jPi22kF8CTQ3rb9DHE7          96   \n",
       "4           bad guy (with Justin Bieber)  3yNZ5r3LKfdmjoS3gkhUCT          80   \n",
       "5      I Don't Care (with Justin Bieber)  3HVWdVOQ0ZA45FuZGSfvns          98   \n",
       "\n",
       "          artist_name  speechiness  danceability  energy  liveness  valence  \\\n",
       "index                                                                         \n",
       "1      Jonas Brothers       0.0588         0.842   0.734    0.1060    0.952   \n",
       "2          Katy Perry       0.0602         0.770   0.882    0.3160    0.385   \n",
       "3           Lil Nas X       0.1020         0.878   0.619    0.1130    0.639   \n",
       "4       Billie Eilish       0.2950         0.670   0.453    0.1170    0.680   \n",
       "5          Ed Sheeran       0.0442         0.798   0.675    0.0894    0.842   \n",
       "\n",
       "      genre speechiness_binned  \n",
       "index                           \n",
       "1       pop                  1  \n",
       "2       pop                  1  \n",
       "3       pop                  2  \n",
       "4       pop                  6  \n",
       "5       pop                  1  "
      ]
     },
     "execution_count": 295,
     "metadata": {},
     "output_type": "execute_result"
    }
   ],
   "source": [
    "total_df.dropna(axis=0, inplace = True)\n",
    "total_df.head()"
   ]
  },
  {
   "cell_type": "markdown",
   "metadata": {},
   "source": [
    "Analyze the data:"
   ]
  },
  {
   "cell_type": "code",
   "execution_count": 296,
   "metadata": {},
   "outputs": [],
   "source": [
    "import seaborn as sns\n",
    "import matplotlib.pyplot as plt\n",
    "import numpy as np\n",
    "sns.set()\n",
    "%matplotlib inline"
   ]
  },
  {
   "cell_type": "markdown",
   "metadata": {},
   "source": [
    "check to see distribution of dependent variable (popularity)"
   ]
  },
  {
   "cell_type": "code",
   "execution_count": 297,
   "metadata": {},
   "outputs": [
    {
     "data": {
      "text/plain": [
       "<matplotlib.axes._subplots.AxesSubplot at 0x1c29c97da0>"
      ]
     },
     "execution_count": 297,
     "metadata": {},
     "output_type": "execute_result"
    },
    {
     "data": {
      "image/png": "[encoded data removed]",
      "text/plain": [
       "<Figure size 432x288 with 1 Axes>"
      ]
     },
     "metadata": {
      "needs_background": "light"
     },
     "output_type": "display_data"
    }
   ],
   "source": [
    "sns.distplot(total_df['popularity'], kde = True)"
   ]
  },
  {
   "cell_type": "markdown",
   "metadata": {},
   "source": [
    "# (1) Does speechiness have an effect on popularity?"
   ]
  },
  {
   "cell_type": "markdown",
   "metadata": {},
   "source": [
    "Visualizing the effects of speechiness on popularity:"
   ]
  },
  {
   "cell_type": "code",
   "execution_count": 298,
   "metadata": {
    "scrolled": false
   },
   "outputs": [
    {
     "data": {
      "text/plain": [
       "Text(0.5, 1.0, 'songs speechiness vs. popularity')"
      ]
     },
     "execution_count": 298,
     "metadata": {},
     "output_type": "execute_result"
    },
    {
     "data": {
      "image/png": "[encoded data removed]",
      "text/plain": [
       "<Figure size 432x288 with 1 Axes>"
      ]
     },
     "metadata": {
      "needs_background": "light"
     },
     "output_type": "display_data"
    }
   ],
   "source": [
    "ax = sns.scatterplot(x=total_df[\"speechiness\"], y=total_df[\"popularity\"], data = total_df)\n",
    "plt.title('songs speechiness vs. popularity')"
   ]
  },
  {
   "cell_type": "code",
   "execution_count": 299,
   "metadata": {},
   "outputs": [
    {
     "data": {
      "text/plain": [
       "Text(0.5, 1.0, 'songs genre vs. popularity')"
      ]
     },
     "execution_count": 299,
     "metadata": {},
     "output_type": "execute_result"
    },
    {
     "data": {
      "image/png": "[encoded data removed]",
      "text/plain": [
       "<Figure size 432x288 with 1 Axes>"
      ]
     },
     "metadata": {
      "needs_background": "light"
     },
     "output_type": "display_data"
    }
   ],
   "source": [
    "ax = sns.scatterplot(x=total_df[\"genre\"], y=total_df[\"popularity\"], data = total_df)\n",
    "plt.title('songs genre vs. popularity')"
   ]
  },
  {
   "cell_type": "code",
   "execution_count": 300,
   "metadata": {},
   "outputs": [
    {
     "data": {
      "image/png": "[encoded data removed]",
      "text/plain": [
       "<Figure size 1800x576 with 1 Axes>"
      ]
     },
     "metadata": {
      "needs_background": "light"
     },
     "output_type": "display_data"
    }
   ],
   "source": [
    "palette = ['#f0e594', '#57b884', '#ffab8d', '#f2cbac', '#ff6a9e']\n",
    "plt.figure(figsize=(25,8))\n",
    "ax2 = sns.barplot(x=total_df[\"speechiness_binned\"], y=total_df[\"popularity\"], hue = 'genre', data = total_df, palette = palette)\n",
    "plt.title('speechiness vs. popularity by genre').set_fontsize(20)\n",
    "plt.xlabel('speechiness').set_fontsize(16)\n",
    "plt.ylabel('popularity ranking').set_fontsize(16)"
   ]
  },
  {
   "cell_type": "code",
   "execution_count": 301,
   "metadata": {},
   "outputs": [],
   "source": [
    "from statsmodels.formula.api import ols\n",
    "from statsmodels.stats.anova import anova_lm\n",
    "import statsmodels.api as sm"
   ]
  },
  {
   "cell_type": "code",
   "execution_count": 302,
   "metadata": {
    "scrolled": true
   },
   "outputs": [
    {
     "data": {
      "text/html": [
       "<table class=\"simpletable\">\n",
       "<caption>OLS Regression Results</caption>\n",
       "<tr>\n",
       "  <th>Dep. Variable:</th>       <td>popularity</td>    <th>  R-squared:         </th> <td>   0.021</td>\n",
       "</tr>\n",
       "<tr>\n",
       "  <th>Model:</th>                   <td>OLS</td>       <th>  Adj. R-squared:    </th> <td>   0.019</td>\n",
       "</tr>\n",
       "<tr>\n",
       "  <th>Method:</th>             <td>Least Squares</td>  <th>  F-statistic:       </th> <td>   9.049</td>\n",
       "</tr>\n",
       "<tr>\n",
       "  <th>Date:</th>             <td>Mon, 15 Jul 2019</td> <th>  Prob (F-statistic):</th>  <td>0.00279</td>\n",
       "</tr>\n",
       "<tr>\n",
       "  <th>Time:</th>                 <td>16:35:05</td>     <th>  Log-Likelihood:    </th> <td> -1885.4</td>\n",
       "</tr>\n",
       "<tr>\n",
       "  <th>No. Observations:</th>      <td>   423</td>      <th>  AIC:               </th> <td>   3775.</td>\n",
       "</tr>\n",
       "<tr>\n",
       "  <th>Df Residuals:</th>          <td>   421</td>      <th>  BIC:               </th> <td>   3783.</td>\n",
       "</tr>\n",
       "<tr>\n",
       "  <th>Df Model:</th>              <td>     1</td>      <th>                     </th>     <td> </td>   \n",
       "</tr>\n",
       "<tr>\n",
       "  <th>Covariance Type:</th>      <td>nonrobust</td>    <th>                     </th>     <td> </td>   \n",
       "</tr>\n",
       "</table>\n",
       "<table class=\"simpletable\">\n",
       "<tr>\n",
       "       <td></td>          <th>coef</th>     <th>std err</th>      <th>t</th>      <th>P>|t|</th>  <th>[0.025</th>    <th>0.975]</th>  \n",
       "</tr>\n",
       "<tr>\n",
       "  <th>Intercept</th>   <td>   57.9485</td> <td>    1.427</td> <td>   40.605</td> <td> 0.000</td> <td>   55.143</td> <td>   60.754</td>\n",
       "</tr>\n",
       "<tr>\n",
       "  <th>speechiness</th> <td>   30.0585</td> <td>    9.992</td> <td>    3.008</td> <td> 0.003</td> <td>   10.417</td> <td>   49.700</td>\n",
       "</tr>\n",
       "</table>\n",
       "<table class=\"simpletable\">\n",
       "<tr>\n",
       "  <th>Omnibus:</th>       <td>50.132</td> <th>  Durbin-Watson:     </th> <td>   1.426</td>\n",
       "</tr>\n",
       "<tr>\n",
       "  <th>Prob(Omnibus):</th> <td> 0.000</td> <th>  Jarque-Bera (JB):  </th> <td>  64.698</td>\n",
       "</tr>\n",
       "<tr>\n",
       "  <th>Skew:</th>          <td>-0.909</td> <th>  Prob(JB):          </th> <td>8.93e-15</td>\n",
       "</tr>\n",
       "<tr>\n",
       "  <th>Kurtosis:</th>      <td> 3.603</td> <th>  Cond. No.          </th> <td>    9.92</td>\n",
       "</tr>\n",
       "</table><br/><br/>Warnings:<br/>[1] Standard Errors assume that the covariance matrix of the errors is correctly specified."
      ],
      "text/plain": [
       "<class 'statsmodels.iolib.summary.Summary'>\n",
       "\"\"\"\n",
       "                            OLS Regression Results                            \n",
       "==============================================================================\n",
       "Dep. Variable:             popularity   R-squared:                       0.021\n",
       "Model:                            OLS   Adj. R-squared:                  0.019\n",
       "Method:                 Least Squares   F-statistic:                     9.049\n",
       "Date:                Mon, 15 Jul 2019   Prob (F-statistic):            0.00279\n",
       "Time:                        16:35:05   Log-Likelihood:                -1885.4\n",
       "No. Observations:                 423   AIC:                             3775.\n",
       "Df Residuals:                     421   BIC:                             3783.\n",
       "Df Model:                           1                                         \n",
       "Covariance Type:            nonrobust                                         \n",
       "===============================================================================\n",
       "                  coef    std err          t      P>|t|      [0.025      0.975]\n",
       "-------------------------------------------------------------------------------\n",
       "Intercept      57.9485      1.427     40.605      0.000      55.143      60.754\n",
       "speechiness    30.0585      9.992      3.008      0.003      10.417      49.700\n",
       "==============================================================================\n",
       "Omnibus:                       50.132   Durbin-Watson:                   1.426\n",
       "Prob(Omnibus):                  0.000   Jarque-Bera (JB):               64.698\n",
       "Skew:                          -0.909   Prob(JB):                     8.93e-15\n",
       "Kurtosis:                       3.603   Cond. No.                         9.92\n",
       "==============================================================================\n",
       "\n",
       "Warnings:\n",
       "[1] Standard Errors assume that the covariance matrix of the errors is correctly specified.\n",
       "\"\"\""
      ]
     },
     "execution_count": 302,
     "metadata": {},
     "output_type": "execute_result"
    }
   ],
   "source": [
    "model1 = ols('popularity~ speechiness', total_df).fit()\n",
    "model1.summary()"
   ]
  },
  {
   "cell_type": "markdown",
   "metadata": {},
   "source": [
    "The r^2 value for popularity and speechiness for all genres is 0.021... leading us to conclude that there is no real significance between speechiness and popularity across all genres. "
   ]
  },
  {
   "cell_type": "markdown",
   "metadata": {},
   "source": [
    "# (2) How does speechiness affect a song's popularity within a certain genre?"
   ]
  },
  {
   "cell_type": "markdown",
   "metadata": {},
   "source": [
    "Quick visual to understand our data:"
   ]
  },
  {
   "cell_type": "code",
   "execution_count": 303,
   "metadata": {
    "scrolled": false
   },
   "outputs": [
    {
     "data": {
      "image/png": "[encoded data removed]",
      "text/plain": [
       "<Figure size 864x432 with 2 Axes>"
      ]
     },
     "metadata": {
      "needs_background": "light"
     },
     "output_type": "display_data"
    }
   ],
   "source": [
    "plt.figure(figsize=(12,6))\n",
    "plt.subplot(1,2,1)\n",
    "plt.plot = sns.boxplot(x=\"genre\", y=\"speechiness\", data=total_df, palette='Set3')\n",
    "\n",
    "plt.subplot(1,2,2)\n",
    "plt.plot = sns.boxplot(x=\"genre\", y=\"popularity\", data=total_df, palette=\"Set3\")"
   ]
  },
  {
   "cell_type": "code",
   "execution_count": 304,
   "metadata": {},
   "outputs": [
    {
     "data": {
      "image/png": "[encoded data removed]",
      "text/plain": [
       "<Figure size 1080x576 with 1 Axes>"
      ]
     },
     "metadata": {
      "needs_background": "light"
     },
     "output_type": "display_data"
    }
   ],
   "source": [
    "plt.figure(figsize = (15, 8))\n",
    "ax3 = sns.boxplot(x=\"speechiness_binned\", y=\"popularity\", hue = 'genre', data=total_df, palette='Set3')"
   ]
  },
  {
   "cell_type": "markdown",
   "metadata": {},
   "source": [
    "Model for understanding the relationship between speechiness, popularity, and genre:"
   ]
  },
  {
   "cell_type": "code",
   "execution_count": 305,
   "metadata": {
    "scrolled": true
   },
   "outputs": [
    {
     "name": "stdout",
     "output_type": "stream",
     "text": [
      "Overall model F( 27, 395) =  5.914, p =  0.0000\n"
     ]
    },
    {
     "data": {
      "text/html": [
       "<table class=\"simpletable\">\n",
       "<caption>OLS Regression Results</caption>\n",
       "<tr>\n",
       "  <th>Dep. Variable:</th>       <td>popularity</td>    <th>  R-squared:         </th> <td>   0.288</td>\n",
       "</tr>\n",
       "<tr>\n",
       "  <th>Model:</th>                   <td>OLS</td>       <th>  Adj. R-squared:    </th> <td>   0.239</td>\n",
       "</tr>\n",
       "<tr>\n",
       "  <th>Method:</th>             <td>Least Squares</td>  <th>  F-statistic:       </th> <td>   5.914</td>\n",
       "</tr>\n",
       "<tr>\n",
       "  <th>Date:</th>             <td>Mon, 15 Jul 2019</td> <th>  Prob (F-statistic):</th> <td>6.82e-17</td>\n",
       "</tr>\n",
       "<tr>\n",
       "  <th>Time:</th>                 <td>16:35:10</td>     <th>  Log-Likelihood:    </th> <td> -1818.1</td>\n",
       "</tr>\n",
       "<tr>\n",
       "  <th>No. Observations:</th>      <td>   423</td>      <th>  AIC:               </th> <td>   3692.</td>\n",
       "</tr>\n",
       "<tr>\n",
       "  <th>Df Residuals:</th>          <td>   395</td>      <th>  BIC:               </th> <td>   3806.</td>\n",
       "</tr>\n",
       "<tr>\n",
       "  <th>Df Model:</th>              <td>    27</td>      <th>                     </th>     <td> </td>   \n",
       "</tr>\n",
       "<tr>\n",
       "  <th>Covariance Type:</th>      <td>nonrobust</td>    <th>                     </th>     <td> </td>   \n",
       "</tr>\n",
       "</table>\n",
       "<table class=\"simpletable\">\n",
       "<tr>\n",
       "                      <td></td>                         <th>coef</th>     <th>std err</th>      <th>t</th>      <th>P>|t|</th>  <th>[0.025</th>    <th>0.975]</th>  \n",
       "</tr>\n",
       "<tr>\n",
       "  <th>Intercept</th>                                 <td>   56.9208</td> <td>    1.833</td> <td>   31.056</td> <td> 0.000</td> <td>   53.317</td> <td>   60.524</td>\n",
       "</tr>\n",
       "<tr>\n",
       "  <th>speechiness_binned[T.2]</th>                   <td>    8.0792</td> <td>   13.153</td> <td>    0.614</td> <td> 0.539</td> <td>  -17.780</td> <td>   33.938</td>\n",
       "</tr>\n",
       "<tr>\n",
       "  <th>speechiness_binned[T.3]</th>                   <td>   -4.4208</td> <td>   13.153</td> <td>   -0.336</td> <td> 0.737</td> <td>  -30.280</td> <td>   21.438</td>\n",
       "</tr>\n",
       "<tr>\n",
       "  <th>speechiness_binned[T.4]</th>                   <td>   19.0792</td> <td>   18.511</td> <td>    1.031</td> <td> 0.303</td> <td>  -17.313</td> <td>   55.472</td>\n",
       "</tr>\n",
       "<tr>\n",
       "  <th>speechiness_binned[T.5]</th>                   <td>    0.0481</td> <td>    4.173</td> <td>    0.012</td> <td> 0.991</td> <td>   -8.157</td> <td>    8.253</td>\n",
       "</tr>\n",
       "<tr>\n",
       "  <th>speechiness_binned[T.6]</th>                   <td>    3.2713</td> <td>    5.020</td> <td>    0.652</td> <td> 0.515</td> <td>   -6.598</td> <td>   13.141</td>\n",
       "</tr>\n",
       "<tr>\n",
       "  <th>speechiness_binned[T.7]</th>                   <td>    2.2401</td> <td>    4.461</td> <td>    0.502</td> <td> 0.616</td> <td>   -6.530</td> <td>   11.010</td>\n",
       "</tr>\n",
       "<tr>\n",
       "  <th>speechiness_binned[T.8]</th>                   <td>    6.2533</td> <td>    6.870</td> <td>    0.910</td> <td> 0.363</td> <td>   -7.252</td> <td>   19.759</td>\n",
       "</tr>\n",
       "<tr>\n",
       "  <th>speechiness_binned[T.9]</th>                   <td>   -4.6905</td> <td>    3.906</td> <td>   -1.201</td> <td> 0.231</td> <td>  -12.370</td> <td>    2.989</td>\n",
       "</tr>\n",
       "<tr>\n",
       "  <th>speechiness_binned[T.10]</th>                  <td>    3.3644</td> <td>    7.226</td> <td>    0.466</td> <td> 0.642</td> <td>  -10.842</td> <td>   17.571</td>\n",
       "</tr>\n",
       "<tr>\n",
       "  <th>C(genre)[T.jazz]</th>                          <td>  -11.2464</td> <td>    2.703</td> <td>   -4.161</td> <td> 0.000</td> <td>  -16.560</td> <td>   -5.933</td>\n",
       "</tr>\n",
       "<tr>\n",
       "  <th>C(genre)[T.pop]</th>                           <td>   19.6527</td> <td>    2.889</td> <td>    6.802</td> <td> 0.000</td> <td>   13.972</td> <td>   25.333</td>\n",
       "</tr>\n",
       "<tr>\n",
       "  <th>C(genre)[T.rap]</th>                           <td>    6.7459</td> <td>    3.991</td> <td>    1.690</td> <td> 0.092</td> <td>   -1.100</td> <td>   14.592</td>\n",
       "</tr>\n",
       "<tr>\n",
       "  <th>speechiness_binned[T.2]:C(genre)[T.jazz]</th>  <td>   -4.3900</td> <td>   14.415</td> <td>   -0.305</td> <td> 0.761</td> <td>  -32.730</td> <td>   23.950</td>\n",
       "</tr>\n",
       "<tr>\n",
       "  <th>speechiness_binned[T.3]:C(genre)[T.jazz]</th>  <td>    5.1464</td> <td>   15.646</td> <td>    0.329</td> <td> 0.742</td> <td>  -25.614</td> <td>   35.907</td>\n",
       "</tr>\n",
       "<tr>\n",
       "  <th>speechiness_binned[T.4]:C(genre)[T.jazz]</th>  <td> 2.143e-14</td> <td> 2.94e-14</td> <td>    0.728</td> <td> 0.467</td> <td>-3.65e-14</td> <td> 7.93e-14</td>\n",
       "</tr>\n",
       "<tr>\n",
       "  <th>speechiness_binned[T.5]:C(genre)[T.jazz]</th>  <td> 9.607e-17</td> <td> 3.11e-15</td> <td>    0.031</td> <td> 0.975</td> <td>-6.02e-15</td> <td> 6.21e-15</td>\n",
       "</tr>\n",
       "<tr>\n",
       "  <th>speechiness_binned[T.6]:C(genre)[T.jazz]</th>  <td>    3.0542</td> <td>   10.583</td> <td>    0.289</td> <td> 0.773</td> <td>  -17.752</td> <td>   23.860</td>\n",
       "</tr>\n",
       "<tr>\n",
       "  <th>speechiness_binned[T.7]:C(genre)[T.jazz]</th>  <td>    8.5855</td> <td>   10.329</td> <td>    0.831</td> <td> 0.406</td> <td>  -11.722</td> <td>   28.893</td>\n",
       "</tr>\n",
       "<tr>\n",
       "  <th>speechiness_binned[T.8]:C(genre)[T.jazz]</th>  <td> 3.732e-15</td> <td> 5.12e-15</td> <td>    0.729</td> <td> 0.467</td> <td>-6.33e-15</td> <td> 1.38e-14</td>\n",
       "</tr>\n",
       "<tr>\n",
       "  <th>speechiness_binned[T.9]:C(genre)[T.jazz]</th>  <td>-7.373e-16</td> <td>  5.4e-15</td> <td>   -0.136</td> <td> 0.892</td> <td>-1.14e-14</td> <td> 9.89e-15</td>\n",
       "</tr>\n",
       "<tr>\n",
       "  <th>speechiness_binned[T.10]:C(genre)[T.jazz]</th> <td>  5.26e-16</td> <td> 7.78e-15</td> <td>    0.068</td> <td> 0.946</td> <td>-1.48e-14</td> <td> 1.58e-14</td>\n",
       "</tr>\n",
       "<tr>\n",
       "  <th>speechiness_binned[T.2]:C(genre)[T.pop]</th>   <td>  -11.6527</td> <td>   14.451</td> <td>   -0.806</td> <td> 0.421</td> <td>  -40.064</td> <td>   16.759</td>\n",
       "</tr>\n",
       "<tr>\n",
       "  <th>speechiness_binned[T.3]:C(genre)[T.pop]</th>   <td>    2.3473</td> <td>   14.558</td> <td>    0.161</td> <td> 0.872</td> <td>  -26.273</td> <td>   30.968</td>\n",
       "</tr>\n",
       "<tr>\n",
       "  <th>speechiness_binned[T.4]:C(genre)[T.pop]</th>   <td>  -11.3194</td> <td>   20.105</td> <td>   -0.563</td> <td> 0.574</td> <td>  -50.845</td> <td>   28.206</td>\n",
       "</tr>\n",
       "<tr>\n",
       "  <th>speechiness_binned[T.5]:C(genre)[T.pop]</th>   <td>    1.3783</td> <td>    7.535</td> <td>    0.183</td> <td> 0.855</td> <td>  -13.436</td> <td>   16.193</td>\n",
       "</tr>\n",
       "<tr>\n",
       "  <th>speechiness_binned[T.6]:C(genre)[T.pop]</th>   <td>    0.6551</td> <td>   10.608</td> <td>    0.062</td> <td> 0.951</td> <td>  -20.199</td> <td>   21.509</td>\n",
       "</tr>\n",
       "<tr>\n",
       "  <th>speechiness_binned[T.7]:C(genre)[T.pop]</th>   <td>   -4.8136</td> <td>    8.050</td> <td>   -0.598</td> <td> 0.550</td> <td>  -20.640</td> <td>   11.013</td>\n",
       "</tr>\n",
       "<tr>\n",
       "  <th>speechiness_binned[T.8]:C(genre)[T.pop]</th>   <td>   -0.8268</td> <td>   12.726</td> <td>   -0.065</td> <td> 0.948</td> <td>  -25.846</td> <td>   24.192</td>\n",
       "</tr>\n",
       "<tr>\n",
       "  <th>speechiness_binned[T.9]:C(genre)[T.pop]</th>   <td>         0</td> <td>        0</td> <td>      nan</td> <td>   nan</td> <td>        0</td> <td>        0</td>\n",
       "</tr>\n",
       "<tr>\n",
       "  <th>speechiness_binned[T.10]:C(genre)[T.pop]</th>  <td>   -2.9379</td> <td>   12.922</td> <td>   -0.227</td> <td> 0.820</td> <td>  -28.342</td> <td>   22.467</td>\n",
       "</tr>\n",
       "<tr>\n",
       "  <th>speechiness_binned[T.2]:C(genre)[T.rap]</th>   <td>   -4.9277</td> <td>   14.711</td> <td>   -0.335</td> <td> 0.738</td> <td>  -33.850</td> <td>   23.994</td>\n",
       "</tr>\n",
       "<tr>\n",
       "  <th>speechiness_binned[T.3]:C(genre)[T.rap]</th>   <td>    1.8375</td> <td>   14.624</td> <td>    0.126</td> <td> 0.900</td> <td>  -26.912</td> <td>   30.587</td>\n",
       "</tr>\n",
       "<tr>\n",
       "  <th>speechiness_binned[T.4]:C(genre)[T.rap]</th>   <td>  -22.2913</td> <td>   19.649</td> <td>   -1.134</td> <td> 0.257</td> <td>  -60.920</td> <td>   16.338</td>\n",
       "</tr>\n",
       "<tr>\n",
       "  <th>speechiness_binned[T.5]:C(genre)[T.rap]</th>   <td>   -1.3302</td> <td>    5.505</td> <td>   -0.242</td> <td> 0.809</td> <td>  -12.153</td> <td>    9.493</td>\n",
       "</tr>\n",
       "<tr>\n",
       "  <th>speechiness_binned[T.6]:C(genre)[T.rap]</th>   <td>   -0.4380</td> <td>    7.259</td> <td>   -0.060</td> <td> 0.952</td> <td>  -14.709</td> <td>   13.833</td>\n",
       "</tr>\n",
       "<tr>\n",
       "  <th>speechiness_binned[T.7]:C(genre)[T.rap]</th>   <td>   -1.5318</td> <td>    6.884</td> <td>   -0.223</td> <td> 0.824</td> <td>  -15.065</td> <td>   12.002</td>\n",
       "</tr>\n",
       "<tr>\n",
       "  <th>speechiness_binned[T.8]:C(genre)[T.rap]</th>   <td>    7.0801</td> <td>    8.602</td> <td>    0.823</td> <td> 0.411</td> <td>   -9.832</td> <td>   23.992</td>\n",
       "</tr>\n",
       "<tr>\n",
       "  <th>speechiness_binned[T.9]:C(genre)[T.rap]</th>   <td>   -4.6905</td> <td>    3.906</td> <td>   -1.201</td> <td> 0.231</td> <td>  -12.370</td> <td>    2.989</td>\n",
       "</tr>\n",
       "<tr>\n",
       "  <th>speechiness_binned[T.10]:C(genre)[T.rap]</th>  <td>    6.3023</td> <td>    9.701</td> <td>    0.650</td> <td> 0.516</td> <td>  -12.769</td> <td>   25.374</td>\n",
       "</tr>\n",
       "</table>\n",
       "<table class=\"simpletable\">\n",
       "<tr>\n",
       "  <th>Omnibus:</th>       <td>131.517</td> <th>  Durbin-Watson:     </th> <td>   1.959</td>\n",
       "</tr>\n",
       "<tr>\n",
       "  <th>Prob(Omnibus):</th> <td> 0.000</td>  <th>  Jarque-Bera (JB):  </th> <td> 291.654</td>\n",
       "</tr>\n",
       "<tr>\n",
       "  <th>Skew:</th>          <td>-1.630</td>  <th>  Prob(JB):          </th> <td>4.66e-64</td>\n",
       "</tr>\n",
       "<tr>\n",
       "  <th>Kurtosis:</th>      <td> 5.432</td>  <th>  Cond. No.          </th> <td>1.11e+16</td>\n",
       "</tr>\n",
       "</table><br/><br/>Warnings:<br/>[1] Standard Errors assume that the covariance matrix of the errors is correctly specified.<br/>[2] The smallest eigenvalue is 4.22e-30. This might indicate that there are<br/>strong multicollinearity problems or that the design matrix is singular."
      ],
      "text/plain": [
       "<class 'statsmodels.iolib.summary.Summary'>\n",
       "\"\"\"\n",
       "                            OLS Regression Results                            \n",
       "==============================================================================\n",
       "Dep. Variable:             popularity   R-squared:                       0.288\n",
       "Model:                            OLS   Adj. R-squared:                  0.239\n",
       "Method:                 Least Squares   F-statistic:                     5.914\n",
       "Date:                Mon, 15 Jul 2019   Prob (F-statistic):           6.82e-17\n",
       "Time:                        16:35:10   Log-Likelihood:                -1818.1\n",
       "No. Observations:                 423   AIC:                             3692.\n",
       "Df Residuals:                     395   BIC:                             3806.\n",
       "Df Model:                          27                                         \n",
       "Covariance Type:            nonrobust                                         \n",
       "=============================================================================================================\n",
       "                                                coef    std err          t      P>|t|      [0.025      0.975]\n",
       "-------------------------------------------------------------------------------------------------------------\n",
       "Intercept                                    56.9208      1.833     31.056      0.000      53.317      60.524\n",
       "speechiness_binned[T.2]                       8.0792     13.153      0.614      0.539     -17.780      33.938\n",
       "speechiness_binned[T.3]                      -4.4208     13.153     -0.336      0.737     -30.280      21.438\n",
       "speechiness_binned[T.4]                      19.0792     18.511      1.031      0.303     -17.313      55.472\n",
       "speechiness_binned[T.5]                       0.0481      4.173      0.012      0.991      -8.157       8.253\n",
       "speechiness_binned[T.6]                       3.2713      5.020      0.652      0.515      -6.598      13.141\n",
       "speechiness_binned[T.7]                       2.2401      4.461      0.502      0.616      -6.530      11.010\n",
       "speechiness_binned[T.8]                       6.2533      6.870      0.910      0.363      -7.252      19.759\n",
       "speechiness_binned[T.9]                      -4.6905      3.906     -1.201      0.231     -12.370       2.989\n",
       "speechiness_binned[T.10]                      3.3644      7.226      0.466      0.642     -10.842      17.571\n",
       "C(genre)[T.jazz]                            -11.2464      2.703     -4.161      0.000     -16.560      -5.933\n",
       "C(genre)[T.pop]                              19.6527      2.889      6.802      0.000      13.972      25.333\n",
       "C(genre)[T.rap]                               6.7459      3.991      1.690      0.092      -1.100      14.592\n",
       "speechiness_binned[T.2]:C(genre)[T.jazz]     -4.3900     14.415     -0.305      0.761     -32.730      23.950\n",
       "speechiness_binned[T.3]:C(genre)[T.jazz]      5.1464     15.646      0.329      0.742     -25.614      35.907\n",
       "speechiness_binned[T.4]:C(genre)[T.jazz]   2.143e-14   2.94e-14      0.728      0.467   -3.65e-14    7.93e-14\n",
       "speechiness_binned[T.5]:C(genre)[T.jazz]   9.607e-17   3.11e-15      0.031      0.975   -6.02e-15    6.21e-15\n",
       "speechiness_binned[T.6]:C(genre)[T.jazz]      3.0542     10.583      0.289      0.773     -17.752      23.860\n",
       "speechiness_binned[T.7]:C(genre)[T.jazz]      8.5855     10.329      0.831      0.406     -11.722      28.893\n",
       "speechiness_binned[T.8]:C(genre)[T.jazz]   3.732e-15   5.12e-15      0.729      0.467   -6.33e-15    1.38e-14\n",
       "speechiness_binned[T.9]:C(genre)[T.jazz]  -7.373e-16    5.4e-15     -0.136      0.892   -1.14e-14    9.89e-15\n",
       "speechiness_binned[T.10]:C(genre)[T.jazz]   5.26e-16   7.78e-15      0.068      0.946   -1.48e-14    1.58e-14\n",
       "speechiness_binned[T.2]:C(genre)[T.pop]     -11.6527     14.451     -0.806      0.421     -40.064      16.759\n",
       "speechiness_binned[T.3]:C(genre)[T.pop]       2.3473     14.558      0.161      0.872     -26.273      30.968\n",
       "speechiness_binned[T.4]:C(genre)[T.pop]     -11.3194     20.105     -0.563      0.574     -50.845      28.206\n",
       "speechiness_binned[T.5]:C(genre)[T.pop]       1.3783      7.535      0.183      0.855     -13.436      16.193\n",
       "speechiness_binned[T.6]:C(genre)[T.pop]       0.6551     10.608      0.062      0.951     -20.199      21.509\n",
       "speechiness_binned[T.7]:C(genre)[T.pop]      -4.8136      8.050     -0.598      0.550     -20.640      11.013\n",
       "speechiness_binned[T.8]:C(genre)[T.pop]      -0.8268     12.726     -0.065      0.948     -25.846      24.192\n",
       "speechiness_binned[T.9]:C(genre)[T.pop]            0          0        nan        nan           0           0\n",
       "speechiness_binned[T.10]:C(genre)[T.pop]     -2.9379     12.922     -0.227      0.820     -28.342      22.467\n",
       "speechiness_binned[T.2]:C(genre)[T.rap]      -4.9277     14.711     -0.335      0.738     -33.850      23.994\n",
       "speechiness_binned[T.3]:C(genre)[T.rap]       1.8375     14.624      0.126      0.900     -26.912      30.587\n",
       "speechiness_binned[T.4]:C(genre)[T.rap]     -22.2913     19.649     -1.134      0.257     -60.920      16.338\n",
       "speechiness_binned[T.5]:C(genre)[T.rap]      -1.3302      5.505     -0.242      0.809     -12.153       9.493\n",
       "speechiness_binned[T.6]:C(genre)[T.rap]      -0.4380      7.259     -0.060      0.952     -14.709      13.833\n",
       "speechiness_binned[T.7]:C(genre)[T.rap]      -1.5318      6.884     -0.223      0.824     -15.065      12.002\n",
       "speechiness_binned[T.8]:C(genre)[T.rap]       7.0801      8.602      0.823      0.411      -9.832      23.992\n",
       "speechiness_binned[T.9]:C(genre)[T.rap]      -4.6905      3.906     -1.201      0.231     -12.370       2.989\n",
       "speechiness_binned[T.10]:C(genre)[T.rap]      6.3023      9.701      0.650      0.516     -12.769      25.374\n",
       "==============================================================================\n",
       "Omnibus:                      131.517   Durbin-Watson:                   1.959\n",
       "Prob(Omnibus):                  0.000   Jarque-Bera (JB):              291.654\n",
       "Skew:                          -1.630   Prob(JB):                     4.66e-64\n",
       "Kurtosis:                       5.432   Cond. No.                     1.11e+16\n",
       "==============================================================================\n",
       "\n",
       "Warnings:\n",
       "[1] Standard Errors assume that the covariance matrix of the errors is correctly specified.\n",
       "[2] The smallest eigenvalue is 4.22e-30. This might indicate that there are\n",
       "strong multicollinearity problems or that the design matrix is singular.\n",
       "\"\"\""
      ]
     },
     "execution_count": 305,
     "metadata": {},
     "output_type": "execute_result"
    }
   ],
   "source": [
    "model2 = ols('popularity~ speechiness_binned * C(genre)', total_df).fit()\n",
    "print(f\"Overall model F({model2.df_model: .0f},{model2.df_resid: .0f}) = {model2.fvalue: .3f}, p = {model2.f_pvalue: .4f}\")\n",
    "model2.summary()"
   ]
  },
  {
   "cell_type": "markdown",
   "metadata": {},
   "source": [
    "create anova table to see interactions and relationships:\n",
    "notice that the interaction between speechiness_binned and genre is not significant, so we can accept this null hypothesis: that there is no significant interaction between the two variables, but we reject the null for the speechiness hypothesis and genre hypothesis in that the have a significant effect on popularity"
   ]
  },
  {
   "cell_type": "code",
   "execution_count": 306,
   "metadata": {},
   "outputs": [
    {
     "data": {
      "text/html": [
       "<div>\n",
       "<style scoped>\n",
       "    .dataframe tbody tr th:only-of-type {\n",
       "        vertical-align: middle;\n",
       "    }\n",
       "\n",
       "    .dataframe tbody tr th {\n",
       "        vertical-align: top;\n",
       "    }\n",
       "\n",
       "    .dataframe thead th {\n",
       "        text-align: right;\n",
       "    }\n",
       "</style>\n",
       "<table border=\"1\" class=\"dataframe\">\n",
       "  <thead>\n",
       "    <tr style=\"text-align: right;\">\n",
       "      <th></th>\n",
       "      <th>df</th>\n",
       "      <th>sum_sq</th>\n",
       "      <th>mean_sq</th>\n",
       "      <th>F</th>\n",
       "      <th>PR(&gt;F)</th>\n",
       "    </tr>\n",
       "  </thead>\n",
       "  <tbody>\n",
       "    <tr>\n",
       "      <th>speechiness_binned</th>\n",
       "      <td>9.0</td>\n",
       "      <td>6460.677663</td>\n",
       "      <td>717.853074</td>\n",
       "      <td>2.115708</td>\n",
       "      <td>2.730897e-02</td>\n",
       "    </tr>\n",
       "    <tr>\n",
       "      <th>C(genre)</th>\n",
       "      <td>3.0</td>\n",
       "      <td>46136.032891</td>\n",
       "      <td>15378.677630</td>\n",
       "      <td>45.325130</td>\n",
       "      <td>3.420837e-25</td>\n",
       "    </tr>\n",
       "    <tr>\n",
       "      <th>speechiness_binned:C(genre)</th>\n",
       "      <td>27.0</td>\n",
       "      <td>5658.646116</td>\n",
       "      <td>209.579486</td>\n",
       "      <td>0.617688</td>\n",
       "      <td>9.348241e-01</td>\n",
       "    </tr>\n",
       "    <tr>\n",
       "      <th>Residual</th>\n",
       "      <td>395.0</td>\n",
       "      <td>134022.288663</td>\n",
       "      <td>339.296933</td>\n",
       "      <td>NaN</td>\n",
       "      <td>NaN</td>\n",
       "    </tr>\n",
       "  </tbody>\n",
       "</table>\n",
       "</div>"
      ],
      "text/plain": [
       "                                df         sum_sq       mean_sq          F  \\\n",
       "speechiness_binned             9.0    6460.677663    717.853074   2.115708   \n",
       "C(genre)                       3.0   46136.032891  15378.677630  45.325130   \n",
       "speechiness_binned:C(genre)   27.0    5658.646116    209.579486   0.617688   \n",
       "Residual                     395.0  134022.288663    339.296933        NaN   \n",
       "\n",
       "                                   PR(>F)  \n",
       "speechiness_binned           2.730897e-02  \n",
       "C(genre)                     3.420837e-25  \n",
       "speechiness_binned:C(genre)  9.348241e-01  \n",
       "Residual                              NaN  "
      ]
     },
     "execution_count": 306,
     "metadata": {},
     "output_type": "execute_result"
    }
   ],
   "source": [
    "anova_table = sm.stats.anova_lm(model2, type= 2)\n",
    "anova_table"
   ]
  },
  {
   "cell_type": "code",
   "execution_count": 307,
   "metadata": {},
   "outputs": [
    {
     "name": "stdout",
     "output_type": "stream",
     "text": [
      "Multiple Comparison of Means - Tukey HSD,FWER=0.05\n",
      "===============================================\n",
      " group1 group2 meandiff  lower    upper  reject\n",
      "-----------------------------------------------\n",
      "country  jazz  -10.7547 -17.1795 -4.3299  True \n",
      "country  pop   19.3491  12.9242  25.7739  True \n",
      "country  rap    6.5921   0.152   13.0322  True \n",
      "  jazz   pop   30.1038  23.6789  36.5286  True \n",
      "  jazz   rap   17.3468  10.9067  23.7869  True \n",
      "  pop    rap   -12.757  -19.1971 -6.3169  True \n",
      "-----------------------------------------------\n"
     ]
    }
   ],
   "source": [
    "mc = sm.stats.multicomp.MultiComparison(total_df['popularity'], total_df['genre'])\n",
    "mc_results = mc.tukeyhsd()\n",
    "print(mc_results)"
   ]
  },
  {
   "cell_type": "code",
   "execution_count": 308,
   "metadata": {},
   "outputs": [
    {
     "name": "stdout",
     "output_type": "stream",
     "text": [
      "Multiple Comparison of Means - Tukey HSD,FWER=0.05\n",
      "==============================================\n",
      "group1 group2 meandiff  lower    upper  reject\n",
      "----------------------------------------------\n",
      "  1      10   15.3741  -18.2279 48.9761 False \n",
      "  1      2     4.2955  -7.6638  16.2549 False \n",
      "  1      3     3.7103  -9.3032  16.7238 False \n",
      "  1      4    10.4019  -5.8213  26.6251 False \n",
      "  1      5     6.4366  -10.7132 23.5865 False \n",
      "  1      6     7.5408  -12.1288 27.2104 False \n",
      "  1      7     7.1241  -11.1482 25.3965 False \n",
      "  1      8    18.9574  -8.5742  46.4891 False \n",
      "  1      9    -4.5902  -30.1238 20.9434 False \n",
      "  10     2    -11.0786 -46.2998 24.1427 False \n",
      "  10     3    -11.6638 -47.2568 23.9292 False \n",
      "  10     4    -4.9722   -41.86  31.9155 False \n",
      "  10     5    -8.9375  -46.2421 28.3671 False \n",
      "  10     6    -7.8333  -46.3613 30.6946 False \n",
      "  10     7     -8.25   -46.0837 29.5837 False \n",
      "  10     8     3.5833  -39.4923 46.6589 False \n",
      "  10     9    -19.9643 -61.791  21.8625 False \n",
      "  2      3    -0.5852  -17.3421 16.1717 False \n",
      "  2      4     6.1063  -13.2492 25.4619 False \n",
      "  2      5     2.1411  -17.9975 22.2796 False \n",
      "  2      6     3.2452  -19.0782 25.5687 False \n",
      "  2      7     2.8286  -18.2741 23.9312 False \n",
      "  2      8    14.6619  -14.8243 44.1481 False \n",
      "  2      9    -8.8857  -36.5156 18.7441 False \n",
      "  3      4     6.6916  -13.3324 26.7156 False \n",
      "  3      5     2.7263  -18.0556 23.5081 False \n",
      "  3      6     3.8305  -19.075  26.7359 False \n",
      "  3      7     3.4138  -18.3036 25.1312 False \n",
      "  3      8    15.2471  -14.6822 45.1764 False \n",
      "  3      9    -8.3005  -36.4027 19.8017 False \n",
      "  4      5    -3.9653  -26.894  18.9635 False \n",
      "  4      6    -2.8611  -27.7308 22.0086 False \n",
      "  4      7    -3.2778  -27.0578 20.5022 False \n",
      "  4      8     8.5556  -22.9024 40.0135 False \n",
      "  4      9    -14.9921 -44.717  14.7329 False \n",
      "  5      6     1.1042  -24.3797  26.588 False \n",
      "  5      7     0.6875  -23.7341 25.1091 False \n",
      "  5      8    12.5208  -19.4249 44.4665 False \n",
      "  5      9    -11.0268 -41.2675 19.2139 False \n",
      "  6      7    -0.4167  -26.6691 25.8357 False \n",
      "  6      8    11.4167  -21.9495 44.7829 False \n",
      "  6      9    -12.131  -43.8685 19.6066 False \n",
      "  7      8    11.8333  -20.7287 44.3954 False \n",
      "  7      9    -11.7143 -42.6054 19.1768 False \n",
      "  8      9    -23.5476 -60.6741 13.5789 False \n",
      "----------------------------------------------\n"
     ]
    }
   ],
   "source": [
    "mc = sm.stats.multicomp.MultiComparison(total_df['popularity'], total_df['speechiness_binned'])\n",
    "mc_results = mc.tukeyhsd()\n",
    "print(mc_results)"
   ]
  },
  {
   "cell_type": "markdown",
   "metadata": {},
   "source": [
    "# (3) How does speechiness affect a song's popularity within a certain country?"
   ]
  },
  {
   "cell_type": "markdown",
   "metadata": {},
   "source": [
    "import data and create SQL tables based on country:"
   ]
  },
  {
   "cell_type": "code",
   "execution_count": 309,
   "metadata": {},
   "outputs": [],
   "source": [
    "#compile argentina data \n",
    "get_playlist.get_playlist_SQL('37i9dQZEVXbMMy2roB9myp', 'argentina') \n",
    "get_playlist.get_playlist_SQL('37i9dQZEVXbJajpaXyaKll', 'argentina') \n",
    "\n",
    "#compile australia data\n",
    "get_playlist.get_playlist_SQL('37i9dQZEVXbJPcfkRz0wJ0', 'australia') \n",
    "get_playlist.get_playlist_SQL('37i9dQZEVXbO5MSE9RdfN2', 'australia') \n",
    "\n",
    "#philipines\n",
    "get_playlist.get_playlist_SQL('37i9dQZEVXbNBz9cRCSFkY', 'philippines') \n",
    "get_playlist.get_playlist_SQL('37i9dQZEVXbJv2Mvelmc3I', 'philippines') \n",
    "\n",
    "#romania\n",
    "get_playlist.get_playlist_SQL('37i9dQZEVXbNZbJ6TZelCq', 'romania') \n",
    "get_playlist.get_playlist_SQL('37i9dQZEVXbNwDVyEEfWV3', 'romania') \n",
    "\n",
    "#singapore\n",
    "get_playlist.get_playlist_SQL('37i9dQZEVXbK4gjvS1FjPY', 'singapore') \n",
    "get_playlist.get_playlist_SQL('37i9dQZEVXbJVi45MafAu0', 'singapore') \n",
    "    \n",
    "#south africa \n",
    "get_playlist.get_playlist_SQL('37i9dQZEVXbMH2jvi6jvjk', 'south_africa') \n",
    "get_playlist.get_playlist_SQL('37i9dQZEVXbNaCk6h5bujZ', 'south_africa') \n",
    "\n",
    "#brazil\n",
    "get_playlist.get_playlist_SQL('37i9dQZEVXbMXbN3EUUhlg', 'brazil') \n",
    "get_playlist.get_playlist_SQL('37i9dQZEVXbMOkSwG072hV', 'brazil')     \n"
   ]
  },
  {
   "cell_type": "code",
   "execution_count": 310,
   "metadata": {},
   "outputs": [],
   "source": [
    "df_argentina = get_playlist.SQL_to_dataframe('argentina')\n",
    "df_australia = get_playlist.SQL_to_dataframe('australia')\n",
    "df_philippines = get_playlist.SQL_to_dataframe('philippines')\n",
    "df_romania = get_playlist.SQL_to_dataframe('romania')\n",
    "df_south_africa = get_playlist.SQL_to_dataframe('south_africa')\n",
    "df_brazil = get_playlist.SQL_to_dataframe('brazil')"
   ]
  },
  {
   "cell_type": "code",
   "execution_count": 312,
   "metadata": {},
   "outputs": [
    {
     "name": "stdout",
     "output_type": "stream",
     "text": [
      "None\n",
      "None\n",
      "None\n",
      "None\n"
     ]
    }
   ],
   "source": [
    "df_argentina = get_playlist.song_audio_features(df_argentina, 'argentina')\n",
    "df_australia = get_playlist.song_audio_features(df_australia, 'australia')\n",
    "df_philippines = get_playlist.song_audio_features(df_philippines, 'philippines')\n",
    "df_romania = get_playlist.song_audio_features(df_romania, 'romania')\n",
    "df_south_africa = get_playlist.song_audio_features(df_south_africa, 'south_africa')\n",
    "df_brazil = get_pldf_pop = get_playlist.song_audio_features(df_brazil, 'brazil')"
   ]
  },
  {
   "cell_type": "code",
   "execution_count": 314,
   "metadata": {},
   "outputs": [],
   "source": [
    "df_argentina['country'] = 'argentina'\n",
    "df_australia['country'] = 'australia'\n",
    "df_philippines['country'] = 'philippines'\n",
    "df_romania['country'] = 'romania'\n",
    "df_south_africa['country'] = 'south_africa'\n",
    "df_brazil['country'] = 'brazil'"
   ]
  },
  {
   "cell_type": "code",
   "execution_count": 318,
   "metadata": {},
   "outputs": [
    {
     "data": {
      "text/html": [
       "<div>\n",
       "<style scoped>\n",
       "    .dataframe tbody tr th:only-of-type {\n",
       "        vertical-align: middle;\n",
       "    }\n",
       "\n",
       "    .dataframe tbody tr th {\n",
       "        vertical-align: top;\n",
       "    }\n",
       "\n",
       "    .dataframe thead th {\n",
       "        text-align: right;\n",
       "    }\n",
       "</style>\n",
       "<table border=\"1\" class=\"dataframe\">\n",
       "  <thead>\n",
       "    <tr style=\"text-align: right;\">\n",
       "      <th></th>\n",
       "      <th>popularity</th>\n",
       "      <th>speechiness</th>\n",
       "      <th>danceability</th>\n",
       "      <th>energy</th>\n",
       "      <th>liveness</th>\n",
       "      <th>valence</th>\n",
       "    </tr>\n",
       "    <tr>\n",
       "      <th>country</th>\n",
       "      <th></th>\n",
       "      <th></th>\n",
       "      <th></th>\n",
       "      <th></th>\n",
       "      <th></th>\n",
       "      <th></th>\n",
       "    </tr>\n",
       "  </thead>\n",
       "  <tbody>\n",
       "    <tr>\n",
       "      <th>argentina</th>\n",
       "      <td>74.590361</td>\n",
       "      <td>0.151276</td>\n",
       "      <td>0.739169</td>\n",
       "      <td>0.643863</td>\n",
       "      <td>0.151265</td>\n",
       "      <td>0.598253</td>\n",
       "    </tr>\n",
       "    <tr>\n",
       "      <th>australia</th>\n",
       "      <td>77.212500</td>\n",
       "      <td>0.121758</td>\n",
       "      <td>0.739709</td>\n",
       "      <td>0.614418</td>\n",
       "      <td>0.161392</td>\n",
       "      <td>0.535141</td>\n",
       "    </tr>\n",
       "    <tr>\n",
       "      <th>brazil</th>\n",
       "      <td>70.921348</td>\n",
       "      <td>0.132225</td>\n",
       "      <td>0.701652</td>\n",
       "      <td>0.694281</td>\n",
       "      <td>0.309994</td>\n",
       "      <td>0.614553</td>\n",
       "    </tr>\n",
       "    <tr>\n",
       "      <th>philippies</th>\n",
       "      <td>70.367816</td>\n",
       "      <td>0.097900</td>\n",
       "      <td>0.637744</td>\n",
       "      <td>0.530267</td>\n",
       "      <td>0.152699</td>\n",
       "      <td>0.448535</td>\n",
       "    </tr>\n",
       "    <tr>\n",
       "      <th>romania</th>\n",
       "      <td>73.195122</td>\n",
       "      <td>0.126416</td>\n",
       "      <td>0.744148</td>\n",
       "      <td>0.624111</td>\n",
       "      <td>0.140358</td>\n",
       "      <td>0.517642</td>\n",
       "    </tr>\n",
       "    <tr>\n",
       "      <th>south_africa</th>\n",
       "      <td>69.511364</td>\n",
       "      <td>0.125913</td>\n",
       "      <td>0.720828</td>\n",
       "      <td>0.620379</td>\n",
       "      <td>0.162628</td>\n",
       "      <td>0.490670</td>\n",
       "    </tr>\n",
       "  </tbody>\n",
       "</table>\n",
       "</div>"
      ],
      "text/plain": [
       "              popularity  speechiness  danceability    energy  liveness  \\\n",
       "country                                                                   \n",
       "argentina      74.590361     0.151276      0.739169  0.643863  0.151265   \n",
       "australia      77.212500     0.121758      0.739709  0.614418  0.161392   \n",
       "brazil         70.921348     0.132225      0.701652  0.694281  0.309994   \n",
       "philippies     70.367816     0.097900      0.637744  0.530267  0.152699   \n",
       "romania        73.195122     0.126416      0.744148  0.624111  0.140358   \n",
       "south_africa   69.511364     0.125913      0.720828  0.620379  0.162628   \n",
       "\n",
       "               valence  \n",
       "country                 \n",
       "argentina     0.598253  \n",
       "australia     0.535141  \n",
       "brazil        0.614553  \n",
       "philippies    0.448535  \n",
       "romania       0.517642  \n",
       "south_africa  0.490670  "
      ]
     },
     "execution_count": 318,
     "metadata": {},
     "output_type": "execute_result"
    }
   ],
   "source": [
    "frames = [df_argentina, df_australia, df_philippines, df_romania, df_south_africa, df_brazil]\n",
    "countries_df = pd.concat(frames)\n",
    "countries_df.groupby('country').mean()"
   ]
  },
  {
   "cell_type": "code",
   "execution_count": 326,
   "metadata": {},
   "outputs": [],
   "source": [
    "countries_df['speechiness_binned'] = pd.cut(countries_df['speechiness'], bins = 10, labels= ['1','2','3','4','5','6','7','8','9', '10'])\n",
    "countries_df['speechiness_binned']=countries_df['speechiness_binned'].astype('category')\n",
    "\n",
    "countries_df['energy_binned'] = pd.cut(countries_df['energy'], bins = 10, labels= ['1','2','3','4','5','6','7','8','9', '10'])\n",
    "countries_df['energy_binned']=countries_df['energy_binned'].astype('category')"
   ]
  },
  {
   "cell_type": "code",
   "execution_count": 327,
   "metadata": {},
   "outputs": [
    {
     "data": {
      "text/html": [
       "<div>\n",
       "<style scoped>\n",
       "    .dataframe tbody tr th:only-of-type {\n",
       "        vertical-align: middle;\n",
       "    }\n",
       "\n",
       "    .dataframe tbody tr th {\n",
       "        vertical-align: top;\n",
       "    }\n",
       "\n",
       "    .dataframe thead th {\n",
       "        text-align: right;\n",
       "    }\n",
       "</style>\n",
       "<table border=\"1\" class=\"dataframe\">\n",
       "  <thead>\n",
       "    <tr style=\"text-align: right;\">\n",
       "      <th></th>\n",
       "      <th>song_name</th>\n",
       "      <th>song_id</th>\n",
       "      <th>popularity</th>\n",
       "      <th>artist_name</th>\n",
       "      <th>speechiness</th>\n",
       "      <th>danceability</th>\n",
       "      <th>energy</th>\n",
       "      <th>liveness</th>\n",
       "      <th>valence</th>\n",
       "      <th>country</th>\n",
       "      <th>speechiness_binned</th>\n",
       "      <th>energy_binned</th>\n",
       "    </tr>\n",
       "    <tr>\n",
       "      <th>index</th>\n",
       "      <th></th>\n",
       "      <th></th>\n",
       "      <th></th>\n",
       "      <th></th>\n",
       "      <th></th>\n",
       "      <th></th>\n",
       "      <th></th>\n",
       "      <th></th>\n",
       "      <th></th>\n",
       "      <th></th>\n",
       "      <th></th>\n",
       "      <th></th>\n",
       "    </tr>\n",
       "  </thead>\n",
       "  <tbody>\n",
       "    <tr>\n",
       "      <th>1</th>\n",
       "      <td>Otro Trago</td>\n",
       "      <td>1Ej96GIBCTvgH7tNX1r3qr</td>\n",
       "      <td>94</td>\n",
       "      <td>Sech</td>\n",
       "      <td>0.3410</td>\n",
       "      <td>0.747</td>\n",
       "      <td>0.700</td>\n",
       "      <td>0.1100</td>\n",
       "      <td>0.620</td>\n",
       "      <td>argentina</td>\n",
       "      <td>5</td>\n",
       "      <td>7</td>\n",
       "    </tr>\n",
       "    <tr>\n",
       "      <th>2</th>\n",
       "      <td>Callaita</td>\n",
       "      <td>2TH65lNHgvLxCKXM3apjxI</td>\n",
       "      <td>93</td>\n",
       "      <td>Bad Bunny</td>\n",
       "      <td>0.3090</td>\n",
       "      <td>0.610</td>\n",
       "      <td>0.624</td>\n",
       "      <td>0.2430</td>\n",
       "      <td>0.244</td>\n",
       "      <td>argentina</td>\n",
       "      <td>5</td>\n",
       "      <td>7</td>\n",
       "    </tr>\n",
       "    <tr>\n",
       "      <th>3</th>\n",
       "      <td>Soltera - Remix</td>\n",
       "      <td>1c0hsvHLELX6y8qymnpLKL</td>\n",
       "      <td>92</td>\n",
       "      <td>Lunay</td>\n",
       "      <td>0.0432</td>\n",
       "      <td>0.795</td>\n",
       "      <td>0.783</td>\n",
       "      <td>0.4370</td>\n",
       "      <td>0.800</td>\n",
       "      <td>argentina</td>\n",
       "      <td>1</td>\n",
       "      <td>8</td>\n",
       "    </tr>\n",
       "    <tr>\n",
       "      <th>4</th>\n",
       "      <td>Señorita</td>\n",
       "      <td>0TK2YIli7K1leLovkQiNik</td>\n",
       "      <td>100</td>\n",
       "      <td>Shawn Mendes</td>\n",
       "      <td>0.0287</td>\n",
       "      <td>0.759</td>\n",
       "      <td>0.540</td>\n",
       "      <td>0.0945</td>\n",
       "      <td>0.750</td>\n",
       "      <td>argentina</td>\n",
       "      <td>1</td>\n",
       "      <td>6</td>\n",
       "    </tr>\n",
       "    <tr>\n",
       "      <th>5</th>\n",
       "      <td>Tal Vez</td>\n",
       "      <td>5jW3rF4URMdK7tO2xjS5EI</td>\n",
       "      <td>79</td>\n",
       "      <td>Paulo Londra</td>\n",
       "      <td>0.1510</td>\n",
       "      <td>0.855</td>\n",
       "      <td>0.649</td>\n",
       "      <td>0.0801</td>\n",
       "      <td>0.741</td>\n",
       "      <td>argentina</td>\n",
       "      <td>2</td>\n",
       "      <td>7</td>\n",
       "    </tr>\n",
       "  </tbody>\n",
       "</table>\n",
       "</div>"
      ],
      "text/plain": [
       "             song_name                 song_id  popularity   artist_name  \\\n",
       "index                                                                      \n",
       "1           Otro Trago  1Ej96GIBCTvgH7tNX1r3qr          94          Sech   \n",
       "2             Callaita  2TH65lNHgvLxCKXM3apjxI          93     Bad Bunny   \n",
       "3      Soltera - Remix  1c0hsvHLELX6y8qymnpLKL          92         Lunay   \n",
       "4             Señorita  0TK2YIli7K1leLovkQiNik         100  Shawn Mendes   \n",
       "5              Tal Vez  5jW3rF4URMdK7tO2xjS5EI          79  Paulo Londra   \n",
       "\n",
       "       speechiness  danceability  energy  liveness  valence    country  \\\n",
       "index                                                                    \n",
       "1           0.3410         0.747   0.700    0.1100    0.620  argentina   \n",
       "2           0.3090         0.610   0.624    0.2430    0.244  argentina   \n",
       "3           0.0432         0.795   0.783    0.4370    0.800  argentina   \n",
       "4           0.0287         0.759   0.540    0.0945    0.750  argentina   \n",
       "5           0.1510         0.855   0.649    0.0801    0.741  argentina   \n",
       "\n",
       "      speechiness_binned energy_binned  \n",
       "index                                   \n",
       "1                      5             7  \n",
       "2                      5             7  \n",
       "3                      1             8  \n",
       "4                      1             6  \n",
       "5                      2             7  "
      ]
     },
     "execution_count": 327,
     "metadata": {},
     "output_type": "execute_result"
    }
   ],
   "source": [
    "countries_df.dropna(axis=0, inplace = True)\n",
    "countries_df.head()"
   ]
  },
  {
   "cell_type": "code",
   "execution_count": 328,
   "metadata": {},
   "outputs": [
    {
     "data": {
      "image/png": "[encoded data removed]",
      "text/plain": [
       "<Figure size 1800x576 with 1 Axes>"
      ]
     },
     "metadata": {
      "needs_background": "light"
     },
     "output_type": "display_data"
    }
   ],
   "source": [
    "palette = ['#f0e594', '#57b884', '#ffab8d', '#f2cbac', '#ff6a9e']\n",
    "plt.figure(figsize=(25,8))\n",
    "ax2 = sns.barplot(x=countries_df[\"energy_binned\"], y=countries_df[\"popularity\"], hue = 'country', data = countries_df, palette = palette)\n",
    "plt.title('energy vs. popularity by country').set_fontsize(20)\n",
    "plt.xlabel('energy').set_fontsize(16)\n",
    "plt.ylabel('popularity ranking').set_fontsize(16)"
   ]
  },
  {
   "cell_type": "code",
   "execution_count": 329,
   "metadata": {},
   "outputs": [
    {
     "data": {
      "image/png": "[encoded data removed]",
      "text/plain": [
       "<Figure size 1080x576 with 1 Axes>"
      ]
     },
     "metadata": {
      "needs_background": "light"
     },
     "output_type": "display_data"
    }
   ],
   "source": [
    "plt.figure(figsize = (15, 8))\n",
    "ax3 = sns.boxplot(x=\"energy_binned\", y=\"popularity\", hue = 'country', data=countries_df, palette='Set3')"
   ]
  },
  {
   "cell_type": "code",
   "execution_count": 333,
   "metadata": {},
   "outputs": [
    {
     "name": "stdout",
     "output_type": "stream",
     "text": [
      "Overall model F( 55, 449) =  1.738, p =  0.0014\n"
     ]
    },
    {
     "data": {
      "text/html": [
       "<table class=\"simpletable\">\n",
       "<caption>OLS Regression Results</caption>\n",
       "<tr>\n",
       "  <th>Dep. Variable:</th>       <td>popularity</td>    <th>  R-squared:         </th> <td>   0.176</td>\n",
       "</tr>\n",
       "<tr>\n",
       "  <th>Model:</th>                   <td>OLS</td>       <th>  Adj. R-squared:    </th> <td>   0.075</td>\n",
       "</tr>\n",
       "<tr>\n",
       "  <th>Method:</th>             <td>Least Squares</td>  <th>  F-statistic:       </th> <td>   1.738</td>\n",
       "</tr>\n",
       "<tr>\n",
       "  <th>Date:</th>             <td>Mon, 15 Jul 2019</td> <th>  Prob (F-statistic):</th>  <td>0.00141</td>\n",
       "</tr>\n",
       "<tr>\n",
       "  <th>Time:</th>                 <td>17:04:09</td>     <th>  Log-Likelihood:    </th> <td> -2109.9</td>\n",
       "</tr>\n",
       "<tr>\n",
       "  <th>No. Observations:</th>      <td>   505</td>      <th>  AIC:               </th> <td>   4332.</td>\n",
       "</tr>\n",
       "<tr>\n",
       "  <th>Df Residuals:</th>          <td>   449</td>      <th>  BIC:               </th> <td>   4568.</td>\n",
       "</tr>\n",
       "<tr>\n",
       "  <th>Df Model:</th>              <td>    55</td>      <th>                     </th>     <td> </td>   \n",
       "</tr>\n",
       "<tr>\n",
       "  <th>Covariance Type:</th>      <td>nonrobust</td>    <th>                     </th>     <td> </td>   \n",
       "</tr>\n",
       "</table>\n",
       "<table class=\"simpletable\">\n",
       "<tr>\n",
       "                         <td></td>                           <th>coef</th>     <th>std err</th>      <th>t</th>      <th>P>|t|</th>  <th>[0.025</th>    <th>0.975]</th>  \n",
       "</tr>\n",
       "<tr>\n",
       "  <th>Intercept</th>                                      <td>   45.0000</td> <td>   11.837</td> <td>    3.802</td> <td> 0.000</td> <td>   21.736</td> <td>   68.264</td>\n",
       "</tr>\n",
       "<tr>\n",
       "  <th>energy_binned[T.2]</th>                             <td>   16.0000</td> <td>   20.503</td> <td>    0.780</td> <td> 0.436</td> <td>  -24.294</td> <td>   56.294</td>\n",
       "</tr>\n",
       "<tr>\n",
       "  <th>energy_binned[T.3]</th>                             <td>   31.0000</td> <td>   20.503</td> <td>    1.512</td> <td> 0.131</td> <td>   -9.294</td> <td>   71.294</td>\n",
       "</tr>\n",
       "<tr>\n",
       "  <th>energy_binned[T.4]</th>                             <td>   24.6000</td> <td>   14.006</td> <td>    1.756</td> <td> 0.080</td> <td>   -2.926</td> <td>   52.126</td>\n",
       "</tr>\n",
       "<tr>\n",
       "  <th>energy_binned[T.5]</th>                             <td>   21.2857</td> <td>   13.422</td> <td>    1.586</td> <td> 0.113</td> <td>   -5.093</td> <td>   47.664</td>\n",
       "</tr>\n",
       "<tr>\n",
       "  <th>energy_binned[T.6]</th>                             <td>   35.8889</td> <td>   13.087</td> <td>    2.742</td> <td> 0.006</td> <td>   10.170</td> <td>   61.608</td>\n",
       "</tr>\n",
       "<tr>\n",
       "  <th>energy_binned[T.7]</th>                             <td>   30.0357</td> <td>   12.253</td> <td>    2.451</td> <td> 0.015</td> <td>    5.956</td> <td>   54.116</td>\n",
       "</tr>\n",
       "<tr>\n",
       "  <th>energy_binned[T.8]</th>                             <td>   31.6500</td> <td>   12.415</td> <td>    2.549</td> <td> 0.011</td> <td>    7.251</td> <td>   56.049</td>\n",
       "</tr>\n",
       "<tr>\n",
       "  <th>energy_binned[T.9]</th>                             <td>   33.7500</td> <td>   13.235</td> <td>    2.550</td> <td> 0.011</td> <td>    7.741</td> <td>   59.759</td>\n",
       "</tr>\n",
       "<tr>\n",
       "  <th>energy_binned[T.10]</th>                            <td>   35.0000</td> <td>   16.741</td> <td>    2.091</td> <td> 0.037</td> <td>    2.100</td> <td>   67.900</td>\n",
       "</tr>\n",
       "<tr>\n",
       "  <th>C(country)[T.australia]</th>                        <td>    2.5502</td> <td>    4.243</td> <td>    0.601</td> <td> 0.548</td> <td>   -5.788</td> <td>   10.888</td>\n",
       "</tr>\n",
       "<tr>\n",
       "  <th>C(country)[T.brazil]</th>                           <td>   -5.3671</td> <td>    3.898</td> <td>   -1.377</td> <td> 0.169</td> <td>  -13.028</td> <td>    2.294</td>\n",
       "</tr>\n",
       "<tr>\n",
       "  <th>C(country)[T.philippies]</th>                       <td>   -1.5000</td> <td>   16.741</td> <td>   -0.090</td> <td> 0.929</td> <td>  -34.400</td> <td>   31.400</td>\n",
       "</tr>\n",
       "<tr>\n",
       "  <th>C(country)[T.romania]</th>                          <td>   44.0000</td> <td>   20.503</td> <td>    2.146</td> <td> 0.032</td> <td>    3.706</td> <td>   84.294</td>\n",
       "</tr>\n",
       "<tr>\n",
       "  <th>C(country)[T.south_africa]</th>                     <td>   44.0000</td> <td>   20.503</td> <td>    2.146</td> <td> 0.032</td> <td>    3.706</td> <td>   84.294</td>\n",
       "</tr>\n",
       "<tr>\n",
       "  <th>energy_binned[T.2]:C(country)[T.australia]</th>     <td>    8.4498</td> <td>   21.306</td> <td>    0.397</td> <td> 0.692</td> <td>  -33.422</td> <td>   50.321</td>\n",
       "</tr>\n",
       "<tr>\n",
       "  <th>energy_binned[T.3]:C(country)[T.australia]</th>     <td>   -6.5502</td> <td>   21.306</td> <td>   -0.307</td> <td> 0.759</td> <td>  -48.422</td> <td>   35.321</td>\n",
       "</tr>\n",
       "<tr>\n",
       "  <th>energy_binned[T.4]:C(country)[T.australia]</th>     <td>    4.2498</td> <td>    9.132</td> <td>    0.465</td> <td> 0.642</td> <td>  -13.697</td> <td>   22.196</td>\n",
       "</tr>\n",
       "<tr>\n",
       "  <th>energy_binned[T.5]:C(country)[T.australia]</th>     <td>    9.0807</td> <td>    8.204</td> <td>    1.107</td> <td> 0.269</td> <td>   -7.042</td> <td>   25.203</td>\n",
       "</tr>\n",
       "<tr>\n",
       "  <th>energy_binned[T.6]:C(country)[T.australia]</th>     <td>   -4.1664</td> <td>    7.876</td> <td>   -0.529</td> <td> 0.597</td> <td>  -19.645</td> <td>   11.312</td>\n",
       "</tr>\n",
       "<tr>\n",
       "  <th>energy_binned[T.7]:C(country)[T.australia]</th>     <td>    0.8371</td> <td>    5.845</td> <td>    0.143</td> <td> 0.886</td> <td>  -10.650</td> <td>   12.325</td>\n",
       "</tr>\n",
       "<tr>\n",
       "  <th>energy_binned[T.8]:C(country)[T.australia]</th>     <td>   -6.3002</td> <td>    7.120</td> <td>   -0.885</td> <td> 0.377</td> <td>  -20.293</td> <td>    7.692</td>\n",
       "</tr>\n",
       "<tr>\n",
       "  <th>energy_binned[T.9]:C(country)[T.australia]</th>     <td>   -3.0502</td> <td>    8.514</td> <td>   -0.358</td> <td> 0.720</td> <td>  -19.783</td> <td>   13.682</td>\n",
       "</tr>\n",
       "<tr>\n",
       "  <th>energy_binned[T.10]:C(country)[T.australia]</th>    <td>-1.458e-14</td> <td> 2.18e-14</td> <td>   -0.669</td> <td> 0.504</td> <td>-5.74e-14</td> <td> 2.82e-14</td>\n",
       "</tr>\n",
       "<tr>\n",
       "  <th>energy_binned[T.2]:C(country)[T.brazil]</th>        <td>   -7.6329</td> <td>   21.531</td> <td>   -0.355</td> <td> 0.723</td> <td>  -49.947</td> <td>   34.681</td>\n",
       "</tr>\n",
       "<tr>\n",
       "  <th>energy_binned[T.3]:C(country)[T.brazil]</th>        <td>   -9.6329</td> <td>   18.748</td> <td>   -0.514</td> <td> 0.608</td> <td>  -46.478</td> <td>   27.212</td>\n",
       "</tr>\n",
       "<tr>\n",
       "  <th>energy_binned[T.4]:C(country)[T.brazil]</th>        <td>   10.7671</td> <td>   10.774</td> <td>    0.999</td> <td> 0.318</td> <td>  -10.407</td> <td>   31.941</td>\n",
       "</tr>\n",
       "<tr>\n",
       "  <th>energy_binned[T.5]:C(country)[T.brazil]</th>        <td>   11.6529</td> <td>    8.902</td> <td>    1.309</td> <td> 0.191</td> <td>   -5.843</td> <td>   29.148</td>\n",
       "</tr>\n",
       "<tr>\n",
       "  <th>energy_binned[T.6]:C(country)[T.brazil]</th>        <td>   -5.9064</td> <td>    7.573</td> <td>   -0.780</td> <td> 0.436</td> <td>  -20.790</td> <td>    8.977</td>\n",
       "</tr>\n",
       "<tr>\n",
       "  <th>energy_binned[T.7]:C(country)[T.brazil]</th>        <td>    1.4314</td> <td>    5.866</td> <td>    0.244</td> <td> 0.807</td> <td>  -10.097</td> <td>   12.960</td>\n",
       "</tr>\n",
       "<tr>\n",
       "  <th>energy_binned[T.8]:C(country)[T.brazil]</th>        <td>    4.0248</td> <td>    6.607</td> <td>    0.609</td> <td> 0.543</td> <td>   -8.960</td> <td>   17.009</td>\n",
       "</tr>\n",
       "<tr>\n",
       "  <th>energy_binned[T.9]:C(country)[T.brazil]</th>        <td>   -1.8829</td> <td>    7.378</td> <td>   -0.255</td> <td> 0.799</td> <td>  -16.382</td> <td>   12.616</td>\n",
       "</tr>\n",
       "<tr>\n",
       "  <th>energy_binned[T.10]:C(country)[T.brazil]</th>       <td>   -8.1884</td> <td>   12.337</td> <td>   -0.664</td> <td> 0.507</td> <td>  -32.434</td> <td>   16.057</td>\n",
       "</tr>\n",
       "<tr>\n",
       "  <th>energy_binned[T.2]:C(country)[T.philippies]</th>    <td>   17.5000</td> <td>   26.469</td> <td>    0.661</td> <td> 0.509</td> <td>  -34.519</td> <td>   69.519</td>\n",
       "</tr>\n",
       "<tr>\n",
       "  <th>energy_binned[T.3]:C(country)[T.philippies]</th>    <td>  -19.8750</td> <td>   24.403</td> <td>   -0.814</td> <td> 0.416</td> <td>  -67.834</td> <td>   28.084</td>\n",
       "</tr>\n",
       "<tr>\n",
       "  <th>energy_binned[T.4]:C(country)[T.philippies]</th>    <td>   -3.4158</td> <td>   18.736</td> <td>   -0.182</td> <td> 0.855</td> <td>  -40.237</td> <td>   33.406</td>\n",
       "</tr>\n",
       "<tr>\n",
       "  <th>energy_binned[T.5]:C(country)[T.philippies]</th>    <td>    6.9286</td> <td>   18.447</td> <td>    0.376</td> <td> 0.707</td> <td>  -29.325</td> <td>   43.182</td>\n",
       "</tr>\n",
       "<tr>\n",
       "  <th>energy_binned[T.6]:C(country)[T.philippies]</th>    <td>   -6.7735</td> <td>   18.247</td> <td>   -0.371</td> <td> 0.711</td> <td>  -42.633</td> <td>   29.086</td>\n",
       "</tr>\n",
       "<tr>\n",
       "  <th>energy_binned[T.7]:C(country)[T.philippies]</th>    <td>    8.0476</td> <td>   17.709</td> <td>    0.454</td> <td> 0.650</td> <td>  -26.755</td> <td>   42.850</td>\n",
       "</tr>\n",
       "<tr>\n",
       "  <th>energy_binned[T.8]:C(country)[T.philippies]</th>    <td>   -2.1500</td> <td>   18.146</td> <td>   -0.118</td> <td> 0.906</td> <td>  -37.812</td> <td>   33.512</td>\n",
       "</tr>\n",
       "<tr>\n",
       "  <th>energy_binned[T.9]:C(country)[T.philippies]</th>    <td>    2.2500</td> <td>   18.717</td> <td>    0.120</td> <td> 0.904</td> <td>  -34.533</td> <td>   39.033</td>\n",
       "</tr>\n",
       "<tr>\n",
       "  <th>energy_binned[T.10]:C(country)[T.philippies]</th>   <td>-1.007e-14</td> <td> 1.34e-14</td> <td>   -0.750</td> <td> 0.454</td> <td>-3.65e-14</td> <td> 1.63e-14</td>\n",
       "</tr>\n",
       "<tr>\n",
       "  <th>energy_binned[T.2]:C(country)[T.romania]</th>       <td>  -33.0000</td> <td>   31.319</td> <td>   -1.054</td> <td> 0.293</td> <td>  -94.549</td> <td>   28.549</td>\n",
       "</tr>\n",
       "<tr>\n",
       "  <th>energy_binned[T.3]:C(country)[T.romania]</th>       <td>  -46.6667</td> <td>   28.179</td> <td>   -1.656</td> <td> 0.098</td> <td> -102.045</td> <td>    8.712</td>\n",
       "</tr>\n",
       "<tr>\n",
       "  <th>energy_binned[T.4]:C(country)[T.romania]</th>       <td>  -36.2000</td> <td>   23.075</td> <td>   -1.569</td> <td> 0.117</td> <td>  -81.549</td> <td>    9.149</td>\n",
       "</tr>\n",
       "<tr>\n",
       "  <th>energy_binned[T.5]:C(country)[T.romania]</th>       <td>  -32.7024</td> <td>   21.995</td> <td>   -1.487</td> <td> 0.138</td> <td>  -75.927</td> <td>   10.523</td>\n",
       "</tr>\n",
       "<tr>\n",
       "  <th>energy_binned[T.6]:C(country)[T.romania]</th>       <td>  -54.8175</td> <td>   21.715</td> <td>   -2.524</td> <td> 0.012</td> <td>  -97.492</td> <td>  -12.143</td>\n",
       "</tr>\n",
       "<tr>\n",
       "  <th>energy_binned[T.7]:C(country)[T.romania]</th>       <td>  -45.6548</td> <td>   21.065</td> <td>   -2.167</td> <td> 0.031</td> <td>  -87.052</td> <td>   -4.257</td>\n",
       "</tr>\n",
       "<tr>\n",
       "  <th>energy_binned[T.8]:C(country)[T.romania]</th>       <td>  -55.3167</td> <td>   21.395</td> <td>   -2.586</td> <td> 0.010</td> <td>  -97.363</td> <td>  -13.270</td>\n",
       "</tr>\n",
       "<tr>\n",
       "  <th>energy_binned[T.9]:C(country)[T.romania]</th>       <td>  -38.7500</td> <td>   21.987</td> <td>   -1.762</td> <td> 0.079</td> <td>  -81.960</td> <td>    4.460</td>\n",
       "</tr>\n",
       "<tr>\n",
       "  <th>energy_binned[T.10]:C(country)[T.romania]</th>      <td>  -79.5000</td> <td>   26.469</td> <td>   -3.003</td> <td> 0.003</td> <td> -131.519</td> <td>  -27.481</td>\n",
       "</tr>\n",
       "<tr>\n",
       "  <th>energy_binned[T.2]:C(country)[T.south_africa]</th>  <td>  -33.0000</td> <td>   31.319</td> <td>   -1.054</td> <td> 0.293</td> <td>  -94.549</td> <td>   28.549</td>\n",
       "</tr>\n",
       "<tr>\n",
       "  <th>energy_binned[T.3]:C(country)[T.south_africa]</th>  <td>  -39.0000</td> <td>   28.996</td> <td>   -1.345</td> <td> 0.179</td> <td>  -95.984</td> <td>   17.984</td>\n",
       "</tr>\n",
       "<tr>\n",
       "  <th>energy_binned[T.4]:C(country)[T.south_africa]</th>  <td>  -30.7250</td> <td>   22.615</td> <td>   -1.359</td> <td> 0.175</td> <td>  -75.170</td> <td>   13.720</td>\n",
       "</tr>\n",
       "<tr>\n",
       "  <th>energy_binned[T.5]:C(country)[T.south_africa]</th>  <td>  -40.2143</td> <td>   21.919</td> <td>   -1.835</td> <td> 0.067</td> <td>  -83.290</td> <td>    2.861</td>\n",
       "</tr>\n",
       "<tr>\n",
       "  <th>energy_binned[T.6]:C(country)[T.south_africa]</th>  <td>  -51.6032</td> <td>   21.715</td> <td>   -2.376</td> <td> 0.018</td> <td>  -94.278</td> <td>   -8.928</td>\n",
       "</tr>\n",
       "<tr>\n",
       "  <th>energy_binned[T.7]:C(country)[T.south_africa]</th>  <td>  -43.9405</td> <td>   21.065</td> <td>   -2.086</td> <td> 0.038</td> <td>  -85.338</td> <td>   -2.543</td>\n",
       "</tr>\n",
       "<tr>\n",
       "  <th>energy_binned[T.8]:C(country)[T.south_africa]</th>  <td>  -62.4833</td> <td>   21.395</td> <td>   -2.920</td> <td> 0.004</td> <td> -104.530</td> <td>  -20.437</td>\n",
       "</tr>\n",
       "<tr>\n",
       "  <th>energy_binned[T.9]:C(country)[T.south_africa]</th>  <td>  -63.7500</td> <td>   21.929</td> <td>   -2.907</td> <td> 0.004</td> <td> -106.846</td> <td>  -20.654</td>\n",
       "</tr>\n",
       "<tr>\n",
       "  <th>energy_binned[T.10]:C(country)[T.south_africa]</th> <td>  -80.0000</td> <td>   25.572</td> <td>   -3.128</td> <td> 0.002</td> <td> -130.255</td> <td>  -29.745</td>\n",
       "</tr>\n",
       "</table>\n",
       "<table class=\"simpletable\">\n",
       "<tr>\n",
       "  <th>Omnibus:</th>       <td>61.522</td> <th>  Durbin-Watson:     </th> <td>   1.506</td>\n",
       "</tr>\n",
       "<tr>\n",
       "  <th>Prob(Omnibus):</th> <td> 0.000</td> <th>  Jarque-Bera (JB):  </th> <td>  85.484</td>\n",
       "</tr>\n",
       "<tr>\n",
       "  <th>Skew:</th>          <td>-0.863</td> <th>  Prob(JB):          </th> <td>2.74e-19</td>\n",
       "</tr>\n",
       "<tr>\n",
       "  <th>Kurtosis:</th>      <td> 4.041</td> <th>  Cond. No.          </th> <td>1.15e+16</td>\n",
       "</tr>\n",
       "</table><br/><br/>Warnings:<br/>[1] Standard Errors assume that the covariance matrix of the errors is correctly specified.<br/>[2] The smallest eigenvalue is 5.04e-30. This might indicate that there are<br/>strong multicollinearity problems or that the design matrix is singular."
      ],
      "text/plain": [
       "<class 'statsmodels.iolib.summary.Summary'>\n",
       "\"\"\"\n",
       "                            OLS Regression Results                            \n",
       "==============================================================================\n",
       "Dep. Variable:             popularity   R-squared:                       0.176\n",
       "Model:                            OLS   Adj. R-squared:                  0.075\n",
       "Method:                 Least Squares   F-statistic:                     1.738\n",
       "Date:                Mon, 15 Jul 2019   Prob (F-statistic):            0.00141\n",
       "Time:                        17:04:09   Log-Likelihood:                -2109.9\n",
       "No. Observations:                 505   AIC:                             4332.\n",
       "Df Residuals:                     449   BIC:                             4568.\n",
       "Df Model:                          55                                         \n",
       "Covariance Type:            nonrobust                                         \n",
       "==================================================================================================================\n",
       "                                                     coef    std err          t      P>|t|      [0.025      0.975]\n",
       "------------------------------------------------------------------------------------------------------------------\n",
       "Intercept                                         45.0000     11.837      3.802      0.000      21.736      68.264\n",
       "energy_binned[T.2]                                16.0000     20.503      0.780      0.436     -24.294      56.294\n",
       "energy_binned[T.3]                                31.0000     20.503      1.512      0.131      -9.294      71.294\n",
       "energy_binned[T.4]                                24.6000     14.006      1.756      0.080      -2.926      52.126\n",
       "energy_binned[T.5]                                21.2857     13.422      1.586      0.113      -5.093      47.664\n",
       "energy_binned[T.6]                                35.8889     13.087      2.742      0.006      10.170      61.608\n",
       "energy_binned[T.7]                                30.0357     12.253      2.451      0.015       5.956      54.116\n",
       "energy_binned[T.8]                                31.6500     12.415      2.549      0.011       7.251      56.049\n",
       "energy_binned[T.9]                                33.7500     13.235      2.550      0.011       7.741      59.759\n",
       "energy_binned[T.10]                               35.0000     16.741      2.091      0.037       2.100      67.900\n",
       "C(country)[T.australia]                            2.5502      4.243      0.601      0.548      -5.788      10.888\n",
       "C(country)[T.brazil]                              -5.3671      3.898     -1.377      0.169     -13.028       2.294\n",
       "C(country)[T.philippies]                          -1.5000     16.741     -0.090      0.929     -34.400      31.400\n",
       "C(country)[T.romania]                             44.0000     20.503      2.146      0.032       3.706      84.294\n",
       "C(country)[T.south_africa]                        44.0000     20.503      2.146      0.032       3.706      84.294\n",
       "energy_binned[T.2]:C(country)[T.australia]         8.4498     21.306      0.397      0.692     -33.422      50.321\n",
       "energy_binned[T.3]:C(country)[T.australia]        -6.5502     21.306     -0.307      0.759     -48.422      35.321\n",
       "energy_binned[T.4]:C(country)[T.australia]         4.2498      9.132      0.465      0.642     -13.697      22.196\n",
       "energy_binned[T.5]:C(country)[T.australia]         9.0807      8.204      1.107      0.269      -7.042      25.203\n",
       "energy_binned[T.6]:C(country)[T.australia]        -4.1664      7.876     -0.529      0.597     -19.645      11.312\n",
       "energy_binned[T.7]:C(country)[T.australia]         0.8371      5.845      0.143      0.886     -10.650      12.325\n",
       "energy_binned[T.8]:C(country)[T.australia]        -6.3002      7.120     -0.885      0.377     -20.293       7.692\n",
       "energy_binned[T.9]:C(country)[T.australia]        -3.0502      8.514     -0.358      0.720     -19.783      13.682\n",
       "energy_binned[T.10]:C(country)[T.australia]    -1.458e-14   2.18e-14     -0.669      0.504   -5.74e-14    2.82e-14\n",
       "energy_binned[T.2]:C(country)[T.brazil]           -7.6329     21.531     -0.355      0.723     -49.947      34.681\n",
       "energy_binned[T.3]:C(country)[T.brazil]           -9.6329     18.748     -0.514      0.608     -46.478      27.212\n",
       "energy_binned[T.4]:C(country)[T.brazil]           10.7671     10.774      0.999      0.318     -10.407      31.941\n",
       "energy_binned[T.5]:C(country)[T.brazil]           11.6529      8.902      1.309      0.191      -5.843      29.148\n",
       "energy_binned[T.6]:C(country)[T.brazil]           -5.9064      7.573     -0.780      0.436     -20.790       8.977\n",
       "energy_binned[T.7]:C(country)[T.brazil]            1.4314      5.866      0.244      0.807     -10.097      12.960\n",
       "energy_binned[T.8]:C(country)[T.brazil]            4.0248      6.607      0.609      0.543      -8.960      17.009\n",
       "energy_binned[T.9]:C(country)[T.brazil]           -1.8829      7.378     -0.255      0.799     -16.382      12.616\n",
       "energy_binned[T.10]:C(country)[T.brazil]          -8.1884     12.337     -0.664      0.507     -32.434      16.057\n",
       "energy_binned[T.2]:C(country)[T.philippies]       17.5000     26.469      0.661      0.509     -34.519      69.519\n",
       "energy_binned[T.3]:C(country)[T.philippies]      -19.8750     24.403     -0.814      0.416     -67.834      28.084\n",
       "energy_binned[T.4]:C(country)[T.philippies]       -3.4158     18.736     -0.182      0.855     -40.237      33.406\n",
       "energy_binned[T.5]:C(country)[T.philippies]        6.9286     18.447      0.376      0.707     -29.325      43.182\n",
       "energy_binned[T.6]:C(country)[T.philippies]       -6.7735     18.247     -0.371      0.711     -42.633      29.086\n",
       "energy_binned[T.7]:C(country)[T.philippies]        8.0476     17.709      0.454      0.650     -26.755      42.850\n",
       "energy_binned[T.8]:C(country)[T.philippies]       -2.1500     18.146     -0.118      0.906     -37.812      33.512\n",
       "energy_binned[T.9]:C(country)[T.philippies]        2.2500     18.717      0.120      0.904     -34.533      39.033\n",
       "energy_binned[T.10]:C(country)[T.philippies]   -1.007e-14   1.34e-14     -0.750      0.454   -3.65e-14    1.63e-14\n",
       "energy_binned[T.2]:C(country)[T.romania]         -33.0000     31.319     -1.054      0.293     -94.549      28.549\n",
       "energy_binned[T.3]:C(country)[T.romania]         -46.6667     28.179     -1.656      0.098    -102.045       8.712\n",
       "energy_binned[T.4]:C(country)[T.romania]         -36.2000     23.075     -1.569      0.117     -81.549       9.149\n",
       "energy_binned[T.5]:C(country)[T.romania]         -32.7024     21.995     -1.487      0.138     -75.927      10.523\n",
       "energy_binned[T.6]:C(country)[T.romania]         -54.8175     21.715     -2.524      0.012     -97.492     -12.143\n",
       "energy_binned[T.7]:C(country)[T.romania]         -45.6548     21.065     -2.167      0.031     -87.052      -4.257\n",
       "energy_binned[T.8]:C(country)[T.romania]         -55.3167     21.395     -2.586      0.010     -97.363     -13.270\n",
       "energy_binned[T.9]:C(country)[T.romania]         -38.7500     21.987     -1.762      0.079     -81.960       4.460\n",
       "energy_binned[T.10]:C(country)[T.romania]        -79.5000     26.469     -3.003      0.003    -131.519     -27.481\n",
       "energy_binned[T.2]:C(country)[T.south_africa]    -33.0000     31.319     -1.054      0.293     -94.549      28.549\n",
       "energy_binned[T.3]:C(country)[T.south_africa]    -39.0000     28.996     -1.345      0.179     -95.984      17.984\n",
       "energy_binned[T.4]:C(country)[T.south_africa]    -30.7250     22.615     -1.359      0.175     -75.170      13.720\n",
       "energy_binned[T.5]:C(country)[T.south_africa]    -40.2143     21.919     -1.835      0.067     -83.290       2.861\n",
       "energy_binned[T.6]:C(country)[T.south_africa]    -51.6032     21.715     -2.376      0.018     -94.278      -8.928\n",
       "energy_binned[T.7]:C(country)[T.south_africa]    -43.9405     21.065     -2.086      0.038     -85.338      -2.543\n",
       "energy_binned[T.8]:C(country)[T.south_africa]    -62.4833     21.395     -2.920      0.004    -104.530     -20.437\n",
       "energy_binned[T.9]:C(country)[T.south_africa]    -63.7500     21.929     -2.907      0.004    -106.846     -20.654\n",
       "energy_binned[T.10]:C(country)[T.south_africa]   -80.0000     25.572     -3.128      0.002    -130.255     -29.745\n",
       "==============================================================================\n",
       "Omnibus:                       61.522   Durbin-Watson:                   1.506\n",
       "Prob(Omnibus):                  0.000   Jarque-Bera (JB):               85.484\n",
       "Skew:                          -0.863   Prob(JB):                     2.74e-19\n",
       "Kurtosis:                       4.041   Cond. No.                     1.15e+16\n",
       "==============================================================================\n",
       "\n",
       "Warnings:\n",
       "[1] Standard Errors assume that the covariance matrix of the errors is correctly specified.\n",
       "[2] The smallest eigenvalue is 5.04e-30. This might indicate that there are\n",
       "strong multicollinearity problems or that the design matrix is singular.\n",
       "\"\"\""
      ]
     },
     "execution_count": 333,
     "metadata": {},
     "output_type": "execute_result"
    }
   ],
   "source": [
    "model3 = ols('popularity~ energy_binned * C(country)', countries_df).fit()\n",
    "print(f\"Overall model F({model3.df_model: .0f},{model3.df_resid: .0f}) = {model3.fvalue: .3f}, p = {model3.f_pvalue: .4f}\")\n",
    "model3.summary()"
   ]
  },
  {
   "cell_type": "code",
   "execution_count": 334,
   "metadata": {},
   "outputs": [
    {
     "data": {
      "text/html": [
       "<div>\n",
       "<style scoped>\n",
       "    .dataframe tbody tr th:only-of-type {\n",
       "        vertical-align: middle;\n",
       "    }\n",
       "\n",
       "    .dataframe tbody tr th {\n",
       "        vertical-align: top;\n",
       "    }\n",
       "\n",
       "    .dataframe thead th {\n",
       "        text-align: right;\n",
       "    }\n",
       "</style>\n",
       "<table border=\"1\" class=\"dataframe\">\n",
       "  <thead>\n",
       "    <tr style=\"text-align: right;\">\n",
       "      <th></th>\n",
       "      <th>df</th>\n",
       "      <th>sum_sq</th>\n",
       "      <th>mean_sq</th>\n",
       "      <th>F</th>\n",
       "      <th>PR(&gt;F)</th>\n",
       "    </tr>\n",
       "  </thead>\n",
       "  <tbody>\n",
       "    <tr>\n",
       "      <th>energy_binned</th>\n",
       "      <td>9.0</td>\n",
       "      <td>6072.078907</td>\n",
       "      <td>674.675434</td>\n",
       "      <td>2.407436</td>\n",
       "      <td>0.011286</td>\n",
       "    </tr>\n",
       "    <tr>\n",
       "      <th>C(country)</th>\n",
       "      <td>5.0</td>\n",
       "      <td>2754.358979</td>\n",
       "      <td>550.871796</td>\n",
       "      <td>1.965669</td>\n",
       "      <td>0.082492</td>\n",
       "    </tr>\n",
       "    <tr>\n",
       "      <th>energy_binned:C(country)</th>\n",
       "      <td>45.0</td>\n",
       "      <td>18086.642630</td>\n",
       "      <td>401.925392</td>\n",
       "      <td>1.434185</td>\n",
       "      <td>0.038344</td>\n",
       "    </tr>\n",
       "    <tr>\n",
       "      <th>Residual</th>\n",
       "      <td>449.0</td>\n",
       "      <td>125830.657899</td>\n",
       "      <td>280.246454</td>\n",
       "      <td>NaN</td>\n",
       "      <td>NaN</td>\n",
       "    </tr>\n",
       "  </tbody>\n",
       "</table>\n",
       "</div>"
      ],
      "text/plain": [
       "                             df         sum_sq     mean_sq         F    PR(>F)\n",
       "energy_binned               9.0    6072.078907  674.675434  2.407436  0.011286\n",
       "C(country)                  5.0    2754.358979  550.871796  1.965669  0.082492\n",
       "energy_binned:C(country)   45.0   18086.642630  401.925392  1.434185  0.038344\n",
       "Residual                  449.0  125830.657899  280.246454       NaN       NaN"
      ]
     },
     "execution_count": 334,
     "metadata": {},
     "output_type": "execute_result"
    }
   ],
   "source": [
    "anova_table2 = sm.stats.anova_lm(model3, type= 2)\n",
    "anova_table2"
   ]
  },
  {
   "cell_type": "code",
   "execution_count": null,
   "metadata": {},
   "outputs": [],
   "source": []
  }
 ],
 "metadata": {
  "kernelspec": {
   "display_name": "Python 3",
   "language": "python",
   "name": "python3"
  },
  "language_info": {
   "codemirror_mode": {
    "name": "ipython",
    "version": 3
   },
   "file_extension": ".py",
   "mimetype": "text/x-python",
   "name": "python",
   "nbconvert_exporter": "python",
   "pygments_lexer": "ipython3",
   "version": "3.7.3"
  }
 },
 "nbformat": 4,
 "nbformat_minor": 2
}
