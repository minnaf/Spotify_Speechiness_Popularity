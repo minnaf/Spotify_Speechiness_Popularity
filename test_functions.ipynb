{
 "cells": [
  {
   "cell_type": "code",
   "execution_count": 4,
   "metadata": {},
   "outputs": [],
   "source": [
    "import minna_functions as mf"
   ]
  },
  {
   "cell_type": "code",
   "execution_count": 5,
   "metadata": {},
   "outputs": [],
   "source": [
    "import pandas as pd\n",
    "import warnings\n",
    "warnings.filterwarnings(\"ignore\")"
   ]
  },
  {
   "cell_type": "code",
   "execution_count": 3,
   "metadata": {},
   "outputs": [],
   "source": [
    "# import sqlite3\n",
    "# conn = sqlite3.connect('spotify.db')\n",
    "# c = conn.cursor()"
   ]
  },
  {
   "cell_type": "markdown",
   "metadata": {},
   "source": [
    "Connect to Database:"
   ]
  },
  {
   "cell_type": "code",
   "execution_count": 46,
   "metadata": {},
   "outputs": [],
   "source": [
    "#make sure to get new token if running code \n",
    "get_playlist = mf.get_spotify_playlist('BQBdGVH3K2jwCqtP-Sn5pOD2PO-UnstxNPMAIVOBqJKY7ZJ-IeTgY-ZjlRQmB8DOhHMbFdEULn3gRLRg33T7Mi_BcpqFqjM_YESqSoriZ-nhSCfRDwPfcopx2_QahfdWe1YWk-ozixOfUaetVxs')"
   ]
  },
  {
   "cell_type": "markdown",
   "metadata": {},
   "source": [
    "Retrieve data for every playlist we want to look at and put it into SQL table:"
   ]
  },
  {
   "cell_type": "code",
   "execution_count": 228,
   "metadata": {
    "scrolled": true
   },
   "outputs": [],
   "source": [
    "#pop hits data\n",
    "get_playlist.get_playlist_SQL('37i9dQZF1DX92MLsP3K1fI', 'pop_hits') \n",
    "get_playlist.get_playlist_SQL('5TDtuKDbOhrfW7C58XnriZ', 'pop_hits')\n",
    "get_playlist.get_playlist_SQL('37i9dQZF1DXcBWIGoYBM5M', 'pop_hits')\n",
    "get_playlist.get_playlist_SQL('37i9dQZF1DWUa8ZRTfalHk', 'pop_hits')\n",
    "get_playlist.get_playlist_SQL('6pv75Rri5UysKxaiMySlh5', 'pop_hits') #pop playlist\n",
    "get_playlist.get_playlist_SQL('6e57PJUvtzv8UQlPoEbEGm', 'pop_hits') #poppin\n",
    "get_playlist.get_playlist_SQL('10P3hE599XmLaUK7nPSE27', 'pop_hits') #pop party: all albums\n",
    "get_playlist.get_playlist_SQL('7JaAxxZGUiXIf5rL2acDWm', 'pop_hits') #positive pop\n",
    "get_playlist.get_playlist_SQL('6Mc2W56Tx1xN1p3g7momll', 'pop_hits') #rock y pop del viejo\n",
    "get_playlist.get_playlist_SQL('40yeB21DbTjUS2mAlGO2Ax', 'pop_hits') #teen pop late 90s early 00s"
   ]
  },
  {
   "cell_type": "code",
   "execution_count": 229,
   "metadata": {},
   "outputs": [],
   "source": [
    "#rap data\n",
    "get_playlist.get_playlist_SQL('37i9dQZF1DX0XUsuxWHRQd', 'rap_hits') #rap caviar\n",
    "get_playlist.get_playlist_SQL('5KR0bQIR4BqsgBzV2N54wm', 'rap_hits') #top hip hop\n",
    "get_playlist.get_playlist_SQL('2G2zkK3cBVXB1jSsDMQSk3', 'rap_hits') # top rap hits 2019\n",
    "get_playlist.get_playlist_SQL('37i9dQZF1DX2RxBh64BHjQ', 'rap_hits') #most necessary\n",
    "get_playlist.get_playlist_SQL('37i9dQZF1DWUFmyho2wkQU', 'rap_hits') #hip hop drive\n",
    "get_playlist.get_playlist_SQL('37i9dQZF1DX14EWeH2Pwf3', 'rap_hits') #rap itali: battle royale\n",
    "get_playlist.get_playlist_SQL('37i9dQZF1DX76t638V6CA8', 'rap_hits') #rap workout\n",
    "get_playlist.get_playlist_SQL('0zysvwomOYS5M1ceyE1rB7', 'rap_hits') #rap essentials\n",
    "get_playlist.get_playlist_SQL('4Ao85ZB0F474SYUelDH1Xi', 'rap_hits') #sad rap\n",
    "get_playlist.get_playlist_SQL('37i9dQZF1DX5jNEiuvPyWr', 'rap_hits') #cloud rap"
   ]
  },
  {
   "cell_type": "code",
   "execution_count": 230,
   "metadata": {},
   "outputs": [],
   "source": [
    "#country data\n",
    "get_playlist.get_playlist_SQL('37i9dQZF1DX1lVhptIYRda', 'country_hits') #hot country\n",
    "get_playlist.get_playlist_SQL('37i9dQZF1DX8S0uQvJ4gaa', 'country_hits') #new boots\n",
    "get_playlist.get_playlist_SQL('37i9dQZF1DX5mB2C8gBeUM', 'country_hits') #wild country\n",
    "get_playlist.get_playlist_SQL('37i9dQZF1DWYnwbYQ5HnZU', 'country_hits') #country gold\n",
    "get_playlist.get_playlist_SQL('37i9dQZF1DX8WMG8VPSOJC', 'country_hits') #country kind of love\n",
    "get_playlist.get_playlist_SQL('37i9dQZF1DWYiR2Uqcon0X', 'country_hits') #country coffeehouse\n",
    "get_playlist.get_playlist_SQL('37i9dQZF1DX13ZzXoot6Jc', 'country_hits') #country favorites\n",
    "get_playlist.get_playlist_SQL('37i9dQZF1DWYubIwLN4Hq2', 'country_hits') #country parts\n",
    "get_playlist.get_playlist_SQL('4SssSas9VvpPXlMCWXnu91', 'country_hits') #country love songs\n",
    "get_playlist.get_playlist_SQL('37i9dQZF1DWSttCmn8GHUg', 'country_hits') #country music 101: god bless the USA\n",
    "get_playlist.get_playlist_SQL('37i9dQZF1DWTkxQvqMy4WW', 'country_hits') #chillin on a dirt road"
   ]
  },
  {
   "cell_type": "code",
   "execution_count": 231,
   "metadata": {},
   "outputs": [],
   "source": [
    "#jazz data \n",
    "get_playlist.get_playlist_SQL('37i9dQZF1DXbITWG1ZJKYt', 'jazz_hits') #jazz classics\n",
    "get_playlist.get_playlist_SQL('37i9dQZF1DX0SM0LYsmbMT', 'jazz_hits') #jazz vibes\n",
    "get_playlist.get_playlist_SQL('0pYnghexkCjipMVbXSiyOb', 'jazz_hits') #Top Jazz hits\n",
    "get_playlist.get_playlist_SQL('37i9dQZF1DWTALrdBtcXjw', 'jazz_hits') #jazzy dinner\n",
    "get_playlist.get_playlist_SQL('37i9dQZF1DXbOVU4mpMJjh', 'jazz_hits') #jazz relax\n",
    "get_playlist.get_playlist_SQL('37i9dQZF1DWTsUzn4pp2rW', 'jazz_hits') #jazz pop\n",
    "get_playlist.get_playlist_SQL('37i9dQZF1DX2mmt7R81K2b', 'jazz_hits') #jazz-- classical crossings\n",
    "get_playlist.get_playlist_SQL('37i9dQZF1DWVqfgj8NZEp1', 'jazz_hits') #coffee table jazz\n",
    "get_playlist.get_playlist_SQL('37i9dQZF1DX4wta20PHgwo', 'jazz_hits') #late night jazz\n",
    "get_playlist.get_playlist_SQL('37i9dQZF1DWTR4ZOXTfd9K', 'jazz_hits') #jazz classic blue\n",
    "get_playlist.get_playlist_SQL('37i9dQZF1DXdwTUxmGKrdN', 'jazz_hits') #smooth jazz"
   ]
  },
  {
   "cell_type": "markdown",
   "metadata": {},
   "source": [
    "Convert SQL database to a pandas dataframe:"
   ]
  },
  {
   "cell_type": "code",
   "execution_count": 11,
   "metadata": {},
   "outputs": [],
   "source": [
    "df_pop = get_playlist.SQL_to_dataframe('pop_hits')\n",
    "df_rap = get_playlist.SQL_to_dataframe('rap_hits')\n",
    "df_country = get_playlist.SQL_to_dataframe('country_hits')\n",
    "df_jazz = get_playlist.SQL_to_dataframe('jazz_hits')"
   ]
  },
  {
   "cell_type": "markdown",
   "metadata": {},
   "source": [
    "Retrive audio feature information from each song in the playlist: "
   ]
  },
  {
   "cell_type": "code",
   "execution_count": 12,
   "metadata": {},
   "outputs": [],
   "source": [
    "df_pop = get_playlist.song_audio_features(df_pop, 'pop_hits')\n",
    "df_rap = get_playlist.song_audio_features(df_rap, 'rap_hits')\n",
    "df_country = get_playlist.song_audio_features(df_country, 'country_hits')\n",
    "df_jazz = get_playlist.song_audio_features(df_jazz, 'jazz_hits')"
   ]
  },
  {
   "cell_type": "markdown",
   "metadata": {},
   "source": [
    "Make a new column for our genres:"
   ]
  },
  {
   "cell_type": "code",
   "execution_count": 13,
   "metadata": {
    "scrolled": true
   },
   "outputs": [],
   "source": [
    "df_pop['genre'] = 'pop'\n",
    "df_rap['genre'] = 'rap'\n",
    "df_country['genre'] = 'country'\n",
    "df_jazz['genre'] = 'jazz'"
   ]
  },
  {
   "cell_type": "markdown",
   "metadata": {},
   "source": [
    "combine all data frames and remove null values:"
   ]
  },
  {
   "cell_type": "code",
   "execution_count": 14,
   "metadata": {
    "scrolled": true
   },
   "outputs": [
    {
     "data": {
      "text/plain": [
       "2583"
      ]
     },
     "execution_count": 14,
     "metadata": {},
     "output_type": "execute_result"
    }
   ],
   "source": [
    "frames = [df_pop, df_rap, df_country, df_jazz]\n",
    "total_df = pd.concat(frames)\n",
    "total_df.groupby('genre').mean()\n",
    "len(total_df)"
   ]
  },
  {
   "cell_type": "code",
   "execution_count": 15,
   "metadata": {},
   "outputs": [],
   "source": [
    "total_df['speechiness_binned'] = pd.cut(total_df['speechiness'], bins = 10, labels= ['1','2','3','4','5','6','7','8','9', '10'])\n",
    "total_df['speechiness_binned']=total_df['speechiness_binned'].astype('category')"
   ]
  },
  {
   "cell_type": "code",
   "execution_count": 16,
   "metadata": {},
   "outputs": [
    {
     "data": {
      "text/html": [
       "<div>\n",
       "<style scoped>\n",
       "    .dataframe tbody tr th:only-of-type {\n",
       "        vertical-align: middle;\n",
       "    }\n",
       "\n",
       "    .dataframe tbody tr th {\n",
       "        vertical-align: top;\n",
       "    }\n",
       "\n",
       "    .dataframe thead th {\n",
       "        text-align: right;\n",
       "    }\n",
       "</style>\n",
       "<table border=\"1\" class=\"dataframe\">\n",
       "  <thead>\n",
       "    <tr style=\"text-align: right;\">\n",
       "      <th></th>\n",
       "      <th>song_name</th>\n",
       "      <th>song_id</th>\n",
       "      <th>popularity</th>\n",
       "      <th>artist_name</th>\n",
       "      <th>speechiness</th>\n",
       "      <th>danceability</th>\n",
       "      <th>energy</th>\n",
       "      <th>liveness</th>\n",
       "      <th>valence</th>\n",
       "      <th>genre</th>\n",
       "      <th>speechiness_binned</th>\n",
       "    </tr>\n",
       "    <tr>\n",
       "      <th>index</th>\n",
       "      <th></th>\n",
       "      <th></th>\n",
       "      <th></th>\n",
       "      <th></th>\n",
       "      <th></th>\n",
       "      <th></th>\n",
       "      <th></th>\n",
       "      <th></th>\n",
       "      <th></th>\n",
       "      <th></th>\n",
       "      <th></th>\n",
       "    </tr>\n",
       "  </thead>\n",
       "  <tbody>\n",
       "    <tr>\n",
       "      <th>1</th>\n",
       "      <td>Sucker</td>\n",
       "      <td>4y3OI86AEP6PQoDE6olYhO</td>\n",
       "      <td>90</td>\n",
       "      <td>Jonas Brothers</td>\n",
       "      <td>0.0588</td>\n",
       "      <td>0.842</td>\n",
       "      <td>0.734</td>\n",
       "      <td>0.1060</td>\n",
       "      <td>0.952</td>\n",
       "      <td>pop</td>\n",
       "      <td>1</td>\n",
       "    </tr>\n",
       "    <tr>\n",
       "      <th>2</th>\n",
       "      <td>Never Really Over</td>\n",
       "      <td>5PYQUBXc7NYeI1obMKSJK0</td>\n",
       "      <td>91</td>\n",
       "      <td>Katy Perry</td>\n",
       "      <td>0.0602</td>\n",
       "      <td>0.770</td>\n",
       "      <td>0.882</td>\n",
       "      <td>0.3160</td>\n",
       "      <td>0.385</td>\n",
       "      <td>pop</td>\n",
       "      <td>1</td>\n",
       "    </tr>\n",
       "    <tr>\n",
       "      <th>3</th>\n",
       "      <td>Old Town Road - Remix</td>\n",
       "      <td>6u7jPi22kF8CTQ3rb9DHE7</td>\n",
       "      <td>96</td>\n",
       "      <td>Lil Nas X</td>\n",
       "      <td>0.1020</td>\n",
       "      <td>0.878</td>\n",
       "      <td>0.619</td>\n",
       "      <td>0.1130</td>\n",
       "      <td>0.639</td>\n",
       "      <td>pop</td>\n",
       "      <td>2</td>\n",
       "    </tr>\n",
       "    <tr>\n",
       "      <th>4</th>\n",
       "      <td>bad guy (with Justin Bieber)</td>\n",
       "      <td>3yNZ5r3LKfdmjoS3gkhUCT</td>\n",
       "      <td>80</td>\n",
       "      <td>Billie Eilish</td>\n",
       "      <td>0.2950</td>\n",
       "      <td>0.670</td>\n",
       "      <td>0.453</td>\n",
       "      <td>0.1170</td>\n",
       "      <td>0.680</td>\n",
       "      <td>pop</td>\n",
       "      <td>6</td>\n",
       "    </tr>\n",
       "    <tr>\n",
       "      <th>5</th>\n",
       "      <td>I Don't Care (with Justin Bieber)</td>\n",
       "      <td>3HVWdVOQ0ZA45FuZGSfvns</td>\n",
       "      <td>98</td>\n",
       "      <td>Ed Sheeran</td>\n",
       "      <td>0.0442</td>\n",
       "      <td>0.798</td>\n",
       "      <td>0.675</td>\n",
       "      <td>0.0894</td>\n",
       "      <td>0.842</td>\n",
       "      <td>pop</td>\n",
       "      <td>1</td>\n",
       "    </tr>\n",
       "  </tbody>\n",
       "</table>\n",
       "</div>"
      ],
      "text/plain": [
       "                               song_name                 song_id  popularity  \\\n",
       "index                                                                          \n",
       "1                                 Sucker  4y3OI86AEP6PQoDE6olYhO          90   \n",
       "2                      Never Really Over  5PYQUBXc7NYeI1obMKSJK0          91   \n",
       "3                  Old Town Road - Remix  6u7jPi22kF8CTQ3rb9DHE7          96   \n",
       "4           bad guy (with Justin Bieber)  3yNZ5r3LKfdmjoS3gkhUCT          80   \n",
       "5      I Don't Care (with Justin Bieber)  3HVWdVOQ0ZA45FuZGSfvns          98   \n",
       "\n",
       "          artist_name  speechiness  danceability  energy  liveness  valence  \\\n",
       "index                                                                         \n",
       "1      Jonas Brothers       0.0588         0.842   0.734    0.1060    0.952   \n",
       "2          Katy Perry       0.0602         0.770   0.882    0.3160    0.385   \n",
       "3           Lil Nas X       0.1020         0.878   0.619    0.1130    0.639   \n",
       "4       Billie Eilish       0.2950         0.670   0.453    0.1170    0.680   \n",
       "5          Ed Sheeran       0.0442         0.798   0.675    0.0894    0.842   \n",
       "\n",
       "      genre speechiness_binned  \n",
       "index                           \n",
       "1       pop                  1  \n",
       "2       pop                  1  \n",
       "3       pop                  2  \n",
       "4       pop                  6  \n",
       "5       pop                  1  "
      ]
     },
     "execution_count": 16,
     "metadata": {},
     "output_type": "execute_result"
    }
   ],
   "source": [
    "total_df.dropna(axis=0, inplace = True)\n",
    "total_df.head()"
   ]
  },
  {
   "cell_type": "markdown",
   "metadata": {},
   "source": [
    "Analyze the data:"
   ]
  },
  {
   "cell_type": "code",
   "execution_count": 17,
   "metadata": {},
   "outputs": [],
   "source": [
    "import seaborn as sns\n",
    "import matplotlib.pyplot as plt\n",
    "import numpy as np\n",
    "sns.set()\n",
    "%matplotlib inline"
   ]
  },
  {
   "cell_type": "code",
   "execution_count": 18,
   "metadata": {},
   "outputs": [],
   "source": [
    "from statsmodels.formula.api import ols\n",
    "from statsmodels.stats.anova import anova_lm\n",
    "import statsmodels.api as sm\n",
    "from scipy import stats"
   ]
  },
  {
   "cell_type": "markdown",
   "metadata": {},
   "source": [
    "check to see distribution of dependent variable (popularity)"
   ]
  },
  {
   "cell_type": "code",
   "execution_count": 19,
   "metadata": {},
   "outputs": [
    {
     "data": {
      "text/plain": [
       "<matplotlib.axes._subplots.AxesSubplot at 0x1c1fd41b38>"
      ]
     },
     "execution_count": 19,
     "metadata": {},
     "output_type": "execute_result"
    },
    {
     "data": {
      "image/png": "[encoded data removed]",
      "text/plain": [
       "<Figure size 432x288 with 1 Axes>"
      ]
     },
     "metadata": {
      "needs_background": "light"
     },
     "output_type": "display_data"
    }
   ],
   "source": [
    "sns.distplot(total_df['popularity'], kde = True)"
   ]
  },
  {
   "cell_type": "markdown",
   "metadata": {},
   "source": [
    "# (A) Does speechiness have an effect on popularity?"
   ]
  },
  {
   "cell_type": "markdown",
   "metadata": {},
   "source": [
    "Visualizing the effects of speechiness on popularity:"
   ]
  },
  {
   "cell_type": "code",
   "execution_count": 20,
   "metadata": {
    "scrolled": true
   },
   "outputs": [
    {
     "data": {
      "text/plain": [
       "Text(0.5, 1.0, 'songs speechiness vs. popularity')"
      ]
     },
     "execution_count": 20,
     "metadata": {},
     "output_type": "execute_result"
    },
    {
     "data": {
      "image/png": "[encoded data removed]",
      "text/plain": [
       "<Figure size 432x288 with 1 Axes>"
      ]
     },
     "metadata": {
      "needs_background": "light"
     },
     "output_type": "display_data"
    }
   ],
   "source": [
    "ax = sns.scatterplot(x=total_df[\"speechiness\"], y=total_df[\"popularity\"], data = total_df)\n",
    "plt.title('songs speechiness vs. popularity')"
   ]
  },
  {
   "cell_type": "code",
   "execution_count": 35,
   "metadata": {},
   "outputs": [
    {
     "name": "stdout",
     "output_type": "stream",
     "text": [
      "R-value = 0.14412568748741614\n",
      "p-value = 0.0029345405599397406\n"
     ]
    }
   ],
   "source": [
    "r, p = stats.pearsonr(total_df[\"speechiness\"], total_df[\"popularity\"])\n",
    "print(f'R-value = {r}') #low r-value; not much correlation\n",
    "print(f'p-value = {p}')"
   ]
  },
  {
   "cell_type": "code",
   "execution_count": 299,
   "metadata": {},
   "outputs": [
    {
     "data": {
      "text/plain": [
       "Text(0.5, 1.0, 'songs genre vs. popularity')"
      ]
     },
     "execution_count": 299,
     "metadata": {},
     "output_type": "execute_result"
    },
    {
     "data": {
      "image/png": "[encoded data removed]",
      "text/plain": [
       "<Figure size 432x288 with 1 Axes>"
      ]
     },
     "metadata": {
      "needs_background": "light"
     },
     "output_type": "display_data"
    }
   ],
   "source": [
    "ax = sns.scatterplot(x=total_df[\"genre\"], y=total_df[\"popularity\"], data = total_df)\n",
    "plt.title('songs genre vs. popularity')"
   ]
  },
  {
   "cell_type": "code",
   "execution_count": 300,
   "metadata": {},
   "outputs": [
    {
     "data": {
      "image/png": "[encoded data removed]",
      "text/plain": [
       "<Figure size 1800x576 with 1 Axes>"
      ]
     },
     "metadata": {
      "needs_background": "light"
     },
     "output_type": "display_data"
    }
   ],
   "source": [
    "palette = ['#f0e594', '#57b884', '#ffab8d', '#f2cbac', '#ff6a9e']\n",
    "plt.figure(figsize=(25,8))\n",
    "ax2 = sns.barplot(x=total_df[\"speechiness_binned\"], y=total_df[\"popularity\"], hue = 'genre', data = total_df, palette = palette)\n",
    "plt.title('speechiness vs. popularity by genre').set_fontsize(20)\n",
    "plt.xlabel('speechiness').set_fontsize(16)\n",
    "plt.ylabel('popularity ranking').set_fontsize(16)"
   ]
  },
  {
   "cell_type": "code",
   "execution_count": 302,
   "metadata": {
    "scrolled": true
   },
   "outputs": [
    {
     "data": {
      "text/html": [
       "<table class=\"simpletable\">\n",
       "<caption>OLS Regression Results</caption>\n",
       "<tr>\n",
       "  <th>Dep. Variable:</th>       <td>popularity</td>    <th>  R-squared:         </th> <td>   0.021</td>\n",
       "</tr>\n",
       "<tr>\n",
       "  <th>Model:</th>                   <td>OLS</td>       <th>  Adj. R-squared:    </th> <td>   0.019</td>\n",
       "</tr>\n",
       "<tr>\n",
       "  <th>Method:</th>             <td>Least Squares</td>  <th>  F-statistic:       </th> <td>   9.049</td>\n",
       "</tr>\n",
       "<tr>\n",
       "  <th>Date:</th>             <td>Mon, 15 Jul 2019</td> <th>  Prob (F-statistic):</th>  <td>0.00279</td>\n",
       "</tr>\n",
       "<tr>\n",
       "  <th>Time:</th>                 <td>16:35:05</td>     <th>  Log-Likelihood:    </th> <td> -1885.4</td>\n",
       "</tr>\n",
       "<tr>\n",
       "  <th>No. Observations:</th>      <td>   423</td>      <th>  AIC:               </th> <td>   3775.</td>\n",
       "</tr>\n",
       "<tr>\n",
       "  <th>Df Residuals:</th>          <td>   421</td>      <th>  BIC:               </th> <td>   3783.</td>\n",
       "</tr>\n",
       "<tr>\n",
       "  <th>Df Model:</th>              <td>     1</td>      <th>                     </th>     <td> </td>   \n",
       "</tr>\n",
       "<tr>\n",
       "  <th>Covariance Type:</th>      <td>nonrobust</td>    <th>                     </th>     <td> </td>   \n",
       "</tr>\n",
       "</table>\n",
       "<table class=\"simpletable\">\n",
       "<tr>\n",
       "       <td></td>          <th>coef</th>     <th>std err</th>      <th>t</th>      <th>P>|t|</th>  <th>[0.025</th>    <th>0.975]</th>  \n",
       "</tr>\n",
       "<tr>\n",
       "  <th>Intercept</th>   <td>   57.9485</td> <td>    1.427</td> <td>   40.605</td> <td> 0.000</td> <td>   55.143</td> <td>   60.754</td>\n",
       "</tr>\n",
       "<tr>\n",
       "  <th>speechiness</th> <td>   30.0585</td> <td>    9.992</td> <td>    3.008</td> <td> 0.003</td> <td>   10.417</td> <td>   49.700</td>\n",
       "</tr>\n",
       "</table>\n",
       "<table class=\"simpletable\">\n",
       "<tr>\n",
       "  <th>Omnibus:</th>       <td>50.132</td> <th>  Durbin-Watson:     </th> <td>   1.426</td>\n",
       "</tr>\n",
       "<tr>\n",
       "  <th>Prob(Omnibus):</th> <td> 0.000</td> <th>  Jarque-Bera (JB):  </th> <td>  64.698</td>\n",
       "</tr>\n",
       "<tr>\n",
       "  <th>Skew:</th>          <td>-0.909</td> <th>  Prob(JB):          </th> <td>8.93e-15</td>\n",
       "</tr>\n",
       "<tr>\n",
       "  <th>Kurtosis:</th>      <td> 3.603</td> <th>  Cond. No.          </th> <td>    9.92</td>\n",
       "</tr>\n",
       "</table><br/><br/>Warnings:<br/>[1] Standard Errors assume that the covariance matrix of the errors is correctly specified."
      ],
      "text/plain": [
       "<class 'statsmodels.iolib.summary.Summary'>\n",
       "\"\"\"\n",
       "                            OLS Regression Results                            \n",
       "==============================================================================\n",
       "Dep. Variable:             popularity   R-squared:                       0.021\n",
       "Model:                            OLS   Adj. R-squared:                  0.019\n",
       "Method:                 Least Squares   F-statistic:                     9.049\n",
       "Date:                Mon, 15 Jul 2019   Prob (F-statistic):            0.00279\n",
       "Time:                        16:35:05   Log-Likelihood:                -1885.4\n",
       "No. Observations:                 423   AIC:                             3775.\n",
       "Df Residuals:                     421   BIC:                             3783.\n",
       "Df Model:                           1                                         \n",
       "Covariance Type:            nonrobust                                         \n",
       "===============================================================================\n",
       "                  coef    std err          t      P>|t|      [0.025      0.975]\n",
       "-------------------------------------------------------------------------------\n",
       "Intercept      57.9485      1.427     40.605      0.000      55.143      60.754\n",
       "speechiness    30.0585      9.992      3.008      0.003      10.417      49.700\n",
       "==============================================================================\n",
       "Omnibus:                       50.132   Durbin-Watson:                   1.426\n",
       "Prob(Omnibus):                  0.000   Jarque-Bera (JB):               64.698\n",
       "Skew:                          -0.909   Prob(JB):                     8.93e-15\n",
       "Kurtosis:                       3.603   Cond. No.                         9.92\n",
       "==============================================================================\n",
       "\n",
       "Warnings:\n",
       "[1] Standard Errors assume that the covariance matrix of the errors is correctly specified.\n",
       "\"\"\""
      ]
     },
     "execution_count": 302,
     "metadata": {},
     "output_type": "execute_result"
    }
   ],
   "source": [
    "model1 = ols('popularity~ speechiness', total_df).fit()\n",
    "model1.summary()"
   ]
  },
  {
   "cell_type": "markdown",
   "metadata": {},
   "source": [
    "The r^2 value for popularity and speechiness for all genres is 0.021... leading us to conclude that there is no real significance between speechiness and popularity across all genres. "
   ]
  },
  {
   "cell_type": "markdown",
   "metadata": {},
   "source": [
    "# (B) How does speechiness affect a song's popularity within a certain genre?"
   ]
  },
  {
   "cell_type": "markdown",
   "metadata": {},
   "source": [
    "Quick visual to understand our data:"
   ]
  },
  {
   "cell_type": "code",
   "execution_count": 303,
   "metadata": {
    "scrolled": false
   },
   "outputs": [
    {
     "data": {
      "image/png": "[encoded data removed]",
      "text/plain": [
       "<Figure size 864x432 with 2 Axes>"
      ]
     },
     "metadata": {
      "needs_background": "light"
     },
     "output_type": "display_data"
    }
   ],
   "source": [
    "plt.figure(figsize=(12,6))\n",
    "plt.subplot(1,2,1)\n",
    "plt.plot = sns.boxplot(x=\"genre\", y=\"speechiness\", data=total_df, palette='Set3')\n",
    "\n",
    "plt.subplot(1,2,2)\n",
    "plt.plot = sns.boxplot(x=\"genre\", y=\"popularity\", data=total_df, palette=\"Set3\")"
   ]
  },
  {
   "cell_type": "code",
   "execution_count": 304,
   "metadata": {},
   "outputs": [
    {
     "data": {
      "image/png": "[encoded data removed]",
      "text/plain": [
       "<Figure size 1080x576 with 1 Axes>"
      ]
     },
     "metadata": {
      "needs_background": "light"
     },
     "output_type": "display_data"
    }
   ],
   "source": [
    "plt.figure(figsize = (15, 8))\n",
    "ax3 = sns.boxplot(x=\"speechiness_binned\", y=\"popularity\", hue = 'genre', data=total_df, palette='Set3')"
   ]
  },
  {
   "cell_type": "markdown",
   "metadata": {},
   "source": [
    "Model for understanding the relationship between speechiness, popularity, and genre:"
   ]
  },
  {
   "cell_type": "code",
   "execution_count": 41,
   "metadata": {
    "scrolled": true
   },
   "outputs": [
    {
     "name": "stdout",
     "output_type": "stream",
     "text": [
      "Overall model F( 27, 396) =  5.929, p =  0.0000\n"
     ]
    },
    {
     "data": {
      "text/html": [
       "<table class=\"simpletable\">\n",
       "<caption>OLS Regression Results</caption>\n",
       "<tr>\n",
       "  <th>Dep. Variable:</th>       <td>popularity</td>    <th>  R-squared:         </th> <td>   0.288</td>\n",
       "</tr>\n",
       "<tr>\n",
       "  <th>Model:</th>                   <td>OLS</td>       <th>  Adj. R-squared:    </th> <td>   0.239</td>\n",
       "</tr>\n",
       "<tr>\n",
       "  <th>Method:</th>             <td>Least Squares</td>  <th>  F-statistic:       </th> <td>   5.929</td>\n",
       "</tr>\n",
       "<tr>\n",
       "  <th>Date:</th>             <td>Tue, 16 Jul 2019</td> <th>  Prob (F-statistic):</th> <td>5.93e-17</td>\n",
       "</tr>\n",
       "<tr>\n",
       "  <th>Time:</th>                 <td>10:32:35</td>     <th>  Log-Likelihood:    </th> <td> -1822.3</td>\n",
       "</tr>\n",
       "<tr>\n",
       "  <th>No. Observations:</th>      <td>   424</td>      <th>  AIC:               </th> <td>   3701.</td>\n",
       "</tr>\n",
       "<tr>\n",
       "  <th>Df Residuals:</th>          <td>   396</td>      <th>  BIC:               </th> <td>   3814.</td>\n",
       "</tr>\n",
       "<tr>\n",
       "  <th>Df Model:</th>              <td>    27</td>      <th>                     </th>     <td> </td>   \n",
       "</tr>\n",
       "<tr>\n",
       "  <th>Covariance Type:</th>      <td>nonrobust</td>    <th>                     </th>     <td> </td>   \n",
       "</tr>\n",
       "</table>\n",
       "<table class=\"simpletable\">\n",
       "<tr>\n",
       "                      <td></td>                         <th>coef</th>     <th>std err</th>      <th>t</th>      <th>P>|t|</th>  <th>[0.025</th>    <th>0.975]</th>  \n",
       "</tr>\n",
       "<tr>\n",
       "  <th>Intercept</th>                                 <td>   56.9208</td> <td>    1.832</td> <td>   31.065</td> <td> 0.000</td> <td>   53.319</td> <td>   60.523</td>\n",
       "</tr>\n",
       "<tr>\n",
       "  <th>speechiness_binned[T.2]</th>                   <td>    8.0792</td> <td>   13.149</td> <td>    0.614</td> <td> 0.539</td> <td>  -17.772</td> <td>   33.930</td>\n",
       "</tr>\n",
       "<tr>\n",
       "  <th>speechiness_binned[T.3]</th>                   <td>   -4.4208</td> <td>   13.149</td> <td>   -0.336</td> <td> 0.737</td> <td>  -30.272</td> <td>   21.430</td>\n",
       "</tr>\n",
       "<tr>\n",
       "  <th>speechiness_binned[T.4]</th>                   <td>   19.0792</td> <td>   18.505</td> <td>    1.031</td> <td> 0.303</td> <td>  -17.302</td> <td>   55.460</td>\n",
       "</tr>\n",
       "<tr>\n",
       "  <th>speechiness_binned[T.5]</th>                   <td>   -0.1463</td> <td>    4.166</td> <td>   -0.035</td> <td> 0.972</td> <td>   -8.337</td> <td>    8.044</td>\n",
       "</tr>\n",
       "<tr>\n",
       "  <th>speechiness_binned[T.6]</th>                   <td>    3.1255</td> <td>    5.016</td> <td>    0.623</td> <td> 0.534</td> <td>   -6.735</td> <td>   12.986</td>\n",
       "</tr>\n",
       "<tr>\n",
       "  <th>speechiness_binned[T.7]</th>                   <td>    2.0943</td> <td>    4.456</td> <td>    0.470</td> <td> 0.639</td> <td>   -6.667</td> <td>   10.855</td>\n",
       "</tr>\n",
       "<tr>\n",
       "  <th>speechiness_binned[T.8]</th>                   <td>    6.0588</td> <td>    6.864</td> <td>    0.883</td> <td> 0.378</td> <td>   -7.435</td> <td>   19.553</td>\n",
       "</tr>\n",
       "<tr>\n",
       "  <th>speechiness_binned[T.9]</th>                   <td>   -4.9821</td> <td>    3.891</td> <td>   -1.281</td> <td> 0.201</td> <td>  -12.631</td> <td>    2.667</td>\n",
       "</tr>\n",
       "<tr>\n",
       "  <th>speechiness_binned[T.10]</th>                  <td>    3.1699</td> <td>    7.220</td> <td>    0.439</td> <td> 0.661</td> <td>  -11.025</td> <td>   17.365</td>\n",
       "</tr>\n",
       "<tr>\n",
       "  <th>C(genre)[T.jazz]</th>                          <td>  -11.2464</td> <td>    2.702</td> <td>   -4.162</td> <td> 0.000</td> <td>  -16.558</td> <td>   -5.935</td>\n",
       "</tr>\n",
       "<tr>\n",
       "  <th>C(genre)[T.pop]</th>                           <td>   19.6527</td> <td>    2.889</td> <td>    6.804</td> <td> 0.000</td> <td>   13.974</td> <td>   25.332</td>\n",
       "</tr>\n",
       "<tr>\n",
       "  <th>C(genre)[T.rap]</th>                           <td>    7.3292</td> <td>    3.933</td> <td>    1.864</td> <td> 0.063</td> <td>   -0.403</td> <td>   15.061</td>\n",
       "</tr>\n",
       "<tr>\n",
       "  <th>speechiness_binned[T.2]:C(genre)[T.jazz]</th>  <td>   -4.3900</td> <td>   14.411</td> <td>   -0.305</td> <td> 0.761</td> <td>  -32.721</td> <td>   23.941</td>\n",
       "</tr>\n",
       "<tr>\n",
       "  <th>speechiness_binned[T.3]:C(genre)[T.jazz]</th>  <td>    5.1464</td> <td>   15.642</td> <td>    0.329</td> <td> 0.742</td> <td>  -25.605</td> <td>   35.898</td>\n",
       "</tr>\n",
       "<tr>\n",
       "  <th>speechiness_binned[T.4]:C(genre)[T.jazz]</th>  <td>-1.279e-14</td> <td> 2.24e-14</td> <td>   -0.571</td> <td> 0.568</td> <td>-5.68e-14</td> <td> 3.12e-14</td>\n",
       "</tr>\n",
       "<tr>\n",
       "  <th>speechiness_binned[T.5]:C(genre)[T.jazz]</th>  <td> 1.076e-14</td> <td> 1.34e-14</td> <td>    0.800</td> <td> 0.424</td> <td>-1.57e-14</td> <td> 3.72e-14</td>\n",
       "</tr>\n",
       "<tr>\n",
       "  <th>speechiness_binned[T.6]:C(genre)[T.jazz]</th>  <td>    3.2001</td> <td>   10.578</td> <td>    0.303</td> <td> 0.762</td> <td>  -17.597</td> <td>   23.997</td>\n",
       "</tr>\n",
       "<tr>\n",
       "  <th>speechiness_binned[T.7]:C(genre)[T.jazz]</th>  <td>    8.7313</td> <td>   10.325</td> <td>    0.846</td> <td> 0.398</td> <td>  -11.567</td> <td>   29.030</td>\n",
       "</tr>\n",
       "<tr>\n",
       "  <th>speechiness_binned[T.8]:C(genre)[T.jazz]</th>  <td> 3.579e-15</td> <td> 4.87e-15</td> <td>    0.734</td> <td> 0.463</td> <td>   -6e-15</td> <td> 1.32e-14</td>\n",
       "</tr>\n",
       "<tr>\n",
       "  <th>speechiness_binned[T.9]:C(genre)[T.jazz]</th>  <td>-2.522e-15</td> <td> 5.49e-15</td> <td>   -0.460</td> <td> 0.646</td> <td>-1.33e-14</td> <td> 8.26e-15</td>\n",
       "</tr>\n",
       "<tr>\n",
       "  <th>speechiness_binned[T.10]:C(genre)[T.jazz]</th> <td> 2.911e-15</td> <td> 4.25e-15</td> <td>    0.685</td> <td> 0.494</td> <td>-5.44e-15</td> <td> 1.13e-14</td>\n",
       "</tr>\n",
       "<tr>\n",
       "  <th>speechiness_binned[T.2]:C(genre)[T.pop]</th>   <td>  -11.6527</td> <td>   14.447</td> <td>   -0.807</td> <td> 0.420</td> <td>  -40.055</td> <td>   16.750</td>\n",
       "</tr>\n",
       "<tr>\n",
       "  <th>speechiness_binned[T.3]:C(genre)[T.pop]</th>   <td>    2.3473</td> <td>   14.553</td> <td>    0.161</td> <td> 0.872</td> <td>  -26.264</td> <td>   30.959</td>\n",
       "</tr>\n",
       "<tr>\n",
       "  <th>speechiness_binned[T.4]:C(genre)[T.pop]</th>   <td>  -11.3194</td> <td>   20.098</td> <td>   -0.563</td> <td> 0.574</td> <td>  -50.832</td> <td>   28.194</td>\n",
       "</tr>\n",
       "<tr>\n",
       "  <th>speechiness_binned[T.5]:C(genre)[T.pop]</th>   <td>    1.5728</td> <td>    7.530</td> <td>    0.209</td> <td> 0.835</td> <td>  -13.230</td> <td>   16.376</td>\n",
       "</tr>\n",
       "<tr>\n",
       "  <th>speechiness_binned[T.6]:C(genre)[T.pop]</th>   <td>    0.8010</td> <td>   10.603</td> <td>    0.076</td> <td> 0.940</td> <td>  -20.044</td> <td>   21.646</td>\n",
       "</tr>\n",
       "<tr>\n",
       "  <th>speechiness_binned[T.7]:C(genre)[T.pop]</th>   <td>   -4.6678</td> <td>    8.046</td> <td>   -0.580</td> <td> 0.562</td> <td>  -20.486</td> <td>   11.150</td>\n",
       "</tr>\n",
       "<tr>\n",
       "  <th>speechiness_binned[T.8]:C(genre)[T.pop]</th>   <td>   -0.6324</td> <td>   12.720</td> <td>   -0.050</td> <td> 0.960</td> <td>  -25.640</td> <td>   24.375</td>\n",
       "</tr>\n",
       "<tr>\n",
       "  <th>speechiness_binned[T.9]:C(genre)[T.pop]</th>   <td>         0</td> <td>        0</td> <td>      nan</td> <td>   nan</td> <td>        0</td> <td>        0</td>\n",
       "</tr>\n",
       "<tr>\n",
       "  <th>speechiness_binned[T.10]:C(genre)[T.pop]</th>  <td>   -2.7435</td> <td>   12.916</td> <td>   -0.212</td> <td> 0.832</td> <td>  -28.136</td> <td>   22.649</td>\n",
       "</tr>\n",
       "<tr>\n",
       "  <th>speechiness_binned[T.2]:C(genre)[T.rap]</th>   <td>   -5.5110</td> <td>   14.691</td> <td>   -0.375</td> <td> 0.708</td> <td>  -34.394</td> <td>   23.372</td>\n",
       "</tr>\n",
       "<tr>\n",
       "  <th>speechiness_binned[T.3]:C(genre)[T.rap]</th>   <td>    1.2541</td> <td>   14.604</td> <td>    0.086</td> <td> 0.932</td> <td>  -27.456</td> <td>   29.965</td>\n",
       "</tr>\n",
       "<tr>\n",
       "  <th>speechiness_binned[T.4]:C(genre)[T.rap]</th>   <td>  -22.8747</td> <td>   19.631</td> <td>   -1.165</td> <td> 0.245</td> <td>  -61.469</td> <td>   15.720</td>\n",
       "</tr>\n",
       "<tr>\n",
       "  <th>speechiness_binned[T.5]:C(genre)[T.rap]</th>   <td>   -1.7191</td> <td>    5.485</td> <td>   -0.313</td> <td> 0.754</td> <td>  -12.503</td> <td>    9.065</td>\n",
       "</tr>\n",
       "<tr>\n",
       "  <th>speechiness_binned[T.6]:C(genre)[T.rap]</th>   <td>   -0.8755</td> <td>    7.239</td> <td>   -0.121</td> <td> 0.904</td> <td>  -15.108</td> <td>   13.356</td>\n",
       "</tr>\n",
       "<tr>\n",
       "  <th>speechiness_binned[T.7]:C(genre)[T.rap]</th>   <td>   -1.9693</td> <td>    6.863</td> <td>   -0.287</td> <td> 0.774</td> <td>  -15.463</td> <td>   11.524</td>\n",
       "</tr>\n",
       "<tr>\n",
       "  <th>speechiness_binned[T.8]:C(genre)[T.rap]</th>   <td>    6.6912</td> <td>    8.588</td> <td>    0.779</td> <td> 0.436</td> <td>  -10.193</td> <td>   23.575</td>\n",
       "</tr>\n",
       "<tr>\n",
       "  <th>speechiness_binned[T.9]:C(genre)[T.rap]</th>   <td>   -4.9821</td> <td>    3.891</td> <td>   -1.281</td> <td> 0.201</td> <td>  -12.631</td> <td>    2.667</td>\n",
       "</tr>\n",
       "<tr>\n",
       "  <th>speechiness_binned[T.10]:C(genre)[T.rap]</th>  <td>    5.9134</td> <td>    9.688</td> <td>    0.610</td> <td> 0.542</td> <td>  -13.132</td> <td>   24.959</td>\n",
       "</tr>\n",
       "</table>\n",
       "<table class=\"simpletable\">\n",
       "<tr>\n",
       "  <th>Omnibus:</th>       <td>132.837</td> <th>  Durbin-Watson:     </th> <td>   1.955</td>\n",
       "</tr>\n",
       "<tr>\n",
       "  <th>Prob(Omnibus):</th> <td> 0.000</td>  <th>  Jarque-Bera (JB):  </th> <td> 296.709</td>\n",
       "</tr>\n",
       "<tr>\n",
       "  <th>Skew:</th>          <td>-1.639</td>  <th>  Prob(JB):          </th> <td>3.72e-65</td>\n",
       "</tr>\n",
       "<tr>\n",
       "  <th>Kurtosis:</th>      <td> 5.459</td>  <th>  Cond. No.          </th> <td>1.11e+16</td>\n",
       "</tr>\n",
       "</table><br/><br/>Warnings:<br/>[1] Standard Errors assume that the covariance matrix of the errors is correctly specified.<br/>[2] The smallest eigenvalue is 4.23e-30. This might indicate that there are<br/>strong multicollinearity problems or that the design matrix is singular."
      ],
      "text/plain": [
       "<class 'statsmodels.iolib.summary.Summary'>\n",
       "\"\"\"\n",
       "                            OLS Regression Results                            \n",
       "==============================================================================\n",
       "Dep. Variable:             popularity   R-squared:                       0.288\n",
       "Model:                            OLS   Adj. R-squared:                  0.239\n",
       "Method:                 Least Squares   F-statistic:                     5.929\n",
       "Date:                Tue, 16 Jul 2019   Prob (F-statistic):           5.93e-17\n",
       "Time:                        10:32:35   Log-Likelihood:                -1822.3\n",
       "No. Observations:                 424   AIC:                             3701.\n",
       "Df Residuals:                     396   BIC:                             3814.\n",
       "Df Model:                          27                                         \n",
       "Covariance Type:            nonrobust                                         \n",
       "=============================================================================================================\n",
       "                                                coef    std err          t      P>|t|      [0.025      0.975]\n",
       "-------------------------------------------------------------------------------------------------------------\n",
       "Intercept                                    56.9208      1.832     31.065      0.000      53.319      60.523\n",
       "speechiness_binned[T.2]                       8.0792     13.149      0.614      0.539     -17.772      33.930\n",
       "speechiness_binned[T.3]                      -4.4208     13.149     -0.336      0.737     -30.272      21.430\n",
       "speechiness_binned[T.4]                      19.0792     18.505      1.031      0.303     -17.302      55.460\n",
       "speechiness_binned[T.5]                      -0.1463      4.166     -0.035      0.972      -8.337       8.044\n",
       "speechiness_binned[T.6]                       3.1255      5.016      0.623      0.534      -6.735      12.986\n",
       "speechiness_binned[T.7]                       2.0943      4.456      0.470      0.639      -6.667      10.855\n",
       "speechiness_binned[T.8]                       6.0588      6.864      0.883      0.378      -7.435      19.553\n",
       "speechiness_binned[T.9]                      -4.9821      3.891     -1.281      0.201     -12.631       2.667\n",
       "speechiness_binned[T.10]                      3.1699      7.220      0.439      0.661     -11.025      17.365\n",
       "C(genre)[T.jazz]                            -11.2464      2.702     -4.162      0.000     -16.558      -5.935\n",
       "C(genre)[T.pop]                              19.6527      2.889      6.804      0.000      13.974      25.332\n",
       "C(genre)[T.rap]                               7.3292      3.933      1.864      0.063      -0.403      15.061\n",
       "speechiness_binned[T.2]:C(genre)[T.jazz]     -4.3900     14.411     -0.305      0.761     -32.721      23.941\n",
       "speechiness_binned[T.3]:C(genre)[T.jazz]      5.1464     15.642      0.329      0.742     -25.605      35.898\n",
       "speechiness_binned[T.4]:C(genre)[T.jazz]  -1.279e-14   2.24e-14     -0.571      0.568   -5.68e-14    3.12e-14\n",
       "speechiness_binned[T.5]:C(genre)[T.jazz]   1.076e-14   1.34e-14      0.800      0.424   -1.57e-14    3.72e-14\n",
       "speechiness_binned[T.6]:C(genre)[T.jazz]      3.2001     10.578      0.303      0.762     -17.597      23.997\n",
       "speechiness_binned[T.7]:C(genre)[T.jazz]      8.7313     10.325      0.846      0.398     -11.567      29.030\n",
       "speechiness_binned[T.8]:C(genre)[T.jazz]   3.579e-15   4.87e-15      0.734      0.463      -6e-15    1.32e-14\n",
       "speechiness_binned[T.9]:C(genre)[T.jazz]  -2.522e-15   5.49e-15     -0.460      0.646   -1.33e-14    8.26e-15\n",
       "speechiness_binned[T.10]:C(genre)[T.jazz]  2.911e-15   4.25e-15      0.685      0.494   -5.44e-15    1.13e-14\n",
       "speechiness_binned[T.2]:C(genre)[T.pop]     -11.6527     14.447     -0.807      0.420     -40.055      16.750\n",
       "speechiness_binned[T.3]:C(genre)[T.pop]       2.3473     14.553      0.161      0.872     -26.264      30.959\n",
       "speechiness_binned[T.4]:C(genre)[T.pop]     -11.3194     20.098     -0.563      0.574     -50.832      28.194\n",
       "speechiness_binned[T.5]:C(genre)[T.pop]       1.5728      7.530      0.209      0.835     -13.230      16.376\n",
       "speechiness_binned[T.6]:C(genre)[T.pop]       0.8010     10.603      0.076      0.940     -20.044      21.646\n",
       "speechiness_binned[T.7]:C(genre)[T.pop]      -4.6678      8.046     -0.580      0.562     -20.486      11.150\n",
       "speechiness_binned[T.8]:C(genre)[T.pop]      -0.6324     12.720     -0.050      0.960     -25.640      24.375\n",
       "speechiness_binned[T.9]:C(genre)[T.pop]            0          0        nan        nan           0           0\n",
       "speechiness_binned[T.10]:C(genre)[T.pop]     -2.7435     12.916     -0.212      0.832     -28.136      22.649\n",
       "speechiness_binned[T.2]:C(genre)[T.rap]      -5.5110     14.691     -0.375      0.708     -34.394      23.372\n",
       "speechiness_binned[T.3]:C(genre)[T.rap]       1.2541     14.604      0.086      0.932     -27.456      29.965\n",
       "speechiness_binned[T.4]:C(genre)[T.rap]     -22.8747     19.631     -1.165      0.245     -61.469      15.720\n",
       "speechiness_binned[T.5]:C(genre)[T.rap]      -1.7191      5.485     -0.313      0.754     -12.503       9.065\n",
       "speechiness_binned[T.6]:C(genre)[T.rap]      -0.8755      7.239     -0.121      0.904     -15.108      13.356\n",
       "speechiness_binned[T.7]:C(genre)[T.rap]      -1.9693      6.863     -0.287      0.774     -15.463      11.524\n",
       "speechiness_binned[T.8]:C(genre)[T.rap]       6.6912      8.588      0.779      0.436     -10.193      23.575\n",
       "speechiness_binned[T.9]:C(genre)[T.rap]      -4.9821      3.891     -1.281      0.201     -12.631       2.667\n",
       "speechiness_binned[T.10]:C(genre)[T.rap]      5.9134      9.688      0.610      0.542     -13.132      24.959\n",
       "==============================================================================\n",
       "Omnibus:                      132.837   Durbin-Watson:                   1.955\n",
       "Prob(Omnibus):                  0.000   Jarque-Bera (JB):              296.709\n",
       "Skew:                          -1.639   Prob(JB):                     3.72e-65\n",
       "Kurtosis:                       5.459   Cond. No.                     1.11e+16\n",
       "==============================================================================\n",
       "\n",
       "Warnings:\n",
       "[1] Standard Errors assume that the covariance matrix of the errors is correctly specified.\n",
       "[2] The smallest eigenvalue is 4.23e-30. This might indicate that there are\n",
       "strong multicollinearity problems or that the design matrix is singular.\n",
       "\"\"\""
      ]
     },
     "execution_count": 41,
     "metadata": {},
     "output_type": "execute_result"
    }
   ],
   "source": [
    "model2 = ols('popularity~ speechiness_binned * C(genre)', total_df).fit()\n",
    "print(f\"Overall model F({model2.df_model: .0f},{model2.df_resid: .0f}) = {model2.fvalue: .3f}, p = {model2.f_pvalue: .4f}\")\n",
    "model2.summary()"
   ]
  },
  {
   "cell_type": "markdown",
   "metadata": {},
   "source": [
    "create anova table to see interactions and relationships:\n",
    "notice that the interaction between speechiness_binned and genre is not significant, so we can accept this null hypothesis: that there is no significant interaction between the two variables, but we reject the null for the speechiness hypothesis and genre hypothesis in that the have a significant effect on popularity"
   ]
  },
  {
   "cell_type": "code",
   "execution_count": 75,
   "metadata": {
    "scrolled": true
   },
   "outputs": [
    {
     "data": {
      "text/html": [
       "<div>\n",
       "<style scoped>\n",
       "    .dataframe tbody tr th:only-of-type {\n",
       "        vertical-align: middle;\n",
       "    }\n",
       "\n",
       "    .dataframe tbody tr th {\n",
       "        vertical-align: top;\n",
       "    }\n",
       "\n",
       "    .dataframe thead th {\n",
       "        text-align: right;\n",
       "    }\n",
       "</style>\n",
       "<table border=\"1\" class=\"dataframe\">\n",
       "  <thead>\n",
       "    <tr style=\"text-align: right;\">\n",
       "      <th></th>\n",
       "      <th>df</th>\n",
       "      <th>sum_sq</th>\n",
       "      <th>mean_sq</th>\n",
       "      <th>F</th>\n",
       "      <th>PR(&gt;F)</th>\n",
       "      <th>eta_sq</th>\n",
       "    </tr>\n",
       "  </thead>\n",
       "  <tbody>\n",
       "    <tr>\n",
       "      <th>speechiness_binned</th>\n",
       "      <td>9.0</td>\n",
       "      <td>6377.700052</td>\n",
       "      <td>708.633339</td>\n",
       "      <td>2.089811</td>\n",
       "      <td>2.943341e-02</td>\n",
       "      <td>0.032977</td>\n",
       "    </tr>\n",
       "    <tr>\n",
       "      <th>C(genre)</th>\n",
       "      <td>3.0</td>\n",
       "      <td>46287.818501</td>\n",
       "      <td>15429.272834</td>\n",
       "      <td>45.502033</td>\n",
       "      <td>2.757610e-25</td>\n",
       "      <td>0.239336</td>\n",
       "    </tr>\n",
       "    <tr>\n",
       "      <th>speechiness_binned:C(genre)</th>\n",
       "      <td>27.0</td>\n",
       "      <td>6456.220636</td>\n",
       "      <td>239.119283</td>\n",
       "      <td>0.705180</td>\n",
       "      <td>8.634418e-01</td>\n",
       "      <td>0.033383</td>\n",
       "    </tr>\n",
       "    <tr>\n",
       "      <th>Residual</th>\n",
       "      <td>396.0</td>\n",
       "      <td>134279.538663</td>\n",
       "      <td>339.089744</td>\n",
       "      <td>NaN</td>\n",
       "      <td>NaN</td>\n",
       "      <td>NaN</td>\n",
       "    </tr>\n",
       "  </tbody>\n",
       "</table>\n",
       "</div>"
      ],
      "text/plain": [
       "                                df         sum_sq       mean_sq          F  \\\n",
       "speechiness_binned             9.0    6377.700052    708.633339   2.089811   \n",
       "C(genre)                       3.0   46287.818501  15429.272834  45.502033   \n",
       "speechiness_binned:C(genre)   27.0    6456.220636    239.119283   0.705180   \n",
       "Residual                     396.0  134279.538663    339.089744        NaN   \n",
       "\n",
       "                                   PR(>F)    eta_sq  \n",
       "speechiness_binned           2.943341e-02  0.032977  \n",
       "C(genre)                     2.757610e-25  0.239336  \n",
       "speechiness_binned:C(genre)  8.634418e-01  0.033383  \n",
       "Residual                              NaN       NaN  "
      ]
     },
     "execution_count": 75,
     "metadata": {},
     "output_type": "execute_result"
    }
   ],
   "source": [
    "anova_table = sm.stats.anova_lm(model2, type= 2)\n",
    "anova_table\n",
    "anova_table['eta_sq'] = anova_table[:-1]['sum_sq']/sum(anova_table['sum_sq'])\n",
    "anova_table"
   ]
  },
  {
   "cell_type": "code",
   "execution_count": 307,
   "metadata": {},
   "outputs": [
    {
     "name": "stdout",
     "output_type": "stream",
     "text": [
      "Multiple Comparison of Means - Tukey HSD,FWER=0.05\n",
      "===============================================\n",
      " group1 group2 meandiff  lower    upper  reject\n",
      "-----------------------------------------------\n",
      "country  jazz  -10.7547 -17.1795 -4.3299  True \n",
      "country  pop   19.3491  12.9242  25.7739  True \n",
      "country  rap    6.5921   0.152   13.0322  True \n",
      "  jazz   pop   30.1038  23.6789  36.5286  True \n",
      "  jazz   rap   17.3468  10.9067  23.7869  True \n",
      "  pop    rap   -12.757  -19.1971 -6.3169  True \n",
      "-----------------------------------------------\n"
     ]
    }
   ],
   "source": [
    "mc = sm.stats.multicomp.MultiComparison(total_df['popularity'], total_df['genre'])\n",
    "mc_results = mc.tukeyhsd()\n",
    "print(mc_results)"
   ]
  },
  {
   "cell_type": "code",
   "execution_count": 74,
   "metadata": {
    "scrolled": true
   },
   "outputs": [
    {
     "name": "stdout",
     "output_type": "stream",
     "text": [
      "Multiple Comparison of Means - Tukey HSD,FWER=0.05\n",
      "==============================================\n",
      "group1 group2 meandiff  lower    upper  reject\n",
      "----------------------------------------------\n",
      "  1      10   15.2995  -18.3017 48.9006 False \n",
      "  1      2     4.2209  -7.7361  16.1779 False \n",
      "  1      3     3.6357  -9.3757   16.647 False \n",
      "  1      4    10.3272  -5.8942  26.5487 False \n",
      "  1      5     6.362   -10.7862 23.5102 False \n",
      "  1      6     7.4661  -12.202  27.1343 False \n",
      "  1      7     7.0495  -11.2213 25.3203 False \n",
      "  1      8    18.8828  -8.6479  46.4135 False \n",
      "  1      9    -4.6648  -30.1973 20.8677 False \n",
      "  10     2    -11.0786 -46.2998 24.1427 False \n",
      "  10     3    -11.6638 -47.2568 23.9292 False \n",
      "  10     4    -4.9722  -41.8599 31.9155 False \n",
      "  10     5    -8.9375  -46.242   28.367 False \n",
      "  10     6    -7.8333  -46.3613 30.6946 False \n",
      "  10     7     -8.25   -46.0837 29.5837 False \n",
      "  10     8     3.5833  -39.4922 46.6589 False \n",
      "  10     9    -19.9643 -61.791  21.8624 False \n",
      "  2      3    -0.5852  -17.3421 16.1717 False \n",
      "  2      4     6.1063  -13.2491 25.4618 False \n",
      "  2      5     2.1411  -17.9975 22.2796 False \n",
      "  2      6     3.2452  -19.0782 25.5687 False \n",
      "  2      7     2.8286  -18.2741 23.9312 False \n",
      "  2      8    14.6619  -14.8243 44.1481 False \n",
      "  2      9    -8.8857  -36.5155 18.7441 False \n",
      "  3      4     6.6916  -13.3324 26.7155 False \n",
      "  3      5     2.7263  -18.0555 23.5081 False \n",
      "  3      6     3.8305  -19.075  26.7359 False \n",
      "  3      7     3.4138  -18.3036 25.1312 False \n",
      "  3      8    15.2471  -14.6821 45.1764 False \n",
      "  3      9    -8.3005  -36.4027 19.8017 False \n",
      "  4      5    -3.9653  -26.894  18.9634 False \n",
      "  4      6    -2.8611  -27.7308 22.0086 False \n",
      "  4      7    -3.2778  -27.0577 20.5022 False \n",
      "  4      8     8.5556  -22.9024 40.0135 False \n",
      "  4      9    -14.9921 -44.717  14.7329 False \n",
      "  5      6     1.1042  -24.3797  26.588 False \n",
      "  5      7     0.6875  -23.734   25.109 False \n",
      "  5      8    12.5208  -19.4249 44.4665 False \n",
      "  5      9    -11.0268 -41.2675 19.2139 False \n",
      "  6      7    -0.4167  -26.669  25.8357 False \n",
      "  6      8    11.4167  -21.9495 44.7829 False \n",
      "  6      9    -12.131  -43.8685 19.6066 False \n",
      "  7      8    11.8333  -20.7287 44.3954 False \n",
      "  7      9    -11.7143 -42.6054 19.1768 False \n",
      "  8      9    -23.5476 -60.6741 13.5788 False \n",
      "----------------------------------------------\n"
     ]
    }
   ],
   "source": [
    "mc = sm.stats.multicomp.MultiComparison(total_df['popularity'], total_df['speechiness_binned'])\n",
    "mc_results = mc.tukeyhsd(alpha = 0.05)\n",
    "print(mc_results)"
   ]
  },
  {
   "cell_type": "markdown",
   "metadata": {},
   "source": [
    "# (C) How does speechiness affect a song's popularity within a certain country?"
   ]
  },
  {
   "cell_type": "markdown",
   "metadata": {},
   "source": [
    "import data and create SQL tables based on country:"
   ]
  },
  {
   "cell_type": "code",
   "execution_count": 47,
   "metadata": {},
   "outputs": [],
   "source": [
    "#compile argentina data \n",
    "get_playlist.get_playlist_SQL('37i9dQZEVXbMMy2roB9myp', 'argentina') \n",
    "get_playlist.get_playlist_SQL('37i9dQZEVXbJajpaXyaKll', 'argentina') \n",
    "\n",
    "#compile australia data\n",
    "get_playlist.get_playlist_SQL('37i9dQZEVXbJPcfkRz0wJ0', 'australia') \n",
    "get_playlist.get_playlist_SQL('37i9dQZEVXbO5MSE9RdfN2', 'australia') \n",
    "\n",
    "#philipines\n",
    "get_playlist.get_playlist_SQL('37i9dQZEVXbNBz9cRCSFkY', 'philippines') \n",
    "get_playlist.get_playlist_SQL('37i9dQZEVXbJv2Mvelmc3I', 'philippines') \n",
    "\n",
    "#romania\n",
    "get_playlist.get_playlist_SQL('37i9dQZEVXbNZbJ6TZelCq', 'romania') \n",
    "get_playlist.get_playlist_SQL('37i9dQZEVXbNwDVyEEfWV3', 'romania') \n",
    "\n",
    "#singapore\n",
    "get_playlist.get_playlist_SQL('37i9dQZEVXbK4gjvS1FjPY', 'singapore') \n",
    "get_playlist.get_playlist_SQL('37i9dQZEVXbJVi45MafAu0', 'singapore') \n",
    "    \n",
    "#south africa \n",
    "get_playlist.get_playlist_SQL('37i9dQZEVXbMH2jvi6jvjk', 'south_africa') \n",
    "get_playlist.get_playlist_SQL('37i9dQZEVXbNaCk6h5bujZ', 'south_africa') \n",
    "\n",
    "#brazil\n",
    "get_playlist.get_playlist_SQL('37i9dQZEVXbMXbN3EUUhlg', 'brazil') \n",
    "get_playlist.get_playlist_SQL('37i9dQZEVXbMOkSwG072hV', 'brazil')     \n"
   ]
  },
  {
   "cell_type": "code",
   "execution_count": 48,
   "metadata": {},
   "outputs": [],
   "source": [
    "df_argentina = get_playlist.SQL_to_dataframe('argentina')\n",
    "df_australia = get_playlist.SQL_to_dataframe('australia')\n",
    "df_philippines = get_playlist.SQL_to_dataframe('philippines')\n",
    "df_romania = get_playlist.SQL_to_dataframe('romania')\n",
    "df_south_africa = get_playlist.SQL_to_dataframe('south_africa')\n",
    "df_brazil = get_playlist.SQL_to_dataframe('brazil')"
   ]
  },
  {
   "cell_type": "code",
   "execution_count": 49,
   "metadata": {},
   "outputs": [],
   "source": [
    "df_argentina = get_playlist.song_audio_features(df_argentina, 'argentina')\n",
    "df_australia = get_playlist.song_audio_features(df_australia, 'australia')\n",
    "df_philippines = get_playlist.song_audio_features(df_philippines, 'philippines')\n",
    "df_romania = get_playlist.song_audio_features(df_romania, 'romania')\n",
    "df_south_africa = get_playlist.song_audio_features(df_south_africa, 'south_africa')\n",
    "df_brazil = get_pldf_pop = get_playlist.song_audio_features(df_brazil, 'brazil')"
   ]
  },
  {
   "cell_type": "code",
   "execution_count": 50,
   "metadata": {},
   "outputs": [],
   "source": [
    "df_argentina['country'] = 'argentina'\n",
    "df_australia['country'] = 'australia'\n",
    "df_philippines['country'] = 'philippines'\n",
    "df_romania['country'] = 'romania'\n",
    "df_south_africa['country'] = 'south_africa'\n",
    "df_brazil['country'] = 'brazil'"
   ]
  },
  {
   "cell_type": "code",
   "execution_count": 51,
   "metadata": {},
   "outputs": [
    {
     "data": {
      "text/html": [
       "<div>\n",
       "<style scoped>\n",
       "    .dataframe tbody tr th:only-of-type {\n",
       "        vertical-align: middle;\n",
       "    }\n",
       "\n",
       "    .dataframe tbody tr th {\n",
       "        vertical-align: top;\n",
       "    }\n",
       "\n",
       "    .dataframe thead th {\n",
       "        text-align: right;\n",
       "    }\n",
       "</style>\n",
       "<table border=\"1\" class=\"dataframe\">\n",
       "  <thead>\n",
       "    <tr style=\"text-align: right;\">\n",
       "      <th></th>\n",
       "      <th>popularity</th>\n",
       "      <th>speechiness</th>\n",
       "      <th>danceability</th>\n",
       "      <th>energy</th>\n",
       "      <th>liveness</th>\n",
       "      <th>valence</th>\n",
       "    </tr>\n",
       "    <tr>\n",
       "      <th>country</th>\n",
       "      <th></th>\n",
       "      <th></th>\n",
       "      <th></th>\n",
       "      <th></th>\n",
       "      <th></th>\n",
       "      <th></th>\n",
       "    </tr>\n",
       "  </thead>\n",
       "  <tbody>\n",
       "    <tr>\n",
       "      <th>argentina</th>\n",
       "      <td>74.484211</td>\n",
       "      <td>0.156077</td>\n",
       "      <td>0.743707</td>\n",
       "      <td>0.640713</td>\n",
       "      <td>0.153926</td>\n",
       "      <td>0.605489</td>\n",
       "    </tr>\n",
       "    <tr>\n",
       "      <th>australia</th>\n",
       "      <td>77.046729</td>\n",
       "      <td>0.123964</td>\n",
       "      <td>0.740295</td>\n",
       "      <td>0.610533</td>\n",
       "      <td>0.173076</td>\n",
       "      <td>0.538477</td>\n",
       "    </tr>\n",
       "    <tr>\n",
       "      <th>brazil</th>\n",
       "      <td>70.092593</td>\n",
       "      <td>0.136619</td>\n",
       "      <td>0.708784</td>\n",
       "      <td>0.695127</td>\n",
       "      <td>0.293873</td>\n",
       "      <td>0.618031</td>\n",
       "    </tr>\n",
       "    <tr>\n",
       "      <th>philippines</th>\n",
       "      <td>70.722222</td>\n",
       "      <td>0.102684</td>\n",
       "      <td>0.646720</td>\n",
       "      <td>0.534551</td>\n",
       "      <td>0.155547</td>\n",
       "      <td>0.455449</td>\n",
       "    </tr>\n",
       "    <tr>\n",
       "      <th>romania</th>\n",
       "      <td>73.027027</td>\n",
       "      <td>0.130585</td>\n",
       "      <td>0.750648</td>\n",
       "      <td>0.630752</td>\n",
       "      <td>0.143458</td>\n",
       "      <td>0.525667</td>\n",
       "    </tr>\n",
       "    <tr>\n",
       "      <th>south_africa</th>\n",
       "      <td>70.720339</td>\n",
       "      <td>0.128944</td>\n",
       "      <td>0.725330</td>\n",
       "      <td>0.619821</td>\n",
       "      <td>0.168563</td>\n",
       "      <td>0.501324</td>\n",
       "    </tr>\n",
       "  </tbody>\n",
       "</table>\n",
       "</div>"
      ],
      "text/plain": [
       "              popularity  speechiness  danceability    energy  liveness  \\\n",
       "country                                                                   \n",
       "argentina      74.484211     0.156077      0.743707  0.640713  0.153926   \n",
       "australia      77.046729     0.123964      0.740295  0.610533  0.173076   \n",
       "brazil         70.092593     0.136619      0.708784  0.695127  0.293873   \n",
       "philippines    70.722222     0.102684      0.646720  0.534551  0.155547   \n",
       "romania        73.027027     0.130585      0.750648  0.630752  0.143458   \n",
       "south_africa   70.720339     0.128944      0.725330  0.619821  0.168563   \n",
       "\n",
       "               valence  \n",
       "country                 \n",
       "argentina     0.605489  \n",
       "australia     0.538477  \n",
       "brazil        0.618031  \n",
       "philippines   0.455449  \n",
       "romania       0.525667  \n",
       "south_africa  0.501324  "
      ]
     },
     "execution_count": 51,
     "metadata": {},
     "output_type": "execute_result"
    }
   ],
   "source": [
    "frames = [df_argentina, df_australia, df_philippines, df_romania, df_south_africa, df_brazil]\n",
    "countries_df = pd.concat(frames)\n",
    "countries_df.groupby('country').mean()"
   ]
  },
  {
   "cell_type": "code",
   "execution_count": 52,
   "metadata": {},
   "outputs": [],
   "source": [
    "countries_df['speechiness_binned'] = pd.cut(countries_df['speechiness'], bins = 10, labels= ['1','2','3','4','5','6','7','8','9', '10'])\n",
    "countries_df['speechiness_binned']=countries_df['speechiness_binned'].astype('category')\n",
    "\n",
    "countries_df['energy_binned'] = pd.cut(countries_df['energy'], bins = 10, labels= ['1','2','3','4','5','6','7','8','9', '10'])\n",
    "countries_df['energy_binned']=countries_df['energy_binned'].astype('category')"
   ]
  },
  {
   "cell_type": "code",
   "execution_count": 53,
   "metadata": {},
   "outputs": [
    {
     "data": {
      "text/html": [
       "<div>\n",
       "<style scoped>\n",
       "    .dataframe tbody tr th:only-of-type {\n",
       "        vertical-align: middle;\n",
       "    }\n",
       "\n",
       "    .dataframe tbody tr th {\n",
       "        vertical-align: top;\n",
       "    }\n",
       "\n",
       "    .dataframe thead th {\n",
       "        text-align: right;\n",
       "    }\n",
       "</style>\n",
       "<table border=\"1\" class=\"dataframe\">\n",
       "  <thead>\n",
       "    <tr style=\"text-align: right;\">\n",
       "      <th></th>\n",
       "      <th>song_name</th>\n",
       "      <th>song_id</th>\n",
       "      <th>popularity</th>\n",
       "      <th>artist_name</th>\n",
       "      <th>speechiness</th>\n",
       "      <th>danceability</th>\n",
       "      <th>energy</th>\n",
       "      <th>liveness</th>\n",
       "      <th>valence</th>\n",
       "      <th>country</th>\n",
       "      <th>speechiness_binned</th>\n",
       "      <th>energy_binned</th>\n",
       "    </tr>\n",
       "    <tr>\n",
       "      <th>index</th>\n",
       "      <th></th>\n",
       "      <th></th>\n",
       "      <th></th>\n",
       "      <th></th>\n",
       "      <th></th>\n",
       "      <th></th>\n",
       "      <th></th>\n",
       "      <th></th>\n",
       "      <th></th>\n",
       "      <th></th>\n",
       "      <th></th>\n",
       "      <th></th>\n",
       "    </tr>\n",
       "  </thead>\n",
       "  <tbody>\n",
       "    <tr>\n",
       "      <th>1</th>\n",
       "      <td>Otro Trago</td>\n",
       "      <td>1Ej96GIBCTvgH7tNX1r3qr</td>\n",
       "      <td>94</td>\n",
       "      <td>Sech</td>\n",
       "      <td>0.3410</td>\n",
       "      <td>0.747</td>\n",
       "      <td>0.700</td>\n",
       "      <td>0.1100</td>\n",
       "      <td>0.620</td>\n",
       "      <td>argentina</td>\n",
       "      <td>5</td>\n",
       "      <td>7</td>\n",
       "    </tr>\n",
       "    <tr>\n",
       "      <th>2</th>\n",
       "      <td>Callaita</td>\n",
       "      <td>2TH65lNHgvLxCKXM3apjxI</td>\n",
       "      <td>93</td>\n",
       "      <td>Bad Bunny</td>\n",
       "      <td>0.3090</td>\n",
       "      <td>0.610</td>\n",
       "      <td>0.624</td>\n",
       "      <td>0.2430</td>\n",
       "      <td>0.244</td>\n",
       "      <td>argentina</td>\n",
       "      <td>5</td>\n",
       "      <td>7</td>\n",
       "    </tr>\n",
       "    <tr>\n",
       "      <th>3</th>\n",
       "      <td>Soltera - Remix</td>\n",
       "      <td>1c0hsvHLELX6y8qymnpLKL</td>\n",
       "      <td>92</td>\n",
       "      <td>Lunay</td>\n",
       "      <td>0.0432</td>\n",
       "      <td>0.795</td>\n",
       "      <td>0.783</td>\n",
       "      <td>0.4370</td>\n",
       "      <td>0.800</td>\n",
       "      <td>argentina</td>\n",
       "      <td>1</td>\n",
       "      <td>8</td>\n",
       "    </tr>\n",
       "    <tr>\n",
       "      <th>4</th>\n",
       "      <td>Señorita</td>\n",
       "      <td>0TK2YIli7K1leLovkQiNik</td>\n",
       "      <td>100</td>\n",
       "      <td>Shawn Mendes</td>\n",
       "      <td>0.0287</td>\n",
       "      <td>0.759</td>\n",
       "      <td>0.540</td>\n",
       "      <td>0.0945</td>\n",
       "      <td>0.750</td>\n",
       "      <td>argentina</td>\n",
       "      <td>1</td>\n",
       "      <td>6</td>\n",
       "    </tr>\n",
       "    <tr>\n",
       "      <th>5</th>\n",
       "      <td>Tal Vez</td>\n",
       "      <td>5jW3rF4URMdK7tO2xjS5EI</td>\n",
       "      <td>79</td>\n",
       "      <td>Paulo Londra</td>\n",
       "      <td>0.1510</td>\n",
       "      <td>0.855</td>\n",
       "      <td>0.649</td>\n",
       "      <td>0.0801</td>\n",
       "      <td>0.741</td>\n",
       "      <td>argentina</td>\n",
       "      <td>2</td>\n",
       "      <td>7</td>\n",
       "    </tr>\n",
       "  </tbody>\n",
       "</table>\n",
       "</div>"
      ],
      "text/plain": [
       "             song_name                 song_id  popularity   artist_name  \\\n",
       "index                                                                      \n",
       "1           Otro Trago  1Ej96GIBCTvgH7tNX1r3qr          94          Sech   \n",
       "2             Callaita  2TH65lNHgvLxCKXM3apjxI          93     Bad Bunny   \n",
       "3      Soltera - Remix  1c0hsvHLELX6y8qymnpLKL          92         Lunay   \n",
       "4             Señorita  0TK2YIli7K1leLovkQiNik         100  Shawn Mendes   \n",
       "5              Tal Vez  5jW3rF4URMdK7tO2xjS5EI          79  Paulo Londra   \n",
       "\n",
       "       speechiness  danceability  energy  liveness  valence    country  \\\n",
       "index                                                                    \n",
       "1           0.3410         0.747   0.700    0.1100    0.620  argentina   \n",
       "2           0.3090         0.610   0.624    0.2430    0.244  argentina   \n",
       "3           0.0432         0.795   0.783    0.4370    0.800  argentina   \n",
       "4           0.0287         0.759   0.540    0.0945    0.750  argentina   \n",
       "5           0.1510         0.855   0.649    0.0801    0.741  argentina   \n",
       "\n",
       "      speechiness_binned energy_binned  \n",
       "index                                   \n",
       "1                      5             7  \n",
       "2                      5             7  \n",
       "3                      1             8  \n",
       "4                      1             6  \n",
       "5                      2             7  "
      ]
     },
     "execution_count": 53,
     "metadata": {},
     "output_type": "execute_result"
    }
   ],
   "source": [
    "countries_df.dropna(axis=0, inplace = True)\n",
    "countries_df.head()"
   ]
  },
  {
   "cell_type": "code",
   "execution_count": 64,
   "metadata": {},
   "outputs": [
    {
     "data": {
      "image/png": "[encoded data removed]",
      "text/plain": [
       "<Figure size 1800x576 with 1 Axes>"
      ]
     },
     "metadata": {
      "needs_background": "light"
     },
     "output_type": "display_data"
    }
   ],
   "source": [
    "palette = ['#f0e594', '#57b884', '#ffab8d', '#f2cbac', '#ff6a9e']\n",
    "plt.figure(figsize=(25,8))\n",
    "ax2 = sns.barplot(x=countries_df[\"speechiness_binned\"], y=countries_df[\"popularity\"], hue = 'country', data = countries_df, palette = palette)\n",
    "plt.title('speechiness vs. popularity by country').set_fontsize(20)\n",
    "plt.xlabel('speechiness').set_fontsize(16)\n",
    "plt.ylabel('popularity ranking').set_fontsize(16)"
   ]
  },
  {
   "cell_type": "code",
   "execution_count": 56,
   "metadata": {},
   "outputs": [
    {
     "data": {
      "image/png": "[encoded data removed]",
      "text/plain": [
       "<Figure size 1080x576 with 1 Axes>"
      ]
     },
     "metadata": {
      "needs_background": "light"
     },
     "output_type": "display_data"
    }
   ],
   "source": [
    "plt.figure(figsize = (15, 8))\n",
    "ax3 = sns.boxplot(x=\"speechiness_binned\", y=\"popularity\", hue = 'country', data=countries_df, palette='Set3')"
   ]
  },
  {
   "cell_type": "code",
   "execution_count": 57,
   "metadata": {
    "scrolled": true
   },
   "outputs": [
    {
     "name": "stdout",
     "output_type": "stream",
     "text": [
      "Overall model F( 45, 577) =  1.645, p =  0.0062\n"
     ]
    },
    {
     "data": {
      "text/html": [
       "<table class=\"simpletable\">\n",
       "<caption>OLS Regression Results</caption>\n",
       "<tr>\n",
       "  <th>Dep. Variable:</th>       <td>popularity</td>    <th>  R-squared:         </th> <td>   0.114</td>\n",
       "</tr>\n",
       "<tr>\n",
       "  <th>Model:</th>                   <td>OLS</td>       <th>  Adj. R-squared:    </th> <td>   0.045</td>\n",
       "</tr>\n",
       "<tr>\n",
       "  <th>Method:</th>             <td>Least Squares</td>  <th>  F-statistic:       </th> <td>   1.645</td>\n",
       "</tr>\n",
       "<tr>\n",
       "  <th>Date:</th>             <td>Tue, 16 Jul 2019</td> <th>  Prob (F-statistic):</th>  <td>0.00617</td>\n",
       "</tr>\n",
       "<tr>\n",
       "  <th>Time:</th>                 <td>10:59:53</td>     <th>  Log-Likelihood:    </th> <td> -2615.7</td>\n",
       "</tr>\n",
       "<tr>\n",
       "  <th>No. Observations:</th>      <td>   623</td>      <th>  AIC:               </th> <td>   5323.</td>\n",
       "</tr>\n",
       "<tr>\n",
       "  <th>Df Residuals:</th>          <td>   577</td>      <th>  BIC:               </th> <td>   5527.</td>\n",
       "</tr>\n",
       "<tr>\n",
       "  <th>Df Model:</th>              <td>    45</td>      <th>                     </th>     <td> </td>   \n",
       "</tr>\n",
       "<tr>\n",
       "  <th>Covariance Type:</th>      <td>nonrobust</td>    <th>                     </th>     <td> </td>   \n",
       "</tr>\n",
       "</table>\n",
       "<table class=\"simpletable\">\n",
       "<tr>\n",
       "                           <td></td>                              <th>coef</th>     <th>std err</th>      <th>t</th>      <th>P>|t|</th>  <th>[0.025</th>    <th>0.975]</th>  \n",
       "</tr>\n",
       "<tr>\n",
       "  <th>Intercept</th>                                           <td>   72.4722</td> <td>    2.790</td> <td>   25.972</td> <td> 0.000</td> <td>   66.992</td> <td>   77.953</td>\n",
       "</tr>\n",
       "<tr>\n",
       "  <th>speechiness_binned[T.2]</th>                             <td>    5.0694</td> <td>    4.412</td> <td>    1.149</td> <td> 0.251</td> <td>   -3.596</td> <td>   13.735</td>\n",
       "</tr>\n",
       "<tr>\n",
       "  <th>speechiness_binned[T.3]</th>                             <td>   -3.2222</td> <td>    6.544</td> <td>   -0.492</td> <td> 0.623</td> <td>  -16.075</td> <td>    9.631</td>\n",
       "</tr>\n",
       "<tr>\n",
       "  <th>speechiness_binned[T.4]</th>                             <td>    5.0833</td> <td>    6.240</td> <td>    0.815</td> <td> 0.416</td> <td>   -7.172</td> <td>   17.338</td>\n",
       "</tr>\n",
       "<tr>\n",
       "  <th>speechiness_binned[T.5]</th>                             <td>   11.6944</td> <td>    7.383</td> <td>    1.584</td> <td> 0.114</td> <td>   -2.806</td> <td>   26.195</td>\n",
       "</tr>\n",
       "<tr>\n",
       "  <th>speechiness_binned[T.6]</th>                             <td>   14.5278</td> <td>    8.824</td> <td>    1.646</td> <td> 0.100</td> <td>   -2.803</td> <td>   31.859</td>\n",
       "</tr>\n",
       "<tr>\n",
       "  <th>speechiness_binned[T.7]</th>                             <td>    8.5278</td> <td>   16.973</td> <td>    0.502</td> <td> 0.616</td> <td>  -24.809</td> <td>   41.865</td>\n",
       "</tr>\n",
       "<tr>\n",
       "  <th>speechiness_binned[T.8]</th>                             <td>  -13.9722</td> <td>   12.163</td> <td>   -1.149</td> <td> 0.251</td> <td>  -37.862</td> <td>    9.917</td>\n",
       "</tr>\n",
       "<tr>\n",
       "  <th>speechiness_binned[T.9]</th>                             <td>  -13.9722</td> <td>   12.163</td> <td>   -1.149</td> <td> 0.251</td> <td>  -37.862</td> <td>    9.917</td>\n",
       "</tr>\n",
       "<tr>\n",
       "  <th>speechiness_binned[T.10]</th>                            <td>   -1.4186</td> <td>    7.952</td> <td>   -0.178</td> <td> 0.858</td> <td>  -17.038</td> <td>   14.201</td>\n",
       "</tr>\n",
       "<tr>\n",
       "  <th>C(country)[T.australia]</th>                             <td>    5.1693</td> <td>    3.616</td> <td>    1.430</td> <td> 0.153</td> <td>   -1.933</td> <td>   12.271</td>\n",
       "</tr>\n",
       "<tr>\n",
       "  <th>C(country)[T.brazil]</th>                                <td>   -3.0383</td> <td>    3.616</td> <td>   -0.840</td> <td> 0.401</td> <td>  -10.140</td> <td>    4.064</td>\n",
       "</tr>\n",
       "<tr>\n",
       "  <th>C(country)[T.philippines]</th>                           <td>   -3.2328</td> <td>    3.426</td> <td>   -0.944</td> <td> 0.346</td> <td>   -9.961</td> <td>    3.495</td>\n",
       "</tr>\n",
       "<tr>\n",
       "  <th>C(country)[T.romania]</th>                               <td>   -1.1687</td> <td>    3.577</td> <td>   -0.327</td> <td> 0.744</td> <td>   -8.193</td> <td>    5.856</td>\n",
       "</tr>\n",
       "<tr>\n",
       "  <th>C(country)[T.south_africa]</th>                          <td>   -3.4558</td> <td>    3.519</td> <td>   -0.982</td> <td> 0.326</td> <td>  -10.367</td> <td>    3.455</td>\n",
       "</tr>\n",
       "<tr>\n",
       "  <th>speechiness_binned[T.2]:C(country)[T.australia]</th>     <td>   -4.1892</td> <td>    6.078</td> <td>   -0.689</td> <td> 0.491</td> <td>  -16.127</td> <td>    7.749</td>\n",
       "</tr>\n",
       "<tr>\n",
       "  <th>speechiness_binned[T.3]:C(country)[T.australia]</th>     <td>    1.5807</td> <td>    8.726</td> <td>    0.181</td> <td> 0.856</td> <td>  -15.558</td> <td>   18.720</td>\n",
       "</tr>\n",
       "<tr>\n",
       "  <th>speechiness_binned[T.4]:C(country)[T.australia]</th>     <td>   -6.3248</td> <td>   10.014</td> <td>   -0.632</td> <td> 0.528</td> <td>  -25.993</td> <td>   13.344</td>\n",
       "</tr>\n",
       "<tr>\n",
       "  <th>speechiness_binned[T.5]:C(country)[T.australia]</th>     <td>  -20.6087</td> <td>    9.235</td> <td>   -2.232</td> <td> 0.026</td> <td>  -38.746</td> <td>   -2.471</td>\n",
       "</tr>\n",
       "<tr>\n",
       "  <th>speechiness_binned[T.6]:C(country)[T.australia]</th>     <td>   -6.5026</td> <td>   13.289</td> <td>   -0.489</td> <td> 0.625</td> <td>  -32.603</td> <td>   19.598</td>\n",
       "</tr>\n",
       "<tr>\n",
       "  <th>speechiness_binned[T.7]:C(country)[T.australia]</th>     <td>-1.062e-14</td> <td> 2.11e-14</td> <td>   -0.503</td> <td> 0.615</td> <td>-5.21e-14</td> <td> 3.09e-14</td>\n",
       "</tr>\n",
       "<tr>\n",
       "  <th>speechiness_binned[T.8]:C(country)[T.australia]</th>     <td>  -5.3e-15</td> <td> 1.21e-14</td> <td>   -0.437</td> <td> 0.662</td> <td>-2.91e-14</td> <td> 1.85e-14</td>\n",
       "</tr>\n",
       "<tr>\n",
       "  <th>speechiness_binned[T.9]:C(country)[T.australia]</th>     <td> 1.473e-14</td> <td> 1.18e-14</td> <td>    1.244</td> <td> 0.214</td> <td>-8.53e-15</td> <td>  3.8e-14</td>\n",
       "</tr>\n",
       "<tr>\n",
       "  <th>speechiness_binned[T.10]:C(country)[T.australia]</th>    <td> 2.034e-14</td> <td> 1.72e-14</td> <td>    1.186</td> <td> 0.236</td> <td>-1.33e-14</td> <td>  5.4e-14</td>\n",
       "</tr>\n",
       "<tr>\n",
       "  <th>speechiness_binned[T.2]:C(country)[T.brazil]</th>        <td>   -1.5560</td> <td>    6.286</td> <td>   -0.248</td> <td> 0.805</td> <td>  -13.901</td> <td>   10.789</td>\n",
       "</tr>\n",
       "<tr>\n",
       "  <th>speechiness_binned[T.3]:C(country)[T.brazil]</th>        <td>    9.1883</td> <td>   10.207</td> <td>    0.900</td> <td> 0.368</td> <td>  -10.858</td> <td>   29.235</td>\n",
       "</tr>\n",
       "<tr>\n",
       "  <th>speechiness_binned[T.4]:C(country)[T.brazil]</th>        <td>   -7.2951</td> <td>    8.681</td> <td>   -0.840</td> <td> 0.401</td> <td>  -24.346</td> <td>    9.756</td>\n",
       "</tr>\n",
       "<tr>\n",
       "  <th>speechiness_binned[T.5]:C(country)[T.brazil]</th>        <td>  -13.2713</td> <td>    9.992</td> <td>   -1.328</td> <td> 0.185</td> <td>  -32.896</td> <td>    6.354</td>\n",
       "</tr>\n",
       "<tr>\n",
       "  <th>speechiness_binned[T.6]:C(country)[T.brazil]</th>        <td>  -17.4617</td> <td>   11.396</td> <td>   -1.532</td> <td> 0.126</td> <td>  -39.845</td> <td>    4.921</td>\n",
       "</tr>\n",
       "<tr>\n",
       "  <th>speechiness_binned[T.7]:C(country)[T.brazil]</th>        <td>   -4.9617</td> <td>   20.822</td> <td>   -0.238</td> <td> 0.812</td> <td>  -45.857</td> <td>   35.934</td>\n",
       "</tr>\n",
       "<tr>\n",
       "  <th>speechiness_binned[T.8]:C(country)[T.brazil]</th>        <td>   21.5383</td> <td>   20.822</td> <td>    1.034</td> <td> 0.301</td> <td>  -19.357</td> <td>   62.434</td>\n",
       "</tr>\n",
       "<tr>\n",
       "  <th>speechiness_binned[T.9]:C(country)[T.brazil]</th>        <td>-3.379e-15</td> <td> 7.96e-15</td> <td>   -0.425</td> <td> 0.671</td> <td> -1.9e-14</td> <td> 1.22e-14</td>\n",
       "</tr>\n",
       "<tr>\n",
       "  <th>speechiness_binned[T.10]:C(country)[T.brazil]</th>       <td>-6.864e-15</td> <td> 4.46e-15</td> <td>   -1.539</td> <td> 0.124</td> <td>-1.56e-14</td> <td>  1.9e-15</td>\n",
       "</tr>\n",
       "<tr>\n",
       "  <th>speechiness_binned[T.2]:C(country)[T.philippines]</th>   <td>    5.1911</td> <td>    6.839</td> <td>    0.759</td> <td> 0.448</td> <td>   -8.241</td> <td>   18.624</td>\n",
       "</tr>\n",
       "<tr>\n",
       "  <th>speechiness_binned[T.3]:C(country)[T.philippines]</th>   <td>    4.4272</td> <td>    8.827</td> <td>    0.502</td> <td> 0.616</td> <td>  -12.910</td> <td>   21.765</td>\n",
       "</tr>\n",
       "<tr>\n",
       "  <th>speechiness_binned[T.4]:C(country)[T.philippines]</th>   <td>   -5.5728</td> <td>   10.628</td> <td>   -0.524</td> <td> 0.600</td> <td>  -26.447</td> <td>   15.302</td>\n",
       "</tr>\n",
       "<tr>\n",
       "  <th>speechiness_binned[T.5]:C(country)[T.philippines]</th>   <td>   -6.0589</td> <td>    9.669</td> <td>   -0.627</td> <td> 0.531</td> <td>  -25.050</td> <td>   12.932</td>\n",
       "</tr>\n",
       "<tr>\n",
       "  <th>speechiness_binned[T.6]:C(country)[T.philippines]</th>   <td> 4.797e-15</td> <td> 5.27e-15</td> <td>    0.910</td> <td> 0.363</td> <td>-5.55e-15</td> <td> 1.51e-14</td>\n",
       "</tr>\n",
       "<tr>\n",
       "  <th>speechiness_binned[T.7]:C(country)[T.philippines]</th>   <td>   -4.2672</td> <td>   20.789</td> <td>   -0.205</td> <td> 0.837</td> <td>  -45.099</td> <td>   36.565</td>\n",
       "</tr>\n",
       "<tr>\n",
       "  <th>speechiness_binned[T.8]:C(country)[T.philippines]</th>   <td> 2.086e-16</td> <td> 5.47e-15</td> <td>    0.038</td> <td> 0.970</td> <td>-1.05e-14</td> <td>  1.1e-14</td>\n",
       "</tr>\n",
       "<tr>\n",
       "  <th>speechiness_binned[T.9]:C(country)[T.philippines]</th>   <td> 3.013e-16</td> <td> 3.74e-15</td> <td>    0.081</td> <td> 0.936</td> <td>-7.04e-15</td> <td> 7.64e-15</td>\n",
       "</tr>\n",
       "<tr>\n",
       "  <th>speechiness_binned[T.10]:C(country)[T.philippines]</th>  <td>   -0.8208</td> <td>   12.570</td> <td>   -0.065</td> <td> 0.948</td> <td>  -25.508</td> <td>   23.867</td>\n",
       "</tr>\n",
       "<tr>\n",
       "  <th>speechiness_binned[T.2]:C(country)[T.romania]</th>       <td>    8.3770</td> <td>    6.480</td> <td>    1.293</td> <td> 0.197</td> <td>   -4.350</td> <td>   21.104</td>\n",
       "</tr>\n",
       "<tr>\n",
       "  <th>speechiness_binned[T.3]:C(country)[T.romania]</th>       <td>    0.8187</td> <td>    8.710</td> <td>    0.094</td> <td> 0.925</td> <td>  -16.288</td> <td>   17.926</td>\n",
       "</tr>\n",
       "<tr>\n",
       "  <th>speechiness_binned[T.4]:C(country)[T.romania]</th>       <td>  -19.1647</td> <td>    8.665</td> <td>   -2.212</td> <td> 0.027</td> <td>  -36.184</td> <td>   -2.146</td>\n",
       "</tr>\n",
       "<tr>\n",
       "  <th>speechiness_binned[T.5]:C(country)[T.romania]</th>       <td>   -5.6980</td> <td>    9.356</td> <td>   -0.609</td> <td> 0.543</td> <td>  -24.075</td> <td>   12.679</td>\n",
       "</tr>\n",
       "<tr>\n",
       "  <th>speechiness_binned[T.6]:C(country)[T.romania]</th>       <td>   11.6687</td> <td>   14.934</td> <td>    0.781</td> <td> 0.435</td> <td>  -17.663</td> <td>   41.000</td>\n",
       "</tr>\n",
       "<tr>\n",
       "  <th>speechiness_binned[T.7]:C(country)[T.romania]</th>       <td>    2.1687</td> <td>   23.946</td> <td>    0.091</td> <td> 0.928</td> <td>  -44.863</td> <td>   49.201</td>\n",
       "</tr>\n",
       "<tr>\n",
       "  <th>speechiness_binned[T.8]:C(country)[T.romania]</th>       <td>   12.6687</td> <td>   20.815</td> <td>    0.609</td> <td> 0.543</td> <td>  -28.213</td> <td>   53.551</td>\n",
       "</tr>\n",
       "<tr>\n",
       "  <th>speechiness_binned[T.9]:C(country)[T.romania]</th>       <td>         0</td> <td>        0</td> <td>      nan</td> <td>   nan</td> <td>        0</td> <td>        0</td>\n",
       "</tr>\n",
       "<tr>\n",
       "  <th>speechiness_binned[T.10]:C(country)[T.romania]</th>      <td>         0</td> <td>        0</td> <td>      nan</td> <td>   nan</td> <td>        0</td> <td>        0</td>\n",
       "</tr>\n",
       "<tr>\n",
       "  <th>speechiness_binned[T.2]:C(country)[T.south_africa]</th>  <td>    2.3142</td> <td>    6.171</td> <td>    0.375</td> <td> 0.708</td> <td>   -9.805</td> <td>   14.434</td>\n",
       "</tr>\n",
       "<tr>\n",
       "  <th>speechiness_binned[T.3]:C(country)[T.south_africa]</th>  <td>   11.3308</td> <td>    9.081</td> <td>    1.248</td> <td> 0.213</td> <td>   -6.504</td> <td>   29.166</td>\n",
       "</tr>\n",
       "<tr>\n",
       "  <th>speechiness_binned[T.4]:C(country)[T.south_africa]</th>  <td>  -19.8497</td> <td>    8.864</td> <td>   -2.239</td> <td> 0.026</td> <td>  -37.259</td> <td>   -2.441</td>\n",
       "</tr>\n",
       "<tr>\n",
       "  <th>speechiness_binned[T.5]:C(country)[T.south_africa]</th>  <td>   -8.1654</td> <td>    9.197</td> <td>   -0.888</td> <td> 0.375</td> <td>  -26.229</td> <td>    9.898</td>\n",
       "</tr>\n",
       "<tr>\n",
       "  <th>speechiness_binned[T.6]:C(country)[T.south_africa]</th>  <td>   13.9558</td> <td>   14.920</td> <td>    0.935</td> <td> 0.350</td> <td>  -15.349</td> <td>   43.260</td>\n",
       "</tr>\n",
       "<tr>\n",
       "  <th>speechiness_binned[T.7]:C(country)[T.south_africa]</th>  <td>    4.4558</td> <td>   23.937</td> <td>    0.186</td> <td> 0.852</td> <td>  -42.559</td> <td>   51.471</td>\n",
       "</tr>\n",
       "<tr>\n",
       "  <th>speechiness_binned[T.8]:C(country)[T.south_africa]</th>  <td>         0</td> <td>        0</td> <td>      nan</td> <td>   nan</td> <td>        0</td> <td>        0</td>\n",
       "</tr>\n",
       "<tr>\n",
       "  <th>speechiness_binned[T.9]:C(country)[T.south_africa]</th>  <td>         0</td> <td>        0</td> <td>      nan</td> <td>   nan</td> <td>        0</td> <td>        0</td>\n",
       "</tr>\n",
       "<tr>\n",
       "  <th>speechiness_binned[T.10]:C(country)[T.south_africa]</th> <td>   -0.5978</td> <td>   12.578</td> <td>   -0.048</td> <td> 0.962</td> <td>  -25.302</td> <td>   24.107</td>\n",
       "</tr>\n",
       "</table>\n",
       "<table class=\"simpletable\">\n",
       "<tr>\n",
       "  <th>Omnibus:</th>       <td>92.911</td> <th>  Durbin-Watson:     </th> <td>   1.438</td>\n",
       "</tr>\n",
       "<tr>\n",
       "  <th>Prob(Omnibus):</th> <td> 0.000</td> <th>  Jarque-Bera (JB):  </th> <td> 135.733</td>\n",
       "</tr>\n",
       "<tr>\n",
       "  <th>Skew:</th>          <td>-1.024</td> <th>  Prob(JB):          </th> <td>3.36e-30</td>\n",
       "</tr>\n",
       "<tr>\n",
       "  <th>Kurtosis:</th>      <td> 4.017</td> <th>  Cond. No.          </th> <td>1.10e+16</td>\n",
       "</tr>\n",
       "</table><br/><br/>Warnings:<br/>[1] Standard Errors assume that the covariance matrix of the errors is correctly specified.<br/>[2] The smallest eigenvalue is 6.22e-30. This might indicate that there are<br/>strong multicollinearity problems or that the design matrix is singular."
      ],
      "text/plain": [
       "<class 'statsmodels.iolib.summary.Summary'>\n",
       "\"\"\"\n",
       "                            OLS Regression Results                            \n",
       "==============================================================================\n",
       "Dep. Variable:             popularity   R-squared:                       0.114\n",
       "Model:                            OLS   Adj. R-squared:                  0.045\n",
       "Method:                 Least Squares   F-statistic:                     1.645\n",
       "Date:                Tue, 16 Jul 2019   Prob (F-statistic):            0.00617\n",
       "Time:                        10:59:53   Log-Likelihood:                -2615.7\n",
       "No. Observations:                 623   AIC:                             5323.\n",
       "Df Residuals:                     577   BIC:                             5527.\n",
       "Df Model:                          45                                         \n",
       "Covariance Type:            nonrobust                                         \n",
       "=======================================================================================================================\n",
       "                                                          coef    std err          t      P>|t|      [0.025      0.975]\n",
       "-----------------------------------------------------------------------------------------------------------------------\n",
       "Intercept                                              72.4722      2.790     25.972      0.000      66.992      77.953\n",
       "speechiness_binned[T.2]                                 5.0694      4.412      1.149      0.251      -3.596      13.735\n",
       "speechiness_binned[T.3]                                -3.2222      6.544     -0.492      0.623     -16.075       9.631\n",
       "speechiness_binned[T.4]                                 5.0833      6.240      0.815      0.416      -7.172      17.338\n",
       "speechiness_binned[T.5]                                11.6944      7.383      1.584      0.114      -2.806      26.195\n",
       "speechiness_binned[T.6]                                14.5278      8.824      1.646      0.100      -2.803      31.859\n",
       "speechiness_binned[T.7]                                 8.5278     16.973      0.502      0.616     -24.809      41.865\n",
       "speechiness_binned[T.8]                               -13.9722     12.163     -1.149      0.251     -37.862       9.917\n",
       "speechiness_binned[T.9]                               -13.9722     12.163     -1.149      0.251     -37.862       9.917\n",
       "speechiness_binned[T.10]                               -1.4186      7.952     -0.178      0.858     -17.038      14.201\n",
       "C(country)[T.australia]                                 5.1693      3.616      1.430      0.153      -1.933      12.271\n",
       "C(country)[T.brazil]                                   -3.0383      3.616     -0.840      0.401     -10.140       4.064\n",
       "C(country)[T.philippines]                              -3.2328      3.426     -0.944      0.346      -9.961       3.495\n",
       "C(country)[T.romania]                                  -1.1687      3.577     -0.327      0.744      -8.193       5.856\n",
       "C(country)[T.south_africa]                             -3.4558      3.519     -0.982      0.326     -10.367       3.455\n",
       "speechiness_binned[T.2]:C(country)[T.australia]        -4.1892      6.078     -0.689      0.491     -16.127       7.749\n",
       "speechiness_binned[T.3]:C(country)[T.australia]         1.5807      8.726      0.181      0.856     -15.558      18.720\n",
       "speechiness_binned[T.4]:C(country)[T.australia]        -6.3248     10.014     -0.632      0.528     -25.993      13.344\n",
       "speechiness_binned[T.5]:C(country)[T.australia]       -20.6087      9.235     -2.232      0.026     -38.746      -2.471\n",
       "speechiness_binned[T.6]:C(country)[T.australia]        -6.5026     13.289     -0.489      0.625     -32.603      19.598\n",
       "speechiness_binned[T.7]:C(country)[T.australia]     -1.062e-14   2.11e-14     -0.503      0.615   -5.21e-14    3.09e-14\n",
       "speechiness_binned[T.8]:C(country)[T.australia]       -5.3e-15   1.21e-14     -0.437      0.662   -2.91e-14    1.85e-14\n",
       "speechiness_binned[T.9]:C(country)[T.australia]      1.473e-14   1.18e-14      1.244      0.214   -8.53e-15     3.8e-14\n",
       "speechiness_binned[T.10]:C(country)[T.australia]     2.034e-14   1.72e-14      1.186      0.236   -1.33e-14     5.4e-14\n",
       "speechiness_binned[T.2]:C(country)[T.brazil]           -1.5560      6.286     -0.248      0.805     -13.901      10.789\n",
       "speechiness_binned[T.3]:C(country)[T.brazil]            9.1883     10.207      0.900      0.368     -10.858      29.235\n",
       "speechiness_binned[T.4]:C(country)[T.brazil]           -7.2951      8.681     -0.840      0.401     -24.346       9.756\n",
       "speechiness_binned[T.5]:C(country)[T.brazil]          -13.2713      9.992     -1.328      0.185     -32.896       6.354\n",
       "speechiness_binned[T.6]:C(country)[T.brazil]          -17.4617     11.396     -1.532      0.126     -39.845       4.921\n",
       "speechiness_binned[T.7]:C(country)[T.brazil]           -4.9617     20.822     -0.238      0.812     -45.857      35.934\n",
       "speechiness_binned[T.8]:C(country)[T.brazil]           21.5383     20.822      1.034      0.301     -19.357      62.434\n",
       "speechiness_binned[T.9]:C(country)[T.brazil]        -3.379e-15   7.96e-15     -0.425      0.671    -1.9e-14    1.22e-14\n",
       "speechiness_binned[T.10]:C(country)[T.brazil]       -6.864e-15   4.46e-15     -1.539      0.124   -1.56e-14     1.9e-15\n",
       "speechiness_binned[T.2]:C(country)[T.philippines]       5.1911      6.839      0.759      0.448      -8.241      18.624\n",
       "speechiness_binned[T.3]:C(country)[T.philippines]       4.4272      8.827      0.502      0.616     -12.910      21.765\n",
       "speechiness_binned[T.4]:C(country)[T.philippines]      -5.5728     10.628     -0.524      0.600     -26.447      15.302\n",
       "speechiness_binned[T.5]:C(country)[T.philippines]      -6.0589      9.669     -0.627      0.531     -25.050      12.932\n",
       "speechiness_binned[T.6]:C(country)[T.philippines]    4.797e-15   5.27e-15      0.910      0.363   -5.55e-15    1.51e-14\n",
       "speechiness_binned[T.7]:C(country)[T.philippines]      -4.2672     20.789     -0.205      0.837     -45.099      36.565\n",
       "speechiness_binned[T.8]:C(country)[T.philippines]    2.086e-16   5.47e-15      0.038      0.970   -1.05e-14     1.1e-14\n",
       "speechiness_binned[T.9]:C(country)[T.philippines]    3.013e-16   3.74e-15      0.081      0.936   -7.04e-15    7.64e-15\n",
       "speechiness_binned[T.10]:C(country)[T.philippines]     -0.8208     12.570     -0.065      0.948     -25.508      23.867\n",
       "speechiness_binned[T.2]:C(country)[T.romania]           8.3770      6.480      1.293      0.197      -4.350      21.104\n",
       "speechiness_binned[T.3]:C(country)[T.romania]           0.8187      8.710      0.094      0.925     -16.288      17.926\n",
       "speechiness_binned[T.4]:C(country)[T.romania]         -19.1647      8.665     -2.212      0.027     -36.184      -2.146\n",
       "speechiness_binned[T.5]:C(country)[T.romania]          -5.6980      9.356     -0.609      0.543     -24.075      12.679\n",
       "speechiness_binned[T.6]:C(country)[T.romania]          11.6687     14.934      0.781      0.435     -17.663      41.000\n",
       "speechiness_binned[T.7]:C(country)[T.romania]           2.1687     23.946      0.091      0.928     -44.863      49.201\n",
       "speechiness_binned[T.8]:C(country)[T.romania]          12.6687     20.815      0.609      0.543     -28.213      53.551\n",
       "speechiness_binned[T.9]:C(country)[T.romania]                0          0        nan        nan           0           0\n",
       "speechiness_binned[T.10]:C(country)[T.romania]               0          0        nan        nan           0           0\n",
       "speechiness_binned[T.2]:C(country)[T.south_africa]      2.3142      6.171      0.375      0.708      -9.805      14.434\n",
       "speechiness_binned[T.3]:C(country)[T.south_africa]     11.3308      9.081      1.248      0.213      -6.504      29.166\n",
       "speechiness_binned[T.4]:C(country)[T.south_africa]    -19.8497      8.864     -2.239      0.026     -37.259      -2.441\n",
       "speechiness_binned[T.5]:C(country)[T.south_africa]     -8.1654      9.197     -0.888      0.375     -26.229       9.898\n",
       "speechiness_binned[T.6]:C(country)[T.south_africa]     13.9558     14.920      0.935      0.350     -15.349      43.260\n",
       "speechiness_binned[T.7]:C(country)[T.south_africa]      4.4558     23.937      0.186      0.852     -42.559      51.471\n",
       "speechiness_binned[T.8]:C(country)[T.south_africa]           0          0        nan        nan           0           0\n",
       "speechiness_binned[T.9]:C(country)[T.south_africa]           0          0        nan        nan           0           0\n",
       "speechiness_binned[T.10]:C(country)[T.south_africa]    -0.5978     12.578     -0.048      0.962     -25.302      24.107\n",
       "==============================================================================\n",
       "Omnibus:                       92.911   Durbin-Watson:                   1.438\n",
       "Prob(Omnibus):                  0.000   Jarque-Bera (JB):              135.733\n",
       "Skew:                          -1.024   Prob(JB):                     3.36e-30\n",
       "Kurtosis:                       4.017   Cond. No.                     1.10e+16\n",
       "==============================================================================\n",
       "\n",
       "Warnings:\n",
       "[1] Standard Errors assume that the covariance matrix of the errors is correctly specified.\n",
       "[2] The smallest eigenvalue is 6.22e-30. This might indicate that there are\n",
       "strong multicollinearity problems or that the design matrix is singular.\n",
       "\"\"\""
      ]
     },
     "execution_count": 57,
     "metadata": {},
     "output_type": "execute_result"
    }
   ],
   "source": [
    "model3 = ols('popularity~ speechiness_binned * C(country)', countries_df).fit()\n",
    "print(f\"Overall model F({model3.df_model: .0f},{model3.df_resid: .0f}) = {model3.fvalue: .3f}, p = {model3.f_pvalue: .4f}\")\n",
    "model3.summary()"
   ]
  },
  {
   "cell_type": "code",
   "execution_count": 66,
   "metadata": {},
   "outputs": [
    {
     "data": {
      "text/html": [
       "<div>\n",
       "<style scoped>\n",
       "    .dataframe tbody tr th:only-of-type {\n",
       "        vertical-align: middle;\n",
       "    }\n",
       "\n",
       "    .dataframe tbody tr th {\n",
       "        vertical-align: top;\n",
       "    }\n",
       "\n",
       "    .dataframe thead th {\n",
       "        text-align: right;\n",
       "    }\n",
       "</style>\n",
       "<table border=\"1\" class=\"dataframe\">\n",
       "  <thead>\n",
       "    <tr style=\"text-align: right;\">\n",
       "      <th></th>\n",
       "      <th>df</th>\n",
       "      <th>sum_sq</th>\n",
       "      <th>mean_sq</th>\n",
       "      <th>F</th>\n",
       "      <th>PR(&gt;F)</th>\n",
       "      <th>eta_sq</th>\n",
       "    </tr>\n",
       "  </thead>\n",
       "  <tbody>\n",
       "    <tr>\n",
       "      <th>speechiness_binned</th>\n",
       "      <td>9.0</td>\n",
       "      <td>8055.992734</td>\n",
       "      <td>895.110304</td>\n",
       "      <td>3.193283</td>\n",
       "      <td>0.000878</td>\n",
       "      <td>0.043710</td>\n",
       "    </tr>\n",
       "    <tr>\n",
       "      <th>C(country)</th>\n",
       "      <td>5.0</td>\n",
       "      <td>3330.240027</td>\n",
       "      <td>666.048005</td>\n",
       "      <td>2.376109</td>\n",
       "      <td>0.037776</td>\n",
       "      <td>0.018069</td>\n",
       "    </tr>\n",
       "    <tr>\n",
       "      <th>speechiness_binned:C(country)</th>\n",
       "      <td>45.0</td>\n",
       "      <td>11179.771000</td>\n",
       "      <td>248.439356</td>\n",
       "      <td>0.886301</td>\n",
       "      <td>0.683894</td>\n",
       "      <td>0.060659</td>\n",
       "    </tr>\n",
       "    <tr>\n",
       "      <th>Residual</th>\n",
       "      <td>577.0</td>\n",
       "      <td>161739.098861</td>\n",
       "      <td>280.310397</td>\n",
       "      <td>NaN</td>\n",
       "      <td>NaN</td>\n",
       "      <td>NaN</td>\n",
       "    </tr>\n",
       "  </tbody>\n",
       "</table>\n",
       "</div>"
      ],
      "text/plain": [
       "                                  df         sum_sq     mean_sq         F  \\\n",
       "speechiness_binned               9.0    8055.992734  895.110304  3.193283   \n",
       "C(country)                       5.0    3330.240027  666.048005  2.376109   \n",
       "speechiness_binned:C(country)   45.0   11179.771000  248.439356  0.886301   \n",
       "Residual                       577.0  161739.098861  280.310397       NaN   \n",
       "\n",
       "                                 PR(>F)    eta_sq  \n",
       "speechiness_binned             0.000878  0.043710  \n",
       "C(country)                     0.037776  0.018069  \n",
       "speechiness_binned:C(country)  0.683894  0.060659  \n",
       "Residual                            NaN       NaN  "
      ]
     },
     "execution_count": 66,
     "metadata": {},
     "output_type": "execute_result"
    }
   ],
   "source": [
    "anova_table2 = sm.stats.anova_lm(model3, type= 2)\n",
    "anova_table2\n",
    "anova_table2['eta_sq'] = anova_table2[:-1]['sum_sq']/sum(anova_table2['sum_sq'])\n",
    "anova_table2"
   ]
  },
  {
   "cell_type": "code",
   "execution_count": 60,
   "metadata": {},
   "outputs": [
    {
     "name": "stdout",
     "output_type": "stream",
     "text": [
      "    Multiple Comparison of Means - Tukey HSD,FWER=0.05   \n",
      "=========================================================\n",
      "   group1      group2    meandiff  lower    upper  reject\n",
      "---------------------------------------------------------\n",
      " argentina   australia    2.023   -4.9251   8.9711 False \n",
      " argentina     brazil    -4.8423  -11.8379  2.1533 False \n",
      " argentina  philippines   -3.938  -10.8557  2.9796 False \n",
      " argentina    romania    -1.8151  -8.7632   5.133  False \n",
      " argentina  south_africa -4.0788  -10.9247  2.7671 False \n",
      " australia     brazil    -6.8653  -13.6294 -0.1012  True \n",
      " australia  philippines   -5.961  -12.6445  0.7224 False \n",
      " australia    romania    -3.8381  -10.553   2.8768 False \n",
      " australia  south_africa -6.1018  -12.7109  0.5074 False \n",
      "   brazil   philippines   0.9043  -5.8286   7.6371 False \n",
      "   brazil     romania     3.0272  -3.7369   9.7913 False \n",
      "   brazil   south_africa  0.7635  -5.8957   7.4226 False \n",
      "philippines   romania     2.1229  -4.5605   8.8064 False \n",
      "philippines south_africa -0.1408   -6.718   6.4364 False \n",
      "  romania   south_africa -2.2637  -8.8728   4.3455 False \n",
      "---------------------------------------------------------\n"
     ]
    }
   ],
   "source": [
    "mc2 = sm.stats.multicomp.MultiComparison(countries_df['popularity'], countries_df['country'])\n",
    "mc2_results = mc2.tukeyhsd()\n",
    "print(mc2_results)"
   ]
  },
  {
   "cell_type": "code",
   "execution_count": 62,
   "metadata": {
    "scrolled": true
   },
   "outputs": [
    {
     "name": "stdout",
     "output_type": "stream",
     "text": [
      "Multiple Comparison of Means - Tukey HSD,FWER=0.05\n",
      "==============================================\n",
      "group1 group2 meandiff  lower    upper  reject\n",
      "----------------------------------------------\n",
      "  1      10   -4.2818  -42.2736  33.71  False \n",
      "  1      2     6.7094   0.8901  12.5288  True \n",
      "  1      3     1.3382  -6.7909   9.4673 False \n",
      "  1      4    -5.1682  -13.7652  3.4288 False \n",
      "  1      5     2.4163  -5.5105  10.3431 False \n",
      "  1      6    10.7182   -2.604  24.0404 False \n",
      "  1      7     5.5753  -14.8845 26.0352 False \n",
      "  1      8    -5.2818  -32.2269 21.6633 False \n",
      "  1      9    -12.7818 -50.7736  25.21  False \n",
      "  10     2    10.9912  -27.2168 49.1993 False \n",
      "  10     3      5.62   -33.0073 44.2473 False \n",
      "  10     4    -0.8864  -39.6149 37.8421 False \n",
      "  10     5     6.6981  -31.8871 45.2834 False \n",
      "  10     6      15.0   -25.0433 55.0433 False \n",
      "  10     7     9.8571  -33.0916 52.8059 False \n",
      "  10     8      -1.0   -47.3899 45.3899 False \n",
      "  10     9      -8.5   -62.0665 45.0665 False \n",
      "  2      3    -5.3712  -14.4573  3.7149 False \n",
      "  2      4    -11.8776 -21.3846 -2.3706  True \n",
      "  2      5    -4.2931  -13.1987  4.6124 False \n",
      "  2      6     4.0088   -9.918  17.9356 False \n",
      "  2      7    -1.1341  -21.9926 19.7245 False \n",
      "  2      8    -11.9912 -39.2403 15.2578 False \n",
      "  2      9    -19.4912 -57.6993 18.7168 False \n",
      "  3      4    -6.5064  -17.5789  4.5661 False \n",
      "  3      5     1.0781  -9.4825  11.6387 False \n",
      "  3      6      9.38   -5.6591  24.4191 False \n",
      "  3      7     4.2371  -17.3799 25.8542 False \n",
      "  3      8     -6.62   -34.454   21.214 False \n",
      "  3      9     -14.12  -52.7473 24.5073 False \n",
      "  4      5     7.5845  -3.3404  18.5093 False \n",
      "  4      6    15.8864   0.5893  31.1834  True \n",
      "  4      7    10.7435  -11.0538 32.5408 False \n",
      "  4      8    -0.1136  -28.0878 27.8605 False \n",
      "  4      9    -7.6136  -46.3421 31.1149 False \n",
      "  5      6     8.3019  -6.6288  23.2326 False \n",
      "  5      7     3.159   -18.3828 24.7008 False \n",
      "  5      8    -7.6981  -35.4737 20.0774 False \n",
      "  5      9    -15.1981 -53.7834 23.3871 False \n",
      "  6      7    -5.1429  -29.199  18.9132 False \n",
      "  6      8     -16.0   -45.7679 13.7679 False \n",
      "  6      9     -23.5   -63.5433 16.5433 False \n",
      "  7      8    -10.8571 -44.4317 22.7174 False \n",
      "  7      9    -18.3571 -61.3059 24.5916 False \n",
      "  8      9      -7.5   -53.8899 38.8899 False \n",
      "----------------------------------------------\n"
     ]
    }
   ],
   "source": [
    "mc2 = sm.stats.multicomp.MultiComparison(countries_df['popularity'], countries_df['speechiness_binned'])\n",
    "mc2_results = mc2.tukeyhsd()\n",
    "print(mc2_results)"
   ]
  }
 ],
 "metadata": {
  "kernelspec": {
   "display_name": "Python 3",
   "language": "python",
   "name": "python3"
  },
  "language_info": {
   "codemirror_mode": {
    "name": "ipython",
    "version": 3
   },
   "file_extension": ".py",
   "mimetype": "text/x-python",
   "name": "python",
   "nbconvert_exporter": "python",
   "pygments_lexer": "ipython3",
   "version": "3.7.3"
  }
 },
 "nbformat": 4,
 "nbformat_minor": 2
}
