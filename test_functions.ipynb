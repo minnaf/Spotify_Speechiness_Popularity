{
 "cells": [
  {
   "cell_type": "code",
   "execution_count": 1,
   "metadata": {},
   "outputs": [],
   "source": [
    "import minna_functions as mf"
   ]
  },
  {
   "cell_type": "code",
   "execution_count": 2,
   "metadata": {},
   "outputs": [],
   "source": [
    "get_playlist = mf.get_spotify_playlist('BQD-YFHHfR4bgdzxHuqYiB36E1OqyMGc9w2GuJSjItIymJPn0D2rmCujOxrkq7l6f5oahRE0lDNo1KjWuIhAQoZSBjZYp7Ugixokb3uou4hOwoP4nNPD26bLCFG85idTtKSVHdm2eG_zz6CKbI0')"
   ]
  },
  {
   "cell_type": "code",
   "execution_count": 3,
   "metadata": {
    "scrolled": true
   },
   "outputs": [],
   "source": [
    "get_playlist.get_playlist_SQL('4JgPn5zouXilXoM2v1Istn', 'test')"
   ]
  },
  {
   "cell_type": "code",
   "execution_count": null,
   "metadata": {},
   "outputs": [],
   "source": []
  },
  {
   "cell_type": "code",
   "execution_count": 4,
   "metadata": {},
   "outputs": [
    {
     "data": {
      "text/html": [
       "<div>\n",
       "<style scoped>\n",
       "    .dataframe tbody tr th:only-of-type {\n",
       "        vertical-align: middle;\n",
       "    }\n",
       "\n",
       "    .dataframe tbody tr th {\n",
       "        vertical-align: top;\n",
       "    }\n",
       "\n",
       "    .dataframe thead th {\n",
       "        text-align: right;\n",
       "    }\n",
       "</style>\n",
       "<table border=\"1\" class=\"dataframe\">\n",
       "  <thead>\n",
       "    <tr style=\"text-align: right;\">\n",
       "      <th></th>\n",
       "      <th>song_name</th>\n",
       "      <th>song_id</th>\n",
       "      <th>popularity</th>\n",
       "      <th>artist_name</th>\n",
       "      <th>speechiness</th>\n",
       "      <th>danceability</th>\n",
       "    </tr>\n",
       "    <tr>\n",
       "      <th>index</th>\n",
       "      <th></th>\n",
       "      <th></th>\n",
       "      <th></th>\n",
       "      <th></th>\n",
       "      <th></th>\n",
       "      <th></th>\n",
       "    </tr>\n",
       "  </thead>\n",
       "  <tbody>\n",
       "    <tr>\n",
       "      <th>1</th>\n",
       "      <td>bad guy</td>\n",
       "      <td>2Fxmhks0bxGSBdJ92vM42m</td>\n",
       "      <td>98</td>\n",
       "      <td>Billie Eilish</td>\n",
       "      <td>None</td>\n",
       "      <td>None</td>\n",
       "    </tr>\n",
       "    <tr>\n",
       "      <th>2</th>\n",
       "      <td>Goodbyes (Feat. Young Thug)</td>\n",
       "      <td>6vBdBCoOhKHiYDDOcorfNo</td>\n",
       "      <td>89</td>\n",
       "      <td>Post Malone</td>\n",
       "      <td>None</td>\n",
       "      <td>None</td>\n",
       "    </tr>\n",
       "    <tr>\n",
       "      <th>3</th>\n",
       "      <td>Señorita</td>\n",
       "      <td>0TK2YIli7K1leLovkQiNik</td>\n",
       "      <td>100</td>\n",
       "      <td>Shawn Mendes</td>\n",
       "      <td>None</td>\n",
       "      <td>None</td>\n",
       "    </tr>\n",
       "    <tr>\n",
       "      <th>4</th>\n",
       "      <td>Money In The Grave (Drake ft. Rick Ross)</td>\n",
       "      <td>5ry2OE6R2zPQFDO85XkgRb</td>\n",
       "      <td>93</td>\n",
       "      <td>Drake</td>\n",
       "      <td>None</td>\n",
       "      <td>None</td>\n",
       "    </tr>\n",
       "    <tr>\n",
       "      <th>5</th>\n",
       "      <td>Panini</td>\n",
       "      <td>6fTt0CH2t0mdeB2N9XFG5r</td>\n",
       "      <td>91</td>\n",
       "      <td>Lil Nas X</td>\n",
       "      <td>None</td>\n",
       "      <td>None</td>\n",
       "    </tr>\n",
       "  </tbody>\n",
       "</table>\n",
       "</div>"
      ],
      "text/plain": [
       "                                      song_name                 song_id  \\\n",
       "index                                                                     \n",
       "1                                       bad guy  2Fxmhks0bxGSBdJ92vM42m   \n",
       "2                   Goodbyes (Feat. Young Thug)  6vBdBCoOhKHiYDDOcorfNo   \n",
       "3                                      Señorita  0TK2YIli7K1leLovkQiNik   \n",
       "4      Money In The Grave (Drake ft. Rick Ross)  5ry2OE6R2zPQFDO85XkgRb   \n",
       "5                                        Panini  6fTt0CH2t0mdeB2N9XFG5r   \n",
       "\n",
       "       popularity    artist_name speechiness danceability  \n",
       "index                                                      \n",
       "1              98  Billie Eilish        None         None  \n",
       "2              89    Post Malone        None         None  \n",
       "3             100   Shawn Mendes        None         None  \n",
       "4              93          Drake        None         None  \n",
       "5              91      Lil Nas X        None         None  "
      ]
     },
     "execution_count": 4,
     "metadata": {},
     "output_type": "execute_result"
    }
   ],
   "source": [
    "df = get_playlist.SQL_to_dataframe('test')\n",
    "df.head()"
   ]
  },
  {
   "cell_type": "code",
   "execution_count": 5,
   "metadata": {},
   "outputs": [
    {
     "name": "stdout",
     "output_type": "stream",
     "text": [
      "None\n"
     ]
    }
   ],
   "source": [
    "df2 = get_playlist.song_audio_features(df, 'test')"
   ]
  },
  {
   "cell_type": "code",
   "execution_count": 6,
   "metadata": {},
   "outputs": [
    {
     "data": {
      "text/html": [
       "<div>\n",
       "<style scoped>\n",
       "    .dataframe tbody tr th:only-of-type {\n",
       "        vertical-align: middle;\n",
       "    }\n",
       "\n",
       "    .dataframe tbody tr th {\n",
       "        vertical-align: top;\n",
       "    }\n",
       "\n",
       "    .dataframe thead th {\n",
       "        text-align: right;\n",
       "    }\n",
       "</style>\n",
       "<table border=\"1\" class=\"dataframe\">\n",
       "  <thead>\n",
       "    <tr style=\"text-align: right;\">\n",
       "      <th></th>\n",
       "      <th>song_name</th>\n",
       "      <th>song_id</th>\n",
       "      <th>popularity</th>\n",
       "      <th>artist_name</th>\n",
       "      <th>speechiness</th>\n",
       "      <th>danceability</th>\n",
       "    </tr>\n",
       "    <tr>\n",
       "      <th>index</th>\n",
       "      <th></th>\n",
       "      <th></th>\n",
       "      <th></th>\n",
       "      <th></th>\n",
       "      <th></th>\n",
       "      <th></th>\n",
       "    </tr>\n",
       "  </thead>\n",
       "  <tbody>\n",
       "    <tr>\n",
       "      <th>1</th>\n",
       "      <td>bad guy</td>\n",
       "      <td>2Fxmhks0bxGSBdJ92vM42m</td>\n",
       "      <td>98</td>\n",
       "      <td>Billie Eilish</td>\n",
       "      <td>0.3750</td>\n",
       "      <td>0.701</td>\n",
       "    </tr>\n",
       "    <tr>\n",
       "      <th>2</th>\n",
       "      <td>Goodbyes (Feat. Young Thug)</td>\n",
       "      <td>6vBdBCoOhKHiYDDOcorfNo</td>\n",
       "      <td>89</td>\n",
       "      <td>Post Malone</td>\n",
       "      <td>0.0809</td>\n",
       "      <td>0.593</td>\n",
       "    </tr>\n",
       "    <tr>\n",
       "      <th>3</th>\n",
       "      <td>Señorita</td>\n",
       "      <td>0TK2YIli7K1leLovkQiNik</td>\n",
       "      <td>100</td>\n",
       "      <td>Shawn Mendes</td>\n",
       "      <td>0.0287</td>\n",
       "      <td>0.759</td>\n",
       "    </tr>\n",
       "    <tr>\n",
       "      <th>4</th>\n",
       "      <td>Money In The Grave (Drake ft. Rick Ross)</td>\n",
       "      <td>5ry2OE6R2zPQFDO85XkgRb</td>\n",
       "      <td>93</td>\n",
       "      <td>Drake</td>\n",
       "      <td>0.0460</td>\n",
       "      <td>0.831</td>\n",
       "    </tr>\n",
       "    <tr>\n",
       "      <th>5</th>\n",
       "      <td>Panini</td>\n",
       "      <td>6fTt0CH2t0mdeB2N9XFG5r</td>\n",
       "      <td>91</td>\n",
       "      <td>Lil Nas X</td>\n",
       "      <td>0.0752</td>\n",
       "      <td>0.703</td>\n",
       "    </tr>\n",
       "  </tbody>\n",
       "</table>\n",
       "</div>"
      ],
      "text/plain": [
       "                                      song_name                 song_id  \\\n",
       "index                                                                     \n",
       "1                                       bad guy  2Fxmhks0bxGSBdJ92vM42m   \n",
       "2                   Goodbyes (Feat. Young Thug)  6vBdBCoOhKHiYDDOcorfNo   \n",
       "3                                      Señorita  0TK2YIli7K1leLovkQiNik   \n",
       "4      Money In The Grave (Drake ft. Rick Ross)  5ry2OE6R2zPQFDO85XkgRb   \n",
       "5                                        Panini  6fTt0CH2t0mdeB2N9XFG5r   \n",
       "\n",
       "       popularity    artist_name  speechiness  danceability  \n",
       "index                                                        \n",
       "1              98  Billie Eilish       0.3750         0.701  \n",
       "2              89    Post Malone       0.0809         0.593  \n",
       "3             100   Shawn Mendes       0.0287         0.759  \n",
       "4              93          Drake       0.0460         0.831  \n",
       "5              91      Lil Nas X       0.0752         0.703  "
      ]
     },
     "execution_count": 6,
     "metadata": {},
     "output_type": "execute_result"
    }
   ],
   "source": [
    "df2.head()"
   ]
  },
  {
   "cell_type": "code",
   "execution_count": 6,
   "metadata": {},
   "outputs": [],
   "source": [
    "import sqlite3"
   ]
  },
  {
   "cell_type": "code",
   "execution_count": 7,
   "metadata": {},
   "outputs": [],
   "source": [
    "conn = sqlite3.connect('spotify.db')"
   ]
  },
  {
   "cell_type": "code",
   "execution_count": 8,
   "metadata": {},
   "outputs": [],
   "source": [
    "c = conn.cursor()"
   ]
  },
  {
   "cell_type": "code",
   "execution_count": 9,
   "metadata": {},
   "outputs": [
    {
     "data": {
      "text/plain": [
       "<sqlite3.Cursor at 0x109dfa570>"
      ]
     },
     "execution_count": 9,
     "metadata": {},
     "output_type": "execute_result"
    }
   ],
   "source": [
    "c.execute('''DROP TABLE test''')"
   ]
  },
  {
   "cell_type": "code",
   "execution_count": null,
   "metadata": {},
   "outputs": [],
   "source": []
  }
 ],
 "metadata": {
  "kernelspec": {
   "display_name": "Python 3",
   "language": "python",
   "name": "python3"
  },
  "language_info": {
   "codemirror_mode": {
    "name": "ipython",
    "version": 3
   },
   "file_extension": ".py",
   "mimetype": "text/x-python",
   "name": "python",
   "nbconvert_exporter": "python",
   "pygments_lexer": "ipython3",
   "version": "3.7.3"
  }
 },
 "nbformat": 4,
 "nbformat_minor": 2
}
